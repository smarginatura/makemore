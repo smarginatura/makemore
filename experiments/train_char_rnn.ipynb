{
  "cells": [
    {
      "cell_type": "code",
      "execution_count": 1,
      "metadata": {
        "id": "nGD7GPcLM61O",
        "colab": {
          "base_uri": "https://localhost:8080/"
        },
        "outputId": "7dbf448e-a4ca-4062-dc4a-d35000ccb23e"
      },
      "outputs": [
        {
          "output_type": "stream",
          "name": "stdout",
          "text": [
            "\u001b[2K     \u001b[90m━━━━━━━━━━━━━━━━━━━━━━━━━━━━━━━━━━━━━━━━\u001b[0m \u001b[32m6.7/6.7 MB\u001b[0m \u001b[31m19.2 MB/s\u001b[0m eta \u001b[36m0:00:00\u001b[0m\n",
            "\u001b[2K     \u001b[90m━━━━━━━━━━━━━━━━━━━━━━━━━━━━━━━━━━━━━━━━\u001b[0m \u001b[32m207.3/207.3 kB\u001b[0m \u001b[31m6.7 MB/s\u001b[0m eta \u001b[36m0:00:00\u001b[0m\n",
            "\u001b[2K     \u001b[90m━━━━━━━━━━━━━━━━━━━━━━━━━━━━━━━━━━━━━━━━\u001b[0m \u001b[32m289.2/289.2 kB\u001b[0m \u001b[31m12.1 MB/s\u001b[0m eta \u001b[36m0:00:00\u001b[0m\n",
            "\u001b[2K     \u001b[90m━━━━━━━━━━━━━━━━━━━━━━━━━━━━━━━━━━━━━━━━\u001b[0m \u001b[32m62.7/62.7 kB\u001b[0m \u001b[31m1.3 MB/s\u001b[0m eta \u001b[36m0:00:00\u001b[0m\n",
            "\u001b[?25h"
          ]
        }
      ],
      "source": [
        "!pip install wandb -q"
      ]
    },
    {
      "cell_type": "code",
      "source": [
        "!git clone https://github.com/smarginatura/makemore.git"
      ],
      "metadata": {
        "colab": {
          "base_uri": "https://localhost:8080/"
        },
        "id": "FF-2s28TECus",
        "outputId": "f68ef34d-aa30-4ce8-e056-81047f78b395"
      },
      "execution_count": null,
      "outputs": [
        {
          "output_type": "stream",
          "name": "stdout",
          "text": [
            "fatal: destination path 'makemore' already exists and is not an empty directory.\n"
          ]
        }
      ]
    },
    {
      "cell_type": "code",
      "source": [
        "%cd makemore\n",
        "!ls -l"
      ],
      "metadata": {
        "colab": {
          "base_uri": "https://localhost:8080/"
        },
        "id": "85S5HsueEI94",
        "outputId": "25288839-3553-409b-d0a2-af1f7af40349"
      },
      "execution_count": null,
      "outputs": [
        {
          "output_type": "stream",
          "name": "stdout",
          "text": [
            "/content/makemore\n",
            "total 52\n",
            "drwxr-xr-x 2 root root 4096 Jun  4 21:05 data\n",
            "-rw-r--r-- 1 root root 3481 Jun  4 21:05 data_loader.py\n",
            "drwxr-xr-x 2 root root 4096 Jun  4 21:05 experiments\n",
            "-rw-r--r-- 1 root root 1072 Jun  4 21:05 LICENSE\n",
            "-rw-r--r-- 1 root root 5446 Jun  4 21:19 model.py\n",
            "drwxr-xr-x 2 root root 4096 Jun  4 21:05 out\n",
            "drwxr-xr-x 2 root root 4096 Jun  4 21:14 __pycache__\n",
            "-rw-r--r-- 1 root root    5 Jun  4 21:05 README.md\n",
            "-rw-r--r-- 1 root root 8723 Jun  4 21:05 train.py\n",
            "drwxr-xr-x 8 root root 4096 Jun  4 23:49 wandb\n"
          ]
        }
      ]
    },
    {
      "cell_type": "code",
      "source": [
        "import os, sys, time, math, random\n",
        "\n",
        "import numpy as np\n",
        "import torch\n",
        "from torch.nn import functional as F\n",
        "\n",
        "from torch.utils.data import Dataset\n",
        "from torch.utils.data.dataloader import DataLoader\n",
        "\n",
        "from dataclasses import dataclass\n",
        "\n",
        "from tqdm.auto import tqdm"
      ],
      "metadata": {
        "id": "Qjn5xs9kEgdH"
      },
      "execution_count": null,
      "outputs": []
    },
    {
      "cell_type": "code",
      "execution_count": null,
      "metadata": {
        "id": "CjUE0fEhDwwR"
      },
      "outputs": [],
      "source": [
        "from model import ModelConfig, RNN, loss_fn\n",
        "\n",
        "from data_loader import create_datasets, InfiniteDataLoader"
      ]
    },
    {
      "cell_type": "code",
      "execution_count": null,
      "metadata": {
        "id": "VXUtr-y3-s77"
      },
      "outputs": [],
      "source": [
        "@dataclass\n",
        "class TrainArgs:\n",
        "\n",
        "    # system I/O\n",
        "    input_file: str = 'data/names.txt'\n",
        "    work_dir: str = 'out'\n",
        "    resume: bool = False\n",
        "    sample_only: bool = False\n",
        "    num_workers: int = 4\n",
        "    max_steps: int = -1\n",
        "    device: str = 'cpu'\n",
        "    seed: int = 3407\n",
        "\n",
        "    # wandb logging\n",
        "    wandb_log: bool = False # disabled by default\n",
        "    wandb_project: str = 'name-generation'\n",
        "    wandb_run_name: str = None\n",
        "\n",
        "    # sampling\n",
        "    top_k: int = -1 # -1 means no top-k\n",
        "\n",
        "    # model\n",
        "    cell_type: str = 'rnn'\n",
        "    n_layer: int = 4\n",
        "    n_embd: int = 64\n",
        "    n_embd2: int = 64\n",
        "\n",
        "    # optimization hyperparameter\n",
        "    batch_size: int = 32\n",
        "    learning_rate: float = 5e-4\n",
        "    weight_decay: float = 0.01"
      ]
    },
    {
      "cell_type": "markdown",
      "metadata": {
        "id": "i-H-0107EDEg"
      },
      "source": [
        "# Training"
      ]
    },
    {
      "cell_type": "code",
      "execution_count": null,
      "metadata": {
        "id": "j-zW_qYLHmFI"
      },
      "outputs": [],
      "source": [
        "# Utils\n",
        "def set_seed(seed):\n",
        "    random.seed(seed)\n",
        "    np.random.seed(seed)\n",
        "    torch.manual_seed(seed)\n",
        "    torch.cuda.manual_seed_all(seed)"
      ]
    },
    {
      "cell_type": "code",
      "execution_count": null,
      "metadata": {
        "id": "REgHPdhrEKuo"
      },
      "outputs": [],
      "source": [
        "args = TrainArgs(cell_type='rnn',\n",
        "                 device='cuda' if torch.cuda.is_available() else 'cpu',\n",
        "                 max_steps=50_000,\n",
        "                 batch_size = 32,\n",
        "                 learning_rate=1e-3,\n",
        "                 weight_decay=1e-2,\n",
        "                 num_workers=4,\n",
        "                 wandb_log=True)\n",
        "\n",
        "set_seed(args.seed)\n",
        "os.makedirs(args.work_dir, exist_ok=True)"
      ]
    },
    {
      "cell_type": "code",
      "execution_count": null,
      "metadata": {
        "colab": {
          "base_uri": "https://localhost:8080/"
        },
        "id": "EuAtXsZ1htl6",
        "outputId": "0fe2ba97-3a45-4b82-b0e0-dd2d08175e98"
      },
      "outputs": [
        {
          "output_type": "execute_result",
          "data": {
            "text/plain": [
              "{'input_file': 'data/names.txt',\n",
              " 'work_dir': 'out',\n",
              " 'resume': False,\n",
              " 'sample_only': False,\n",
              " 'num_workers': 4,\n",
              " 'max_steps': 50000,\n",
              " 'device': 'cpu',\n",
              " 'seed': 3407,\n",
              " 'wandb_log': True,\n",
              " 'wandb_project': 'name-generation',\n",
              " 'wandb_run_name': None,\n",
              " 'top_k': -1,\n",
              " 'cell_type': 'rnn',\n",
              " 'n_layer': 4,\n",
              " 'n_embd': 64,\n",
              " 'n_embd2': 64,\n",
              " 'batch_size': 32,\n",
              " 'learning_rate': 0.001,\n",
              " 'weight_decay': 0.01}"
            ]
          },
          "metadata": {},
          "execution_count": 10
        }
      ],
      "source": [
        "vars(args)"
      ]
    },
    {
      "cell_type": "code",
      "execution_count": null,
      "metadata": {
        "colab": {
          "base_uri": "https://localhost:8080/"
        },
        "id": "oX5g3LOxEnN4",
        "outputId": "fb0a8aac-ea5e-471a-ed8b-8cb9dc2f6db7"
      },
      "outputs": [
        {
          "output_type": "stream",
          "name": "stdout",
          "text": [
            "number of examples in the dataset: 32033\n",
            "max word length: 15\n",
            "number of unique characters in the vocabulary: 26\n",
            "vocabulary:\n",
            "abcdefghijklmnopqrstuvwxyz\n",
            "split up the dataset into 31033 training examples and 1000 test examples\n",
            "\n",
            "dataset determined that: vocab_size=27, block_size=16\n"
          ]
        }
      ],
      "source": [
        "# init datasets\n",
        "train_dataset, test_dataset = create_datasets(args.input_file)\n",
        "vocab_size = train_dataset.get_vocab_size()\n",
        "block_size = train_dataset.get_output_length()\n",
        "\n",
        "print(f\"\\ndataset determined that: {vocab_size=}, {block_size=}\")"
      ]
    },
    {
      "cell_type": "code",
      "execution_count": null,
      "metadata": {
        "colab": {
          "base_uri": "https://localhost:8080/"
        },
        "id": "Wa6ffTPYEpdg",
        "outputId": "eede6d82-cdac-48ac-b6dc-0536a9200ff7"
      },
      "outputs": [
        {
          "output_type": "stream",
          "name": "stdout",
          "text": [
            "model #params: 11803\n"
          ]
        }
      ],
      "source": [
        "# init model\n",
        "model_config = ModelConfig(\n",
        "    vocab_size=vocab_size,\n",
        "    block_size=block_size,\n",
        "    n_layer=args.n_layer,\n",
        "    n_embd=args.n_embd,\n",
        "    n_embd2=args.n_embd2\n",
        "    )\n",
        "\n",
        "model = RNN(model_config, cell_type=args.cell_type)\n",
        "model.to(args.device)\n",
        "print(f\"model #params: {sum(p.numel() for p in model.parameters())}\")\n",
        "\n",
        "if args.resume or args.sample_only: # note: if we sample-only then we also assume we are resuming\n",
        "    print(\"resuming from existing model in the workdir\")\n",
        "    model.load_state_dict(torch.load(os.path.join(args.work_dir, 'model.pt')))\n",
        "if args.sample_only:\n",
        "    print_samples(num=50)\n",
        "    sys.exit()"
      ]
    },
    {
      "cell_type": "code",
      "execution_count": null,
      "metadata": {
        "colab": {
          "base_uri": "https://localhost:8080/"
        },
        "id": "wI3jzsmKFZzl",
        "outputId": "ec285488-4393-4a56-dd15-5a38b524ff54"
      },
      "outputs": [
        {
          "output_type": "stream",
          "name": "stdout",
          "text": [
            "Initializing optimizer\n"
          ]
        }
      ],
      "source": [
        "# init optimizer\n",
        "print('Initializing optimizer')\n",
        "optimizer = torch.optim.AdamW(model.parameters(),\n",
        "                              lr=args.learning_rate,\n",
        "                              weight_decay=args.weight_decay,\n",
        "                              betas=(0.9, 0.99),\n",
        "                              eps=1e-8)"
      ]
    },
    {
      "cell_type": "code",
      "source": [
        "# init dataloader\n",
        "batch_loader = InfiniteDataLoader(train_dataset,\n",
        "                                  batch_size=args.batch_size,\n",
        "                                  pin_memory=True,\n",
        "                                  num_workers=args.num_workers)\n",
        "\n",
        "# logging\n",
        "config_keys = [k for k,v in globals().items() if not k.startswith('_') and isinstance(v, (int, float, bool, str))]\n",
        "config = {k: globals()[k] for k in config_keys if k != 'PAT'} # will be useful for logging\n",
        "print(config)\n",
        "\n",
        "\n",
        "if args.wandb_log:\n",
        "    import wandb\n",
        "    from google.colab import userdata\n",
        "    wandb.login(key=userdata.get('WANDB_KEY2'))\n",
        "    run = wandb.init(project=args.wandb_project,\n",
        "                     name=args.wandb_run_name,\n",
        "                     config={**vars(args), **config})"
      ],
      "metadata": {
        "colab": {
          "base_uri": "https://localhost:8080/",
          "height": 245
        },
        "id": "w9gb0MK0ptex",
        "outputId": "c8fe657a-314a-4892-bf38-4236035d200f"
      },
      "execution_count": null,
      "outputs": [
        {
          "output_type": "stream",
          "name": "stderr",
          "text": [
            "/usr/local/lib/python3.10/dist-packages/torch/utils/data/dataloader.py:558: UserWarning: This DataLoader will create 4 worker processes in total. Our suggested max number of worker in current system is 2, which is smaller than what this DataLoader is going to create. Please be aware that excessive worker creation might get DataLoader running slow or even freeze, lower the worker number to avoid potential slowness/freeze if necessary.\n",
            "  warnings.warn(_create_warning_msg(\n"
          ]
        },
        {
          "output_type": "stream",
          "name": "stdout",
          "text": [
            "{'vocab_size': 27, 'block_size': 16}\n"
          ]
        },
        {
          "output_type": "stream",
          "name": "stderr",
          "text": [
            "\u001b[34m\u001b[1mwandb\u001b[0m: Currently logged in as: \u001b[33msmarginatura\u001b[0m (\u001b[33mpolyphony\u001b[0m). Use \u001b[1m`wandb login --relogin`\u001b[0m to force relogin\n",
            "\u001b[34m\u001b[1mwandb\u001b[0m: \u001b[33mWARNING\u001b[0m If you're specifying your api key in code, ensure this code is not shared publicly.\n",
            "\u001b[34m\u001b[1mwandb\u001b[0m: \u001b[33mWARNING\u001b[0m Consider setting the WANDB_API_KEY environment variable, or running `wandb login` from the command line.\n",
            "\u001b[34m\u001b[1mwandb\u001b[0m: Appending key for api.wandb.ai to your netrc file: /root/.netrc\n"
          ]
        },
        {
          "output_type": "display_data",
          "data": {
            "text/plain": [
              "<IPython.core.display.HTML object>"
            ],
            "text/html": [
              "Tracking run with wandb version 0.17.0"
            ]
          },
          "metadata": {}
        },
        {
          "output_type": "display_data",
          "data": {
            "text/plain": [
              "<IPython.core.display.HTML object>"
            ],
            "text/html": [
              "Run data is saved locally in <code>/content/makemore/wandb/run-20240604_235033-9hegs882</code>"
            ]
          },
          "metadata": {}
        },
        {
          "output_type": "display_data",
          "data": {
            "text/plain": [
              "<IPython.core.display.HTML object>"
            ],
            "text/html": [
              "Syncing run <strong><a href='https://wandb.ai/polyphony/name-generation/runs/9hegs882' target=\"_blank\">restful-snowflake-7</a></strong> to <a href='https://wandb.ai/polyphony/name-generation' target=\"_blank\">Weights & Biases</a> (<a href='https://wandb.me/run' target=\"_blank\">docs</a>)<br/>"
            ]
          },
          "metadata": {}
        },
        {
          "output_type": "display_data",
          "data": {
            "text/plain": [
              "<IPython.core.display.HTML object>"
            ],
            "text/html": [
              " View project at <a href='https://wandb.ai/polyphony/name-generation' target=\"_blank\">https://wandb.ai/polyphony/name-generation</a>"
            ]
          },
          "metadata": {}
        },
        {
          "output_type": "display_data",
          "data": {
            "text/plain": [
              "<IPython.core.display.HTML object>"
            ],
            "text/html": [
              " View run at <a href='https://wandb.ai/polyphony/name-generation/runs/9hegs882' target=\"_blank\">https://wandb.ai/polyphony/name-generation/runs/9hegs882</a>"
            ]
          },
          "metadata": {}
        }
      ]
    },
    {
      "cell_type": "code",
      "source": [
        "@torch.inference_mode()\n",
        "def evaluate(model, dataset, batch_size=50, max_batches=None):\n",
        "    model.eval()\n",
        "    loader = DataLoader(dataset, shuffle=True, batch_size=batch_size, num_workers=0)\n",
        "    losses = []\n",
        "    for i, batch in enumerate(loader):\n",
        "        batch = [t.to(args.device) for t in batch]\n",
        "        X, Y = batch\n",
        "        logits = model(X)\n",
        "        loss = loss_fn(logits, Y)\n",
        "        losses.append(loss.item())\n",
        "        if max_batches is not None and i >= max_batches:\n",
        "            break\n",
        "    mean_loss = torch.tensor(losses).mean().item()\n",
        "    model.train() # reset model back to training mode\n",
        "    return mean_loss"
      ],
      "metadata": {
        "id": "6_QZZzYFpySC"
      },
      "execution_count": null,
      "outputs": []
    },
    {
      "cell_type": "code",
      "execution_count": null,
      "metadata": {
        "id": "s3FvYzCNLzG5",
        "colab": {
          "base_uri": "https://localhost:8080/",
          "height": 1000,
          "referenced_widgets": [
            "ce2df191c1a54d28b06a059850bf77be",
            "84ac58bd31474eaab37ac977d846abf8",
            "28ed26d312dd4dcab6f92bd8bdab2f12",
            "b0088d9ca8954a13b63c88daad9afc95",
            "a941f133635645cea976b93c9828421a",
            "4430949a7b854b6eb008949b876b36f5",
            "8d1d71d29fda4376a765c15c1329415a",
            "497c981a0fe449d1a5fe64498c02d18b",
            "0f89b6e3b2654514b57d79fe70b33440",
            "4272be3d98874027824c24b5ec04e5d2",
            "a1099cdfd2644c4a92fe16fe3540e444"
          ]
        },
        "outputId": "eb3d3ef8-fcf2-4c46-ef76-6b7feaff4c02"
      },
      "outputs": [
        {
          "output_type": "display_data",
          "data": {
            "text/plain": [
              "  0%|          | 0/50000 [00:00<?, ?it/s]"
            ],
            "application/vnd.jupyter.widget-view+json": {
              "version_major": 2,
              "version_minor": 0,
              "model_id": "ce2df191c1a54d28b06a059850bf77be"
            }
          },
          "metadata": {}
        },
        {
          "output_type": "stream",
          "name": "stdout",
          "text": [
            "step 500 train loss: 2.2501 test loss: 2.2297\n",
            "test loss 2.229686 is the best so far, saving model to out/model.pt\n",
            "step 1000 train loss: 2.2134 test loss: 2.1800\n",
            "test loss 2.180049 is the best so far, saving model to out/model.pt\n",
            "step 1500 train loss: 2.1632 test loss: 2.1539\n",
            "test loss 2.153885 is the best so far, saving model to out/model.pt\n",
            "step 2000 train loss: 2.1263 test loss: 2.1346\n",
            "test loss 2.134613 is the best so far, saving model to out/model.pt\n",
            "step 2500 train loss: 2.1561 test loss: 2.1211\n",
            "test loss 2.121068 is the best so far, saving model to out/model.pt\n",
            "step 3000 train loss: 2.1335 test loss: 2.1119\n",
            "test loss 2.111885 is the best so far, saving model to out/model.pt\n",
            "step 3500 train loss: 2.1088 test loss: 2.1016\n",
            "test loss 2.101563 is the best so far, saving model to out/model.pt\n",
            "step 4000 train loss: 2.1096 test loss: 2.1020\n",
            "step 4500 train loss: 2.1060 test loss: 2.0904\n",
            "test loss 2.090446 is the best so far, saving model to out/model.pt\n",
            "step 5000 train loss: 2.0930 test loss: 2.0823\n",
            "test loss 2.082310 is the best so far, saving model to out/model.pt\n",
            "step 5500 train loss: 2.0745 test loss: 2.0798\n",
            "test loss 2.079795 is the best so far, saving model to out/model.pt\n",
            "step 6000 train loss: 2.0745 test loss: 2.0796\n",
            "test loss 2.079604 is the best so far, saving model to out/model.pt\n",
            "step 6500 train loss: 2.0554 test loss: 2.0765\n",
            "test loss 2.076464 is the best so far, saving model to out/model.pt\n",
            "step 7000 train loss: 2.0855 test loss: 2.0719\n",
            "test loss 2.071932 is the best so far, saving model to out/model.pt\n",
            "step 7500 train loss: 2.0757 test loss: 2.0706\n",
            "test loss 2.070568 is the best so far, saving model to out/model.pt\n",
            "step 8000 train loss: 2.0748 test loss: 2.0649\n",
            "test loss 2.064915 is the best so far, saving model to out/model.pt\n",
            "step 8500 train loss: 2.0673 test loss: 2.0638\n",
            "test loss 2.063777 is the best so far, saving model to out/model.pt\n",
            "step 9000 train loss: 2.0550 test loss: 2.0682\n",
            "step 9500 train loss: 2.0524 test loss: 2.0606\n",
            "test loss 2.060580 is the best so far, saving model to out/model.pt\n",
            "step 10000 train loss: 2.0691 test loss: 2.0611\n",
            "step 10500 train loss: 2.0456 test loss: 2.0569\n",
            "test loss 2.056906 is the best so far, saving model to out/model.pt\n",
            "step 11000 train loss: 2.0645 test loss: 2.0590\n",
            "step 11500 train loss: 2.0471 test loss: 2.0532\n",
            "test loss 2.053176 is the best so far, saving model to out/model.pt\n",
            "step 12000 train loss: 2.0455 test loss: 2.0521\n",
            "test loss 2.052060 is the best so far, saving model to out/model.pt\n",
            "step 12500 train loss: 2.0180 test loss: 2.0471\n",
            "test loss 2.047116 is the best so far, saving model to out/model.pt\n",
            "step 13000 train loss: 2.0288 test loss: 2.0510\n",
            "step 13500 train loss: 2.0624 test loss: 2.0466\n",
            "test loss 2.046591 is the best so far, saving model to out/model.pt\n",
            "step 14000 train loss: 2.0204 test loss: 2.0484\n",
            "step 14500 train loss: 2.0290 test loss: 2.0502\n",
            "step 15000 train loss: 2.0522 test loss: 2.0438\n",
            "test loss 2.043808 is the best so far, saving model to out/model.pt\n",
            "step 15500 train loss: 2.0142 test loss: 2.0478\n",
            "step 16000 train loss: 2.0200 test loss: 2.0426\n",
            "test loss 2.042559 is the best so far, saving model to out/model.pt\n",
            "step 16500 train loss: 2.0400 test loss: 2.0494\n",
            "step 17000 train loss: 2.0441 test loss: 2.0425\n",
            "test loss 2.042464 is the best so far, saving model to out/model.pt\n",
            "step 17500 train loss: 2.0241 test loss: 2.0430\n",
            "step 18000 train loss: 2.0228 test loss: 2.0372\n",
            "test loss 2.037238 is the best so far, saving model to out/model.pt\n",
            "step 18500 train loss: 2.0379 test loss: 2.0447\n",
            "step 19000 train loss: 2.0305 test loss: 2.0502\n",
            "step 19500 train loss: 2.0177 test loss: 2.0434\n",
            "step 20000 train loss: 2.0431 test loss: 2.0447\n",
            "step 20500 train loss: 2.0276 test loss: 2.0428\n",
            "step 21000 train loss: 1.9935 test loss: 2.0407\n",
            "step 21500 train loss: 2.0317 test loss: 2.0392\n",
            "step 22000 train loss: 1.9984 test loss: 2.0400\n",
            "step 22500 train loss: 2.0130 test loss: 2.0393\n",
            "step 23000 train loss: 2.0017 test loss: 2.0340\n",
            "test loss 2.034013 is the best so far, saving model to out/model.pt\n",
            "step 23500 train loss: 2.0281 test loss: 2.0410\n",
            "step 24000 train loss: 2.0104 test loss: 2.0403\n",
            "step 24500 train loss: 2.0168 test loss: 2.0425\n",
            "step 25000 train loss: 2.0231 test loss: 2.0395\n",
            "step 25500 train loss: 2.0310 test loss: 2.0411\n",
            "step 26000 train loss: 2.0174 test loss: 2.0382\n",
            "step 26500 train loss: 2.0132 test loss: 2.0417\n",
            "step 27000 train loss: 2.0277 test loss: 2.0384\n",
            "step 27500 train loss: 2.0161 test loss: 2.0337\n",
            "test loss 2.033657 is the best so far, saving model to out/model.pt\n",
            "step 28000 train loss: 2.0193 test loss: 2.0381\n",
            "step 28500 train loss: 2.0161 test loss: 2.0378\n",
            "step 29000 train loss: 2.0222 test loss: 2.0336\n",
            "test loss 2.033561 is the best so far, saving model to out/model.pt\n",
            "step 29500 train loss: 2.0195 test loss: 2.0378\n",
            "step 30000 train loss: 2.0214 test loss: 2.0394\n",
            "step 30500 train loss: 2.0070 test loss: 2.0420\n",
            "step 31000 train loss: 1.9944 test loss: 2.0350\n",
            "step 31500 train loss: 2.0304 test loss: 2.0366\n",
            "step 32000 train loss: 2.0041 test loss: 2.0376\n",
            "step 32500 train loss: 2.0383 test loss: 2.0369\n",
            "step 33000 train loss: 2.0028 test loss: 2.0346\n",
            "step 33500 train loss: 2.0278 test loss: 2.0358\n",
            "step 34000 train loss: 1.9987 test loss: 2.0308\n",
            "test loss 2.030792 is the best so far, saving model to out/model.pt\n",
            "step 34500 train loss: 2.0100 test loss: 2.0307\n",
            "test loss 2.030668 is the best so far, saving model to out/model.pt\n",
            "step 35000 train loss: 2.0089 test loss: 2.0335\n",
            "step 35500 train loss: 2.0215 test loss: 2.0352\n",
            "step 36000 train loss: 2.0300 test loss: 2.0368\n",
            "step 36500 train loss: 2.0029 test loss: 2.0361\n",
            "step 37000 train loss: 2.0262 test loss: 2.0377\n",
            "step 37500 train loss: 2.0261 test loss: 2.0357\n",
            "step 38000 train loss: 2.0046 test loss: 2.0339\n",
            "step 38500 train loss: 2.0158 test loss: 2.0392\n",
            "step 39000 train loss: 1.9958 test loss: 2.0365\n",
            "step 39500 train loss: 1.9951 test loss: 2.0331\n",
            "step 40000 train loss: 2.0160 test loss: 2.0355\n",
            "step 40500 train loss: 2.0169 test loss: 2.0343\n",
            "step 41000 train loss: 2.0076 test loss: 2.0303\n",
            "test loss 2.030339 is the best so far, saving model to out/model.pt\n",
            "step 41500 train loss: 2.0051 test loss: 2.0325\n",
            "step 42000 train loss: 2.0023 test loss: 2.0349\n",
            "step 42500 train loss: 2.0152 test loss: 2.0316\n",
            "step 43000 train loss: 2.0039 test loss: 2.0309\n",
            "step 43500 train loss: 2.0100 test loss: 2.0352\n",
            "step 44000 train loss: 2.0203 test loss: 2.0328\n",
            "step 44500 train loss: 1.9998 test loss: 2.0322\n",
            "step 45000 train loss: 2.0101 test loss: 2.0338\n",
            "step 45500 train loss: 2.0063 test loss: 2.0318\n",
            "step 46000 train loss: 2.0009 test loss: 2.0340\n",
            "step 46500 train loss: 2.0317 test loss: 2.0351\n",
            "step 47000 train loss: 2.0232 test loss: 2.0381\n",
            "step 47500 train loss: 2.0282 test loss: 2.0380\n",
            "step 48000 train loss: 2.0258 test loss: 2.0360\n",
            "step 48500 train loss: 2.0110 test loss: 2.0346\n",
            "step 49000 train loss: 1.9786 test loss: 2.0299\n",
            "test loss 2.029901 is the best so far, saving model to out/model.pt\n",
            "step 49500 train loss: 2.0206 test loss: 2.0357\n"
          ]
        }
      ],
      "source": [
        "# training loop\n",
        "\n",
        "best_loss = None\n",
        "\n",
        "for step in tqdm(range(args.max_steps)):\n",
        "\n",
        "    t0 = time.time()\n",
        "\n",
        "    batch = batch_loader.next()\n",
        "    batch = [t.to(args.device) for t in batch]\n",
        "    X, Y = batch\n",
        "    logits = model(X)\n",
        "    loss = loss_fn(logits, Y)\n",
        "    model.zero_grad(set_to_none=True)\n",
        "    loss.backward()\n",
        "    optimizer.step()\n",
        "    # wait for all CUDA work on the GPU to finish then calculate iteration time taken\n",
        "    if args.device.startswith('cuda'):\n",
        "        torch.cuda.synchronize()\n",
        "\n",
        "    t1 = time.time()\n",
        "\n",
        "    # logging\n",
        "    #if step % 10 == 0:\n",
        "    #    print(f\"step {step} | loss {loss.item():.4f} | step time {(t1-t0)*1000:.2f}ms\")\n",
        "\n",
        "    # Evaluate the model\n",
        "    if step > 0 and step % 500 == 0:\n",
        "        train_loss = evaluate(model, train_dataset, batch_size=100, max_batches=10)\n",
        "        test_loss  = evaluate(model, test_dataset,  batch_size=100, max_batches=10)\n",
        "        if args.wandb_log:\n",
        "            wandb.log({\n",
        "                \"train/loss\": train_loss,\n",
        "                \"test/loss\": test_loss,\n",
        "            }, step=step)\n",
        "        print(f\"step {step} train loss: {train_loss:.4f} test loss: {test_loss:.4f}\")\n",
        "\n",
        "        # Save the model to disk if it has improved\n",
        "        if best_loss is None or test_loss < best_loss:\n",
        "            out_path = os.path.join(args.work_dir, \"model.pt\")\n",
        "            print(f\"test loss {test_loss:4f} is the best so far, saving model to {out_path}\")\n",
        "            torch.save(model.state_dict(), out_path)\n",
        "            best_loss = test_loss\n",
        "\n",
        "    # sample from the model\n",
        "    #if step > 0 and step % 1000 == 0:\n",
        "    #    print_samples(num=10)"
      ]
    },
    {
      "cell_type": "markdown",
      "source": [
        "* visualize the the training loss curve and test loss curve\n",
        "(in the notebook, not referring to the wandb board)\n"
      ],
      "metadata": {
        "id": "d9B-pCNN2YV4"
      }
    },
    {
      "cell_type": "code",
      "source": [
        "def print_samples(model, num=10):\n",
        "    \"\"\" samples from the model and pretty prints the decoded samples \"\"\"\n",
        "    X_init = torch.zeros(num, 1, dtype=torch.long).to(args.device)\n",
        "    top_k = args.top_k if args.top_k != -1 else None\n",
        "    steps = train_dataset.get_output_length() - 1 # -1 because we already start with <START> token (index 0)\n",
        "    X_samp = model.generate(X_init, steps, top_k=top_k, do_sample=True).to('cpu')\n",
        "    train_samples, test_samples, new_samples = [], [], []\n",
        "    for i in range(X_samp.size(0)):\n",
        "        # get the i'th row of sampled integers, as python list\n",
        "        row = X_samp[i, 1:].tolist() # note: we need to crop out the first <START> token\n",
        "        # token 0 is the <STOP> token, so we crop the output sequence at that point\n",
        "        crop_index = row.index(0) if 0 in row else len(row)\n",
        "        row = row[:crop_index]\n",
        "        word_samp = train_dataset.decode(row)\n",
        "        # separately track samples that we have and have not seen before\n",
        "        if train_dataset.contains(word_samp):\n",
        "            train_samples.append(word_samp)\n",
        "        elif test_dataset.contains(word_samp):\n",
        "            test_samples.append(word_samp)\n",
        "        else:\n",
        "            new_samples.append(word_samp)\n",
        "    print('-'*80)\n",
        "    for lst, desc in [(train_samples, 'in train'), (test_samples, 'in test'), (new_samples, 'new')]:\n",
        "        print(f\"{len(lst)} samples that are {desc}:\")\n",
        "        for word in lst:\n",
        "            print(word)\n",
        "    print('-'*80)\n",
        "\n",
        "\n",
        "print_samples(model, num=20)"
      ],
      "metadata": {
        "colab": {
          "base_uri": "https://localhost:8080/"
        },
        "id": "jCy7-jw7tMaJ",
        "outputId": "ef6b5caf-8174-4f89-95e6-dde24cd7a5dc"
      },
      "execution_count": null,
      "outputs": [
        {
          "output_type": "stream",
          "name": "stdout",
          "text": [
            "--------------------------------------------------------------------------------\n",
            "3 samples that are in train:\n",
            "doni\n",
            "evan\n",
            "daniyah\n",
            "0 samples that are in test:\n",
            "17 samples that are new:\n",
            "yaine\n",
            "kemo\n",
            "lerade\n",
            "rohanly\n",
            "yuchimie\n",
            "emarica\n",
            "faton\n",
            "contar\n",
            "nicanon\n",
            "nalizee\n",
            "malisha\n",
            "jeelabelligatt\n",
            "keccel\n",
            "noun\n",
            "dravan\n",
            "rohani\n",
            "emilissa\n",
            "--------------------------------------------------------------------------------\n"
          ]
        }
      ]
    },
    {
      "cell_type": "code",
      "source": [
        "run.finish()"
      ],
      "metadata": {
        "colab": {
          "base_uri": "https://localhost:8080/",
          "height": 243,
          "referenced_widgets": [
            "9deb583926bc4e20a3f8e4ec982ad585",
            "e01f2187b8ef4aa6a96045429862b55b",
            "df5522f5b19a4e5585c0e06d2bbeebf2",
            "8373ed9284a2465992074438026511da",
            "e6a6628d82c647e982a5a7e298e5cf75",
            "55fa95f2e7a0414d98573cf51423d378",
            "0691bdcd6d5048d796d2da2196e3a4a9",
            "cfc330d6db8b4579bbc54faaeb6167c6"
          ]
        },
        "id": "CztdurCJ9QIG",
        "outputId": "91c0db47-b7f8-4058-bc06-6d1b7b94d91b"
      },
      "execution_count": null,
      "outputs": [
        {
          "output_type": "display_data",
          "data": {
            "text/plain": [
              "VBox(children=(Label(value='0.018 MB of 0.018 MB uploaded\\r'), FloatProgress(value=1.0, max=1.0)))"
            ],
            "application/vnd.jupyter.widget-view+json": {
              "version_major": 2,
              "version_minor": 0,
              "model_id": "9deb583926bc4e20a3f8e4ec982ad585"
            }
          },
          "metadata": {}
        },
        {
          "output_type": "display_data",
          "data": {
            "text/plain": [
              "<IPython.core.display.HTML object>"
            ],
            "text/html": [
              "<style>\n",
              "    table.wandb td:nth-child(1) { padding: 0 10px; text-align: left ; width: auto;} td:nth-child(2) {text-align: left ; width: 100%}\n",
              "    .wandb-row { display: flex; flex-direction: row; flex-wrap: wrap; justify-content: flex-start; width: 100% }\n",
              "    .wandb-col { display: flex; flex-direction: column; flex-basis: 100%; flex: 1; padding: 10px; }\n",
              "    </style>\n",
              "<div class=\"wandb-row\"><div class=\"wandb-col\"><h3>Run history:</h3><br/><table class=\"wandb\"><tr><td>test/loss</td><td>█▅▄▄▃▃▂▂▂▂▂▂▂▂▁▂▁▁▁▁▁▁▁▁▁▁▁▁▁▁▁▁▁▁▁▁▁▁▁▁</td></tr><tr><td>train/loss</td><td>█▆▅▄▃▃▃▃▂▂▂▂▂▂▂▂▂▂▁▁▂▁▂▂▁▂▁▁▂▁▁▁▂▁▁▂▁▂▂▂</td></tr></table><br/></div><div class=\"wandb-col\"><h3>Run summary:</h3><br/><table class=\"wandb\"><tr><td>test/loss</td><td>2.03571</td></tr><tr><td>train/loss</td><td>2.02062</td></tr></table><br/></div></div>"
            ]
          },
          "metadata": {}
        },
        {
          "output_type": "display_data",
          "data": {
            "text/plain": [
              "<IPython.core.display.HTML object>"
            ],
            "text/html": [
              " View run <strong style=\"color:#cdcd00\">restful-snowflake-7</strong> at: <a href='https://wandb.ai/polyphony/name-generation/runs/9hegs882' target=\"_blank\">https://wandb.ai/polyphony/name-generation/runs/9hegs882</a><br/> View project at: <a href='https://wandb.ai/polyphony/name-generation' target=\"_blank\">https://wandb.ai/polyphony/name-generation</a><br/>Synced 5 W&B file(s), 0 media file(s), 0 artifact file(s) and 0 other file(s)"
            ]
          },
          "metadata": {}
        },
        {
          "output_type": "display_data",
          "data": {
            "text/plain": [
              "<IPython.core.display.HTML object>"
            ],
            "text/html": [
              "Find logs at: <code>./wandb/run-20240604_235033-9hegs882/logs</code>"
            ]
          },
          "metadata": {}
        }
      ]
    },
    {
      "cell_type": "code",
      "source": [
        "import wandb"
      ],
      "metadata": {
        "id": "zo9rV9HvzVNj"
      },
      "execution_count": 3,
      "outputs": []
    },
    {
      "cell_type": "code",
      "source": [
        "api = wandb.Api()\n",
        "run = api.run('polyphony/name-generation/9hegs882')"
      ],
      "metadata": {
        "id": "WuS7bWiFAORV",
        "colab": {
          "base_uri": "https://localhost:8080/",
          "height": 104
        },
        "outputId": "8154634c-3db3-4bfd-ea37-0bf1a6fe98b4"
      },
      "execution_count": 4,
      "outputs": [
        {
          "output_type": "display_data",
          "data": {
            "text/plain": [
              "<IPython.core.display.Javascript object>"
            ],
            "application/javascript": [
              "\n",
              "        window._wandbApiKey = new Promise((resolve, reject) => {\n",
              "            function loadScript(url) {\n",
              "            return new Promise(function(resolve, reject) {\n",
              "                let newScript = document.createElement(\"script\");\n",
              "                newScript.onerror = reject;\n",
              "                newScript.onload = resolve;\n",
              "                document.body.appendChild(newScript);\n",
              "                newScript.src = url;\n",
              "            });\n",
              "            }\n",
              "            loadScript(\"https://cdn.jsdelivr.net/npm/postmate/build/postmate.min.js\").then(() => {\n",
              "            const iframe = document.createElement('iframe')\n",
              "            iframe.style.cssText = \"width:0;height:0;border:none\"\n",
              "            document.body.appendChild(iframe)\n",
              "            const handshake = new Postmate({\n",
              "                container: iframe,\n",
              "                url: 'https://wandb.ai/authorize'\n",
              "            });\n",
              "            const timeout = setTimeout(() => reject(\"Couldn't auto authenticate\"), 5000)\n",
              "            handshake.then(function(child) {\n",
              "                child.on('authorize', data => {\n",
              "                    clearTimeout(timeout)\n",
              "                    resolve(data)\n",
              "                });\n",
              "            });\n",
              "            })\n",
              "        });\n",
              "    "
            ]
          },
          "metadata": {}
        },
        {
          "output_type": "stream",
          "name": "stderr",
          "text": [
            "\u001b[34m\u001b[1mwandb\u001b[0m: Logging into wandb.ai. (Learn how to deploy a W&B server locally: https://wandb.me/wandb-server)\n",
            "\u001b[34m\u001b[1mwandb\u001b[0m: You can find your API key in your browser here: https://wandb.ai/authorize\n",
            "wandb: Paste an API key from your profile and hit enter, or press ctrl+c to quit:"
          ]
        },
        {
          "name": "stdout",
          "output_type": "stream",
          "text": [
            " ··········\n"
          ]
        },
        {
          "output_type": "stream",
          "name": "stderr",
          "text": [
            "\u001b[34m\u001b[1mwandb\u001b[0m: Appending key for api.wandb.ai to your netrc file: /root/.netrc\n"
          ]
        }
      ]
    },
    {
      "cell_type": "code",
      "source": [
        "df = run.history()\n",
        "df"
      ],
      "metadata": {
        "colab": {
          "base_uri": "https://localhost:8080/",
          "height": 423
        },
        "id": "l-KY4BcZuji_",
        "outputId": "1452f787-dd54-4443-ec79-819ca13697f1"
      },
      "execution_count": 12,
      "outputs": [
        {
          "output_type": "execute_result",
          "data": {
            "text/plain": [
              "    train/loss  _step    _runtime  test/loss    _timestamp\n",
              "0     2.250057    500   12.467079   2.229686  1.717545e+09\n",
              "1     2.213424   1000   18.664754   2.180049  1.717545e+09\n",
              "2     2.163228   1500   25.725207   2.153885  1.717545e+09\n",
              "3     2.126289   2000   32.991020   2.134613  1.717545e+09\n",
              "4     2.156054   2500   39.543967   2.121068  1.717545e+09\n",
              "..         ...    ...         ...        ...           ...\n",
              "94    2.028217  47500  618.261670   2.037997  1.717546e+09\n",
              "95    2.025776  48000  624.081707   2.036029  1.717546e+09\n",
              "96    2.010953  48500  630.971210   2.034589  1.717546e+09\n",
              "97    1.978617  49000  636.747215   2.029901  1.717546e+09\n",
              "98    2.020616  49500  643.693932   2.035709  1.717546e+09\n",
              "\n",
              "[99 rows x 5 columns]"
            ],
            "text/html": [
              "\n",
              "  <div id=\"df-30718b53-a5df-4e7b-a745-6218f2c1d9fd\" class=\"colab-df-container\">\n",
              "    <div>\n",
              "<style scoped>\n",
              "    .dataframe tbody tr th:only-of-type {\n",
              "        vertical-align: middle;\n",
              "    }\n",
              "\n",
              "    .dataframe tbody tr th {\n",
              "        vertical-align: top;\n",
              "    }\n",
              "\n",
              "    .dataframe thead th {\n",
              "        text-align: right;\n",
              "    }\n",
              "</style>\n",
              "<table border=\"1\" class=\"dataframe\">\n",
              "  <thead>\n",
              "    <tr style=\"text-align: right;\">\n",
              "      <th></th>\n",
              "      <th>train/loss</th>\n",
              "      <th>_step</th>\n",
              "      <th>_runtime</th>\n",
              "      <th>test/loss</th>\n",
              "      <th>_timestamp</th>\n",
              "    </tr>\n",
              "  </thead>\n",
              "  <tbody>\n",
              "    <tr>\n",
              "      <th>0</th>\n",
              "      <td>2.250057</td>\n",
              "      <td>500</td>\n",
              "      <td>12.467079</td>\n",
              "      <td>2.229686</td>\n",
              "      <td>1.717545e+09</td>\n",
              "    </tr>\n",
              "    <tr>\n",
              "      <th>1</th>\n",
              "      <td>2.213424</td>\n",
              "      <td>1000</td>\n",
              "      <td>18.664754</td>\n",
              "      <td>2.180049</td>\n",
              "      <td>1.717545e+09</td>\n",
              "    </tr>\n",
              "    <tr>\n",
              "      <th>2</th>\n",
              "      <td>2.163228</td>\n",
              "      <td>1500</td>\n",
              "      <td>25.725207</td>\n",
              "      <td>2.153885</td>\n",
              "      <td>1.717545e+09</td>\n",
              "    </tr>\n",
              "    <tr>\n",
              "      <th>3</th>\n",
              "      <td>2.126289</td>\n",
              "      <td>2000</td>\n",
              "      <td>32.991020</td>\n",
              "      <td>2.134613</td>\n",
              "      <td>1.717545e+09</td>\n",
              "    </tr>\n",
              "    <tr>\n",
              "      <th>4</th>\n",
              "      <td>2.156054</td>\n",
              "      <td>2500</td>\n",
              "      <td>39.543967</td>\n",
              "      <td>2.121068</td>\n",
              "      <td>1.717545e+09</td>\n",
              "    </tr>\n",
              "    <tr>\n",
              "      <th>...</th>\n",
              "      <td>...</td>\n",
              "      <td>...</td>\n",
              "      <td>...</td>\n",
              "      <td>...</td>\n",
              "      <td>...</td>\n",
              "    </tr>\n",
              "    <tr>\n",
              "      <th>94</th>\n",
              "      <td>2.028217</td>\n",
              "      <td>47500</td>\n",
              "      <td>618.261670</td>\n",
              "      <td>2.037997</td>\n",
              "      <td>1.717546e+09</td>\n",
              "    </tr>\n",
              "    <tr>\n",
              "      <th>95</th>\n",
              "      <td>2.025776</td>\n",
              "      <td>48000</td>\n",
              "      <td>624.081707</td>\n",
              "      <td>2.036029</td>\n",
              "      <td>1.717546e+09</td>\n",
              "    </tr>\n",
              "    <tr>\n",
              "      <th>96</th>\n",
              "      <td>2.010953</td>\n",
              "      <td>48500</td>\n",
              "      <td>630.971210</td>\n",
              "      <td>2.034589</td>\n",
              "      <td>1.717546e+09</td>\n",
              "    </tr>\n",
              "    <tr>\n",
              "      <th>97</th>\n",
              "      <td>1.978617</td>\n",
              "      <td>49000</td>\n",
              "      <td>636.747215</td>\n",
              "      <td>2.029901</td>\n",
              "      <td>1.717546e+09</td>\n",
              "    </tr>\n",
              "    <tr>\n",
              "      <th>98</th>\n",
              "      <td>2.020616</td>\n",
              "      <td>49500</td>\n",
              "      <td>643.693932</td>\n",
              "      <td>2.035709</td>\n",
              "      <td>1.717546e+09</td>\n",
              "    </tr>\n",
              "  </tbody>\n",
              "</table>\n",
              "<p>99 rows × 5 columns</p>\n",
              "</div>\n",
              "    <div class=\"colab-df-buttons\">\n",
              "\n",
              "  <div class=\"colab-df-container\">\n",
              "    <button class=\"colab-df-convert\" onclick=\"convertToInteractive('df-30718b53-a5df-4e7b-a745-6218f2c1d9fd')\"\n",
              "            title=\"Convert this dataframe to an interactive table.\"\n",
              "            style=\"display:none;\">\n",
              "\n",
              "  <svg xmlns=\"http://www.w3.org/2000/svg\" height=\"24px\" viewBox=\"0 -960 960 960\">\n",
              "    <path d=\"M120-120v-720h720v720H120Zm60-500h600v-160H180v160Zm220 220h160v-160H400v160Zm0 220h160v-160H400v160ZM180-400h160v-160H180v160Zm440 0h160v-160H620v160ZM180-180h160v-160H180v160Zm440 0h160v-160H620v160Z\"/>\n",
              "  </svg>\n",
              "    </button>\n",
              "\n",
              "  <style>\n",
              "    .colab-df-container {\n",
              "      display:flex;\n",
              "      gap: 12px;\n",
              "    }\n",
              "\n",
              "    .colab-df-convert {\n",
              "      background-color: #E8F0FE;\n",
              "      border: none;\n",
              "      border-radius: 50%;\n",
              "      cursor: pointer;\n",
              "      display: none;\n",
              "      fill: #1967D2;\n",
              "      height: 32px;\n",
              "      padding: 0 0 0 0;\n",
              "      width: 32px;\n",
              "    }\n",
              "\n",
              "    .colab-df-convert:hover {\n",
              "      background-color: #E2EBFA;\n",
              "      box-shadow: 0px 1px 2px rgba(60, 64, 67, 0.3), 0px 1px 3px 1px rgba(60, 64, 67, 0.15);\n",
              "      fill: #174EA6;\n",
              "    }\n",
              "\n",
              "    .colab-df-buttons div {\n",
              "      margin-bottom: 4px;\n",
              "    }\n",
              "\n",
              "    [theme=dark] .colab-df-convert {\n",
              "      background-color: #3B4455;\n",
              "      fill: #D2E3FC;\n",
              "    }\n",
              "\n",
              "    [theme=dark] .colab-df-convert:hover {\n",
              "      background-color: #434B5C;\n",
              "      box-shadow: 0px 1px 3px 1px rgba(0, 0, 0, 0.15);\n",
              "      filter: drop-shadow(0px 1px 2px rgba(0, 0, 0, 0.3));\n",
              "      fill: #FFFFFF;\n",
              "    }\n",
              "  </style>\n",
              "\n",
              "    <script>\n",
              "      const buttonEl =\n",
              "        document.querySelector('#df-30718b53-a5df-4e7b-a745-6218f2c1d9fd button.colab-df-convert');\n",
              "      buttonEl.style.display =\n",
              "        google.colab.kernel.accessAllowed ? 'block' : 'none';\n",
              "\n",
              "      async function convertToInteractive(key) {\n",
              "        const element = document.querySelector('#df-30718b53-a5df-4e7b-a745-6218f2c1d9fd');\n",
              "        const dataTable =\n",
              "          await google.colab.kernel.invokeFunction('convertToInteractive',\n",
              "                                                    [key], {});\n",
              "        if (!dataTable) return;\n",
              "\n",
              "        const docLinkHtml = 'Like what you see? Visit the ' +\n",
              "          '<a target=\"_blank\" href=https://colab.research.google.com/notebooks/data_table.ipynb>data table notebook</a>'\n",
              "          + ' to learn more about interactive tables.';\n",
              "        element.innerHTML = '';\n",
              "        dataTable['output_type'] = 'display_data';\n",
              "        await google.colab.output.renderOutput(dataTable, element);\n",
              "        const docLink = document.createElement('div');\n",
              "        docLink.innerHTML = docLinkHtml;\n",
              "        element.appendChild(docLink);\n",
              "      }\n",
              "    </script>\n",
              "  </div>\n",
              "\n",
              "\n",
              "<div id=\"df-e3542b8b-f5e4-4ace-8d7a-0de28d1086e7\">\n",
              "  <button class=\"colab-df-quickchart\" onclick=\"quickchart('df-e3542b8b-f5e4-4ace-8d7a-0de28d1086e7')\"\n",
              "            title=\"Suggest charts\"\n",
              "            style=\"display:none;\">\n",
              "\n",
              "<svg xmlns=\"http://www.w3.org/2000/svg\" height=\"24px\"viewBox=\"0 0 24 24\"\n",
              "     width=\"24px\">\n",
              "    <g>\n",
              "        <path d=\"M19 3H5c-1.1 0-2 .9-2 2v14c0 1.1.9 2 2 2h14c1.1 0 2-.9 2-2V5c0-1.1-.9-2-2-2zM9 17H7v-7h2v7zm4 0h-2V7h2v10zm4 0h-2v-4h2v4z\"/>\n",
              "    </g>\n",
              "</svg>\n",
              "  </button>\n",
              "\n",
              "<style>\n",
              "  .colab-df-quickchart {\n",
              "      --bg-color: #E8F0FE;\n",
              "      --fill-color: #1967D2;\n",
              "      --hover-bg-color: #E2EBFA;\n",
              "      --hover-fill-color: #174EA6;\n",
              "      --disabled-fill-color: #AAA;\n",
              "      --disabled-bg-color: #DDD;\n",
              "  }\n",
              "\n",
              "  [theme=dark] .colab-df-quickchart {\n",
              "      --bg-color: #3B4455;\n",
              "      --fill-color: #D2E3FC;\n",
              "      --hover-bg-color: #434B5C;\n",
              "      --hover-fill-color: #FFFFFF;\n",
              "      --disabled-bg-color: #3B4455;\n",
              "      --disabled-fill-color: #666;\n",
              "  }\n",
              "\n",
              "  .colab-df-quickchart {\n",
              "    background-color: var(--bg-color);\n",
              "    border: none;\n",
              "    border-radius: 50%;\n",
              "    cursor: pointer;\n",
              "    display: none;\n",
              "    fill: var(--fill-color);\n",
              "    height: 32px;\n",
              "    padding: 0;\n",
              "    width: 32px;\n",
              "  }\n",
              "\n",
              "  .colab-df-quickchart:hover {\n",
              "    background-color: var(--hover-bg-color);\n",
              "    box-shadow: 0 1px 2px rgba(60, 64, 67, 0.3), 0 1px 3px 1px rgba(60, 64, 67, 0.15);\n",
              "    fill: var(--button-hover-fill-color);\n",
              "  }\n",
              "\n",
              "  .colab-df-quickchart-complete:disabled,\n",
              "  .colab-df-quickchart-complete:disabled:hover {\n",
              "    background-color: var(--disabled-bg-color);\n",
              "    fill: var(--disabled-fill-color);\n",
              "    box-shadow: none;\n",
              "  }\n",
              "\n",
              "  .colab-df-spinner {\n",
              "    border: 2px solid var(--fill-color);\n",
              "    border-color: transparent;\n",
              "    border-bottom-color: var(--fill-color);\n",
              "    animation:\n",
              "      spin 1s steps(1) infinite;\n",
              "  }\n",
              "\n",
              "  @keyframes spin {\n",
              "    0% {\n",
              "      border-color: transparent;\n",
              "      border-bottom-color: var(--fill-color);\n",
              "      border-left-color: var(--fill-color);\n",
              "    }\n",
              "    20% {\n",
              "      border-color: transparent;\n",
              "      border-left-color: var(--fill-color);\n",
              "      border-top-color: var(--fill-color);\n",
              "    }\n",
              "    30% {\n",
              "      border-color: transparent;\n",
              "      border-left-color: var(--fill-color);\n",
              "      border-top-color: var(--fill-color);\n",
              "      border-right-color: var(--fill-color);\n",
              "    }\n",
              "    40% {\n",
              "      border-color: transparent;\n",
              "      border-right-color: var(--fill-color);\n",
              "      border-top-color: var(--fill-color);\n",
              "    }\n",
              "    60% {\n",
              "      border-color: transparent;\n",
              "      border-right-color: var(--fill-color);\n",
              "    }\n",
              "    80% {\n",
              "      border-color: transparent;\n",
              "      border-right-color: var(--fill-color);\n",
              "      border-bottom-color: var(--fill-color);\n",
              "    }\n",
              "    90% {\n",
              "      border-color: transparent;\n",
              "      border-bottom-color: var(--fill-color);\n",
              "    }\n",
              "  }\n",
              "</style>\n",
              "\n",
              "  <script>\n",
              "    async function quickchart(key) {\n",
              "      const quickchartButtonEl =\n",
              "        document.querySelector('#' + key + ' button');\n",
              "      quickchartButtonEl.disabled = true;  // To prevent multiple clicks.\n",
              "      quickchartButtonEl.classList.add('colab-df-spinner');\n",
              "      try {\n",
              "        const charts = await google.colab.kernel.invokeFunction(\n",
              "            'suggestCharts', [key], {});\n",
              "      } catch (error) {\n",
              "        console.error('Error during call to suggestCharts:', error);\n",
              "      }\n",
              "      quickchartButtonEl.classList.remove('colab-df-spinner');\n",
              "      quickchartButtonEl.classList.add('colab-df-quickchart-complete');\n",
              "    }\n",
              "    (() => {\n",
              "      let quickchartButtonEl =\n",
              "        document.querySelector('#df-e3542b8b-f5e4-4ace-8d7a-0de28d1086e7 button');\n",
              "      quickchartButtonEl.style.display =\n",
              "        google.colab.kernel.accessAllowed ? 'block' : 'none';\n",
              "    })();\n",
              "  </script>\n",
              "</div>\n",
              "\n",
              "  <div id=\"id_d5d8840b-3cb1-4fdc-a743-f35d64f97137\">\n",
              "    <style>\n",
              "      .colab-df-generate {\n",
              "        background-color: #E8F0FE;\n",
              "        border: none;\n",
              "        border-radius: 50%;\n",
              "        cursor: pointer;\n",
              "        display: none;\n",
              "        fill: #1967D2;\n",
              "        height: 32px;\n",
              "        padding: 0 0 0 0;\n",
              "        width: 32px;\n",
              "      }\n",
              "\n",
              "      .colab-df-generate:hover {\n",
              "        background-color: #E2EBFA;\n",
              "        box-shadow: 0px 1px 2px rgba(60, 64, 67, 0.3), 0px 1px 3px 1px rgba(60, 64, 67, 0.15);\n",
              "        fill: #174EA6;\n",
              "      }\n",
              "\n",
              "      [theme=dark] .colab-df-generate {\n",
              "        background-color: #3B4455;\n",
              "        fill: #D2E3FC;\n",
              "      }\n",
              "\n",
              "      [theme=dark] .colab-df-generate:hover {\n",
              "        background-color: #434B5C;\n",
              "        box-shadow: 0px 1px 3px 1px rgba(0, 0, 0, 0.15);\n",
              "        filter: drop-shadow(0px 1px 2px rgba(0, 0, 0, 0.3));\n",
              "        fill: #FFFFFF;\n",
              "      }\n",
              "    </style>\n",
              "    <button class=\"colab-df-generate\" onclick=\"generateWithVariable('df')\"\n",
              "            title=\"Generate code using this dataframe.\"\n",
              "            style=\"display:none;\">\n",
              "\n",
              "  <svg xmlns=\"http://www.w3.org/2000/svg\" height=\"24px\"viewBox=\"0 0 24 24\"\n",
              "       width=\"24px\">\n",
              "    <path d=\"M7,19H8.4L18.45,9,17,7.55,7,17.6ZM5,21V16.75L18.45,3.32a2,2,0,0,1,2.83,0l1.4,1.43a1.91,1.91,0,0,1,.58,1.4,1.91,1.91,0,0,1-.58,1.4L9.25,21ZM18.45,9,17,7.55Zm-12,3A5.31,5.31,0,0,0,4.9,8.1,5.31,5.31,0,0,0,1,6.5,5.31,5.31,0,0,0,4.9,4.9,5.31,5.31,0,0,0,6.5,1,5.31,5.31,0,0,0,8.1,4.9,5.31,5.31,0,0,0,12,6.5,5.46,5.46,0,0,0,6.5,12Z\"/>\n",
              "  </svg>\n",
              "    </button>\n",
              "    <script>\n",
              "      (() => {\n",
              "      const buttonEl =\n",
              "        document.querySelector('#id_d5d8840b-3cb1-4fdc-a743-f35d64f97137 button.colab-df-generate');\n",
              "      buttonEl.style.display =\n",
              "        google.colab.kernel.accessAllowed ? 'block' : 'none';\n",
              "\n",
              "      buttonEl.onclick = () => {\n",
              "        google.colab.notebook.generateWithVariable('df');\n",
              "      }\n",
              "      })();\n",
              "    </script>\n",
              "  </div>\n",
              "\n",
              "    </div>\n",
              "  </div>\n"
            ],
            "application/vnd.google.colaboratory.intrinsic+json": {
              "type": "dataframe",
              "variable_name": "df",
              "summary": "{\n  \"name\": \"df\",\n  \"rows\": 99,\n  \"fields\": [\n    {\n      \"column\": \"train/loss\",\n      \"properties\": {\n        \"dtype\": \"number\",\n        \"std\": 0.044906421173484576,\n        \"min\": 1.9786174297332764,\n        \"max\": 2.2500574588775635,\n        \"num_unique_values\": 99,\n        \"samples\": [\n          2.030437707901001,\n          2.027609348297119,\n          2.025775909423828\n        ],\n        \"semantic_type\": \"\",\n        \"description\": \"\"\n      }\n    },\n    {\n      \"column\": \"_step\",\n      \"properties\": {\n        \"dtype\": \"number\",\n        \"std\": 14361,\n        \"min\": 500,\n        \"max\": 49500,\n        \"num_unique_values\": 99,\n        \"samples\": [\n          31500,\n          20500,\n          48000\n        ],\n        \"semantic_type\": \"\",\n        \"description\": \"\"\n      }\n    },\n    {\n      \"column\": \"_runtime\",\n      \"properties\": {\n        \"dtype\": \"number\",\n        \"std\": 185.3894680721437,\n        \"min\": 12.467079162597656,\n        \"max\": 643.693932056427,\n        \"num_unique_values\": 99,\n        \"samples\": [\n          415.3478994369507,\n          268.3412125110626,\n          624.081707239151\n        ],\n        \"semantic_type\": \"\",\n        \"description\": \"\"\n      }\n    },\n    {\n      \"column\": \"test/loss\",\n      \"properties\": {\n        \"dtype\": \"number\",\n        \"std\": 0.032067152665702696,\n        \"min\": 2.0299012660980225,\n        \"max\": 2.2296860218048096,\n        \"num_unique_values\": 99,\n        \"samples\": [\n          2.0365757942199707,\n          2.0427627563476562,\n          2.03602933883667\n        ],\n        \"semantic_type\": \"\",\n        \"description\": \"\"\n      }\n    },\n    {\n      \"column\": \"_timestamp\",\n      \"properties\": {\n        \"dtype\": \"number\",\n        \"std\": 185.3894680721437,\n        \"min\": 1717545046.4054322,\n        \"max\": 1717545677.632285,\n        \"num_unique_values\": 99,\n        \"samples\": [\n          1717545449.2862525,\n          1717545302.2795656,\n          1717545658.0200603\n        ],\n        \"semantic_type\": \"\",\n        \"description\": \"\"\n      }\n    }\n  ]\n}"
            }
          },
          "metadata": {},
          "execution_count": 12
        }
      ]
    },
    {
      "cell_type": "code",
      "source": [
        "import plotly.graph_objects as go\n",
        "\n",
        "def _plot_series_plotly(fig, series, series_name, series_index=0):\n",
        "    palette = ['#1B9E77', '#D95F02', '#7570B3', '#E7298A', '#66A61E', '#E6AB02', '#A6761D', '#666666']\n",
        "    xs = series['_step']\n",
        "    train_ys = series['train/loss']\n",
        "    dev_ys = series['test/loss']\n",
        "\n",
        "    fig.add_trace(go.Scatter(x=xs, y=train_ys, mode='lines', name=f'{series_name} train', line=dict(color=palette[series_index % len(palette)])))\n",
        "    fig.add_trace(go.Scatter(x=xs, y=dev_ys, mode='lines', name=f'{series_name} test', line=dict(color=palette[(series_index + 1) % len(palette)])))\n",
        "\n",
        "# Sort DataFrame\n",
        "df_sorted = df.sort_values('_step', ascending=True)\n",
        "\n",
        "# Create Plotly figure\n",
        "fig = go.Figure()\n",
        "\n",
        "# Plot the series\n",
        "_plot_series_plotly(fig, df_sorted, '')\n",
        "\n",
        "# Update layout\n",
        "fig.update_layout(\n",
        "    xaxis_title='step',\n",
        "    yaxis_title='loss',\n",
        "    template='plotly_white',\n",
        ")\n",
        "\n",
        "# Show the figure\n",
        "fig.show()\n",
        "\n"
      ],
      "metadata": {
        "id": "bnHC7Hj90USt",
        "outputId": "efd32f73-c6a5-426e-e0c9-8616eb9ec683",
        "colab": {
          "base_uri": "https://localhost:8080/",
          "height": 542
        }
      },
      "execution_count": 16,
      "outputs": [
        {
          "output_type": "display_data",
          "data": {
            "text/html": [
              "<html>\n",
              "<head><meta charset=\"utf-8\" /></head>\n",
              "<body>\n",
              "    <div>            <script src=\"https://cdnjs.cloudflare.com/ajax/libs/mathjax/2.7.5/MathJax.js?config=TeX-AMS-MML_SVG\"></script><script type=\"text/javascript\">if (window.MathJax && window.MathJax.Hub && window.MathJax.Hub.Config) {window.MathJax.Hub.Config({SVG: {font: \"STIX-Web\"}});}</script>                <script type=\"text/javascript\">window.PlotlyConfig = {MathJaxConfig: 'local'};</script>\n",
              "        <script charset=\"utf-8\" src=\"https://cdn.plot.ly/plotly-2.24.1.min.js\"></script>                <div id=\"7bca46a8-0a81-4701-8f7e-2562c8963389\" class=\"plotly-graph-div\" style=\"height:525px; width:100%;\"></div>            <script type=\"text/javascript\">                                    window.PLOTLYENV=window.PLOTLYENV || {};                                    if (document.getElementById(\"7bca46a8-0a81-4701-8f7e-2562c8963389\")) {                    Plotly.newPlot(                        \"7bca46a8-0a81-4701-8f7e-2562c8963389\",                        [{\"line\":{\"color\":\"#1B9E77\"},\"mode\":\"lines\",\"name\":\" train\",\"x\":[500,1000,1500,2000,2500,3000,3500,4000,4500,5000,5500,6000,6500,7000,7500,8000,8500,9000,9500,10000,10500,11000,11500,12000,12500,13000,13500,14000,14500,15000,15500,16000,16500,17000,17500,18000,18500,19000,19500,20000,20500,21000,21500,22000,22500,23000,23500,24000,24500,25000,25500,26000,26500,27000,27500,28000,28500,29000,29500,30000,30500,31000,31500,32000,32500,33000,33500,34000,34500,35000,35500,36000,36500,37000,37500,38000,38500,39000,39500,40000,40500,41000,41500,42000,42500,43000,43500,44000,44500,45000,45500,46000,46500,47000,47500,48000,48500,49000,49500],\"y\":[2.2500574588775635,2.213423728942871,2.1632275581359863,2.1262893676757812,2.1560544967651367,2.133525848388672,2.108839273452759,2.1095893383026123,2.1059699058532715,2.093019723892212,2.0744526386260986,2.0744779109954834,2.0554306507110596,2.0855257511138916,2.075714349746704,2.074798822402954,2.067284107208252,2.055018424987793,2.052359104156494,2.06911563873291,2.045581579208374,2.064545154571533,2.047130584716797,2.04551100730896,2.017996072769165,2.028777837753296,2.0623552799224854,2.020390510559082,2.0290262699127197,2.0522310733795166,2.0142266750335693,2.019979953765869,2.039964437484741,2.0441386699676514,2.0240609645843506,2.022830009460449,2.0378878116607666,2.0304949283599854,2.0176522731781006,2.043074369430542,2.027609348297119,1.9935035705566406,2.0316667556762695,1.9984039068222046,2.0129611492156982,2.0016651153564453,2.0280580520629883,2.010401487350464,2.0168416500091553,2.0231306552886963,2.0309696197509766,2.017404794692993,2.013197898864746,2.0277047157287598,2.0160956382751465,2.019299030303955,2.016113042831421,2.0221784114837646,2.0194895267486572,2.0214288234710693,2.0069968700408936,1.994393229484558,2.030437707901001,2.0041375160217285,2.038300037384033,2.002793073654175,2.027848243713379,1.9987012147903442,2.0100209712982178,2.00893235206604,2.02146315574646,2.0300452709198,2.0029358863830566,2.0262019634246826,2.026064157485962,2.0046377182006836,2.015782356262207,1.9958081245422363,1.9950999021530151,2.0159521102905273,2.0168638229370117,2.0075864791870117,2.005070924758911,2.0023281574249268,2.015192985534668,2.003880500793457,2.010002613067627,2.020334005355835,1.9997706413269043,2.0100648403167725,2.006267547607422,2.000863790512085,2.031736135482788,2.023162841796875,2.02821683883667,2.025775909423828,2.0109527111053467,1.9786174297332764,2.020616054534912],\"type\":\"scatter\"},{\"line\":{\"color\":\"#D95F02\"},\"mode\":\"lines\",\"name\":\" test\",\"x\":[500,1000,1500,2000,2500,3000,3500,4000,4500,5000,5500,6000,6500,7000,7500,8000,8500,9000,9500,10000,10500,11000,11500,12000,12500,13000,13500,14000,14500,15000,15500,16000,16500,17000,17500,18000,18500,19000,19500,20000,20500,21000,21500,22000,22500,23000,23500,24000,24500,25000,25500,26000,26500,27000,27500,28000,28500,29000,29500,30000,30500,31000,31500,32000,32500,33000,33500,34000,34500,35000,35500,36000,36500,37000,37500,38000,38500,39000,39500,40000,40500,41000,41500,42000,42500,43000,43500,44000,44500,45000,45500,46000,46500,47000,47500,48000,48500,49000,49500],\"y\":[2.2296860218048096,2.180049180984497,2.1538853645324707,2.134612560272217,2.121067762374878,2.111884593963623,2.101562976837158,2.101950168609619,2.0904459953308105,2.0823097229003906,2.0797948837280273,2.079603672027588,2.0764636993408203,2.071931838989258,2.070568084716797,2.064915418624878,2.063777446746826,2.0681748390197754,2.0605804920196533,2.061089277267456,2.056905508041382,2.0590310096740723,2.053175926208496,2.05206036567688,2.0471158027648926,2.050957202911377,2.046590805053711,2.0483994483947754,2.0502476692199707,2.0438084602355957,2.047795295715332,2.0425589084625244,2.0493922233581543,2.042463541030884,2.04304838180542,2.0372378826141357,2.044665575027466,2.0502469539642334,2.0433592796325684,2.04469895362854,2.0427627563476562,2.0407330989837646,2.039186716079712,2.0400099754333496,2.0392966270446777,2.03401255607605,2.0409774780273438,2.040250301361084,2.042515277862549,2.0395023822784424,2.0411195755004883,2.0382182598114014,2.041699171066284,2.038435459136963,2.033656597137451,2.038073778152466,2.037770986557007,2.0335612297058105,2.0377721786499023,2.0394153594970703,2.041970729827881,2.034956216812134,2.0365757942199707,2.0375685691833496,2.036947011947632,2.0346295833587646,2.0358126163482666,2.0307915210723877,2.030667543411255,2.033548355102539,2.035165548324585,2.036780834197998,2.0361428260803223,2.0376899242401123,2.0357208251953125,2.0338597297668457,2.039175033569336,2.036496877670288,2.033054828643799,2.035470724105835,2.0343101024627686,2.030338764190674,2.0324740409851074,2.0348854064941406,2.0316321849823,2.0308966636657715,2.035172939300537,2.0327680110931396,2.0321943759918213,2.0337798595428467,2.031825065612793,2.034027099609375,2.0351340770721436,2.0380821228027344,2.037997007369995,2.03602933883667,2.0345892906188965,2.0299012660980225,2.0357089042663574],\"type\":\"scatter\"}],                        {\"template\":{\"data\":{\"barpolar\":[{\"marker\":{\"line\":{\"color\":\"white\",\"width\":0.5},\"pattern\":{\"fillmode\":\"overlay\",\"size\":10,\"solidity\":0.2}},\"type\":\"barpolar\"}],\"bar\":[{\"error_x\":{\"color\":\"#2a3f5f\"},\"error_y\":{\"color\":\"#2a3f5f\"},\"marker\":{\"line\":{\"color\":\"white\",\"width\":0.5},\"pattern\":{\"fillmode\":\"overlay\",\"size\":10,\"solidity\":0.2}},\"type\":\"bar\"}],\"carpet\":[{\"aaxis\":{\"endlinecolor\":\"#2a3f5f\",\"gridcolor\":\"#C8D4E3\",\"linecolor\":\"#C8D4E3\",\"minorgridcolor\":\"#C8D4E3\",\"startlinecolor\":\"#2a3f5f\"},\"baxis\":{\"endlinecolor\":\"#2a3f5f\",\"gridcolor\":\"#C8D4E3\",\"linecolor\":\"#C8D4E3\",\"minorgridcolor\":\"#C8D4E3\",\"startlinecolor\":\"#2a3f5f\"},\"type\":\"carpet\"}],\"choropleth\":[{\"colorbar\":{\"outlinewidth\":0,\"ticks\":\"\"},\"type\":\"choropleth\"}],\"contourcarpet\":[{\"colorbar\":{\"outlinewidth\":0,\"ticks\":\"\"},\"type\":\"contourcarpet\"}],\"contour\":[{\"colorbar\":{\"outlinewidth\":0,\"ticks\":\"\"},\"colorscale\":[[0.0,\"#0d0887\"],[0.1111111111111111,\"#46039f\"],[0.2222222222222222,\"#7201a8\"],[0.3333333333333333,\"#9c179e\"],[0.4444444444444444,\"#bd3786\"],[0.5555555555555556,\"#d8576b\"],[0.6666666666666666,\"#ed7953\"],[0.7777777777777778,\"#fb9f3a\"],[0.8888888888888888,\"#fdca26\"],[1.0,\"#f0f921\"]],\"type\":\"contour\"}],\"heatmapgl\":[{\"colorbar\":{\"outlinewidth\":0,\"ticks\":\"\"},\"colorscale\":[[0.0,\"#0d0887\"],[0.1111111111111111,\"#46039f\"],[0.2222222222222222,\"#7201a8\"],[0.3333333333333333,\"#9c179e\"],[0.4444444444444444,\"#bd3786\"],[0.5555555555555556,\"#d8576b\"],[0.6666666666666666,\"#ed7953\"],[0.7777777777777778,\"#fb9f3a\"],[0.8888888888888888,\"#fdca26\"],[1.0,\"#f0f921\"]],\"type\":\"heatmapgl\"}],\"heatmap\":[{\"colorbar\":{\"outlinewidth\":0,\"ticks\":\"\"},\"colorscale\":[[0.0,\"#0d0887\"],[0.1111111111111111,\"#46039f\"],[0.2222222222222222,\"#7201a8\"],[0.3333333333333333,\"#9c179e\"],[0.4444444444444444,\"#bd3786\"],[0.5555555555555556,\"#d8576b\"],[0.6666666666666666,\"#ed7953\"],[0.7777777777777778,\"#fb9f3a\"],[0.8888888888888888,\"#fdca26\"],[1.0,\"#f0f921\"]],\"type\":\"heatmap\"}],\"histogram2dcontour\":[{\"colorbar\":{\"outlinewidth\":0,\"ticks\":\"\"},\"colorscale\":[[0.0,\"#0d0887\"],[0.1111111111111111,\"#46039f\"],[0.2222222222222222,\"#7201a8\"],[0.3333333333333333,\"#9c179e\"],[0.4444444444444444,\"#bd3786\"],[0.5555555555555556,\"#d8576b\"],[0.6666666666666666,\"#ed7953\"],[0.7777777777777778,\"#fb9f3a\"],[0.8888888888888888,\"#fdca26\"],[1.0,\"#f0f921\"]],\"type\":\"histogram2dcontour\"}],\"histogram2d\":[{\"colorbar\":{\"outlinewidth\":0,\"ticks\":\"\"},\"colorscale\":[[0.0,\"#0d0887\"],[0.1111111111111111,\"#46039f\"],[0.2222222222222222,\"#7201a8\"],[0.3333333333333333,\"#9c179e\"],[0.4444444444444444,\"#bd3786\"],[0.5555555555555556,\"#d8576b\"],[0.6666666666666666,\"#ed7953\"],[0.7777777777777778,\"#fb9f3a\"],[0.8888888888888888,\"#fdca26\"],[1.0,\"#f0f921\"]],\"type\":\"histogram2d\"}],\"histogram\":[{\"marker\":{\"pattern\":{\"fillmode\":\"overlay\",\"size\":10,\"solidity\":0.2}},\"type\":\"histogram\"}],\"mesh3d\":[{\"colorbar\":{\"outlinewidth\":0,\"ticks\":\"\"},\"type\":\"mesh3d\"}],\"parcoords\":[{\"line\":{\"colorbar\":{\"outlinewidth\":0,\"ticks\":\"\"}},\"type\":\"parcoords\"}],\"pie\":[{\"automargin\":true,\"type\":\"pie\"}],\"scatter3d\":[{\"line\":{\"colorbar\":{\"outlinewidth\":0,\"ticks\":\"\"}},\"marker\":{\"colorbar\":{\"outlinewidth\":0,\"ticks\":\"\"}},\"type\":\"scatter3d\"}],\"scattercarpet\":[{\"marker\":{\"colorbar\":{\"outlinewidth\":0,\"ticks\":\"\"}},\"type\":\"scattercarpet\"}],\"scattergeo\":[{\"marker\":{\"colorbar\":{\"outlinewidth\":0,\"ticks\":\"\"}},\"type\":\"scattergeo\"}],\"scattergl\":[{\"marker\":{\"colorbar\":{\"outlinewidth\":0,\"ticks\":\"\"}},\"type\":\"scattergl\"}],\"scattermapbox\":[{\"marker\":{\"colorbar\":{\"outlinewidth\":0,\"ticks\":\"\"}},\"type\":\"scattermapbox\"}],\"scatterpolargl\":[{\"marker\":{\"colorbar\":{\"outlinewidth\":0,\"ticks\":\"\"}},\"type\":\"scatterpolargl\"}],\"scatterpolar\":[{\"marker\":{\"colorbar\":{\"outlinewidth\":0,\"ticks\":\"\"}},\"type\":\"scatterpolar\"}],\"scatter\":[{\"fillpattern\":{\"fillmode\":\"overlay\",\"size\":10,\"solidity\":0.2},\"type\":\"scatter\"}],\"scatterternary\":[{\"marker\":{\"colorbar\":{\"outlinewidth\":0,\"ticks\":\"\"}},\"type\":\"scatterternary\"}],\"surface\":[{\"colorbar\":{\"outlinewidth\":0,\"ticks\":\"\"},\"colorscale\":[[0.0,\"#0d0887\"],[0.1111111111111111,\"#46039f\"],[0.2222222222222222,\"#7201a8\"],[0.3333333333333333,\"#9c179e\"],[0.4444444444444444,\"#bd3786\"],[0.5555555555555556,\"#d8576b\"],[0.6666666666666666,\"#ed7953\"],[0.7777777777777778,\"#fb9f3a\"],[0.8888888888888888,\"#fdca26\"],[1.0,\"#f0f921\"]],\"type\":\"surface\"}],\"table\":[{\"cells\":{\"fill\":{\"color\":\"#EBF0F8\"},\"line\":{\"color\":\"white\"}},\"header\":{\"fill\":{\"color\":\"#C8D4E3\"},\"line\":{\"color\":\"white\"}},\"type\":\"table\"}]},\"layout\":{\"annotationdefaults\":{\"arrowcolor\":\"#2a3f5f\",\"arrowhead\":0,\"arrowwidth\":1},\"autotypenumbers\":\"strict\",\"coloraxis\":{\"colorbar\":{\"outlinewidth\":0,\"ticks\":\"\"}},\"colorscale\":{\"diverging\":[[0,\"#8e0152\"],[0.1,\"#c51b7d\"],[0.2,\"#de77ae\"],[0.3,\"#f1b6da\"],[0.4,\"#fde0ef\"],[0.5,\"#f7f7f7\"],[0.6,\"#e6f5d0\"],[0.7,\"#b8e186\"],[0.8,\"#7fbc41\"],[0.9,\"#4d9221\"],[1,\"#276419\"]],\"sequential\":[[0.0,\"#0d0887\"],[0.1111111111111111,\"#46039f\"],[0.2222222222222222,\"#7201a8\"],[0.3333333333333333,\"#9c179e\"],[0.4444444444444444,\"#bd3786\"],[0.5555555555555556,\"#d8576b\"],[0.6666666666666666,\"#ed7953\"],[0.7777777777777778,\"#fb9f3a\"],[0.8888888888888888,\"#fdca26\"],[1.0,\"#f0f921\"]],\"sequentialminus\":[[0.0,\"#0d0887\"],[0.1111111111111111,\"#46039f\"],[0.2222222222222222,\"#7201a8\"],[0.3333333333333333,\"#9c179e\"],[0.4444444444444444,\"#bd3786\"],[0.5555555555555556,\"#d8576b\"],[0.6666666666666666,\"#ed7953\"],[0.7777777777777778,\"#fb9f3a\"],[0.8888888888888888,\"#fdca26\"],[1.0,\"#f0f921\"]]},\"colorway\":[\"#636efa\",\"#EF553B\",\"#00cc96\",\"#ab63fa\",\"#FFA15A\",\"#19d3f3\",\"#FF6692\",\"#B6E880\",\"#FF97FF\",\"#FECB52\"],\"font\":{\"color\":\"#2a3f5f\"},\"geo\":{\"bgcolor\":\"white\",\"lakecolor\":\"white\",\"landcolor\":\"white\",\"showlakes\":true,\"showland\":true,\"subunitcolor\":\"#C8D4E3\"},\"hoverlabel\":{\"align\":\"left\"},\"hovermode\":\"closest\",\"mapbox\":{\"style\":\"light\"},\"paper_bgcolor\":\"white\",\"plot_bgcolor\":\"white\",\"polar\":{\"angularaxis\":{\"gridcolor\":\"#EBF0F8\",\"linecolor\":\"#EBF0F8\",\"ticks\":\"\"},\"bgcolor\":\"white\",\"radialaxis\":{\"gridcolor\":\"#EBF0F8\",\"linecolor\":\"#EBF0F8\",\"ticks\":\"\"}},\"scene\":{\"xaxis\":{\"backgroundcolor\":\"white\",\"gridcolor\":\"#DFE8F3\",\"gridwidth\":2,\"linecolor\":\"#EBF0F8\",\"showbackground\":true,\"ticks\":\"\",\"zerolinecolor\":\"#EBF0F8\"},\"yaxis\":{\"backgroundcolor\":\"white\",\"gridcolor\":\"#DFE8F3\",\"gridwidth\":2,\"linecolor\":\"#EBF0F8\",\"showbackground\":true,\"ticks\":\"\",\"zerolinecolor\":\"#EBF0F8\"},\"zaxis\":{\"backgroundcolor\":\"white\",\"gridcolor\":\"#DFE8F3\",\"gridwidth\":2,\"linecolor\":\"#EBF0F8\",\"showbackground\":true,\"ticks\":\"\",\"zerolinecolor\":\"#EBF0F8\"}},\"shapedefaults\":{\"line\":{\"color\":\"#2a3f5f\"}},\"ternary\":{\"aaxis\":{\"gridcolor\":\"#DFE8F3\",\"linecolor\":\"#A2B1C6\",\"ticks\":\"\"},\"baxis\":{\"gridcolor\":\"#DFE8F3\",\"linecolor\":\"#A2B1C6\",\"ticks\":\"\"},\"bgcolor\":\"white\",\"caxis\":{\"gridcolor\":\"#DFE8F3\",\"linecolor\":\"#A2B1C6\",\"ticks\":\"\"}},\"title\":{\"x\":0.05},\"xaxis\":{\"automargin\":true,\"gridcolor\":\"#EBF0F8\",\"linecolor\":\"#EBF0F8\",\"ticks\":\"\",\"title\":{\"standoff\":15},\"zerolinecolor\":\"#EBF0F8\",\"zerolinewidth\":2},\"yaxis\":{\"automargin\":true,\"gridcolor\":\"#EBF0F8\",\"linecolor\":\"#EBF0F8\",\"ticks\":\"\",\"title\":{\"standoff\":15},\"zerolinecolor\":\"#EBF0F8\",\"zerolinewidth\":2}}},\"xaxis\":{\"title\":{\"text\":\"step\"}},\"yaxis\":{\"title\":{\"text\":\"loss\"}}},                        {\"responsive\": true}                    ).then(function(){\n",
              "                            \n",
              "var gd = document.getElementById('7bca46a8-0a81-4701-8f7e-2562c8963389');\n",
              "var x = new MutationObserver(function (mutations, observer) {{\n",
              "        var display = window.getComputedStyle(gd).display;\n",
              "        if (!display || display === 'none') {{\n",
              "            console.log([gd, 'removed!']);\n",
              "            Plotly.purge(gd);\n",
              "            observer.disconnect();\n",
              "        }}\n",
              "}});\n",
              "\n",
              "// Listen for the removal of the full notebook cells\n",
              "var notebookContainer = gd.closest('#notebook-container');\n",
              "if (notebookContainer) {{\n",
              "    x.observe(notebookContainer, {childList: true});\n",
              "}}\n",
              "\n",
              "// Listen for the clearing of the current output cell\n",
              "var outputEl = gd.closest('.output');\n",
              "if (outputEl) {{\n",
              "    x.observe(outputEl, {childList: true});\n",
              "}}\n",
              "\n",
              "                        })                };                            </script>        </div>\n",
              "</body>\n",
              "</html>"
            ]
          },
          "metadata": {}
        }
      ]
    },
    {
      "cell_type": "code",
      "source": [],
      "metadata": {
        "id": "-mxookMV1YJu"
      },
      "execution_count": null,
      "outputs": []
    }
  ],
  "metadata": {
    "colab": {
      "provenance": []
    },
    "kernelspec": {
      "display_name": "Python 3",
      "name": "python3"
    },
    "language_info": {
      "name": "python"
    },
    "widgets": {
      "application/vnd.jupyter.widget-state+json": {
        "ce2df191c1a54d28b06a059850bf77be": {
          "model_module": "@jupyter-widgets/controls",
          "model_name": "HBoxModel",
          "model_module_version": "1.5.0",
          "state": {
            "_dom_classes": [],
            "_model_module": "@jupyter-widgets/controls",
            "_model_module_version": "1.5.0",
            "_model_name": "HBoxModel",
            "_view_count": null,
            "_view_module": "@jupyter-widgets/controls",
            "_view_module_version": "1.5.0",
            "_view_name": "HBoxView",
            "box_style": "",
            "children": [
              "IPY_MODEL_84ac58bd31474eaab37ac977d846abf8",
              "IPY_MODEL_28ed26d312dd4dcab6f92bd8bdab2f12",
              "IPY_MODEL_b0088d9ca8954a13b63c88daad9afc95"
            ],
            "layout": "IPY_MODEL_a941f133635645cea976b93c9828421a"
          }
        },
        "84ac58bd31474eaab37ac977d846abf8": {
          "model_module": "@jupyter-widgets/controls",
          "model_name": "HTMLModel",
          "model_module_version": "1.5.0",
          "state": {
            "_dom_classes": [],
            "_model_module": "@jupyter-widgets/controls",
            "_model_module_version": "1.5.0",
            "_model_name": "HTMLModel",
            "_view_count": null,
            "_view_module": "@jupyter-widgets/controls",
            "_view_module_version": "1.5.0",
            "_view_name": "HTMLView",
            "description": "",
            "description_tooltip": null,
            "layout": "IPY_MODEL_4430949a7b854b6eb008949b876b36f5",
            "placeholder": "​",
            "style": "IPY_MODEL_8d1d71d29fda4376a765c15c1329415a",
            "value": "100%"
          }
        },
        "28ed26d312dd4dcab6f92bd8bdab2f12": {
          "model_module": "@jupyter-widgets/controls",
          "model_name": "FloatProgressModel",
          "model_module_version": "1.5.0",
          "state": {
            "_dom_classes": [],
            "_model_module": "@jupyter-widgets/controls",
            "_model_module_version": "1.5.0",
            "_model_name": "FloatProgressModel",
            "_view_count": null,
            "_view_module": "@jupyter-widgets/controls",
            "_view_module_version": "1.5.0",
            "_view_name": "ProgressView",
            "bar_style": "success",
            "description": "",
            "description_tooltip": null,
            "layout": "IPY_MODEL_497c981a0fe449d1a5fe64498c02d18b",
            "max": 50000,
            "min": 0,
            "orientation": "horizontal",
            "style": "IPY_MODEL_0f89b6e3b2654514b57d79fe70b33440",
            "value": 50000
          }
        },
        "b0088d9ca8954a13b63c88daad9afc95": {
          "model_module": "@jupyter-widgets/controls",
          "model_name": "HTMLModel",
          "model_module_version": "1.5.0",
          "state": {
            "_dom_classes": [],
            "_model_module": "@jupyter-widgets/controls",
            "_model_module_version": "1.5.0",
            "_model_name": "HTMLModel",
            "_view_count": null,
            "_view_module": "@jupyter-widgets/controls",
            "_view_module_version": "1.5.0",
            "_view_name": "HTMLView",
            "description": "",
            "description_tooltip": null,
            "layout": "IPY_MODEL_4272be3d98874027824c24b5ec04e5d2",
            "placeholder": "​",
            "style": "IPY_MODEL_a1099cdfd2644c4a92fe16fe3540e444",
            "value": " 50000/50000 [10:46&lt;00:00, 89.00it/s]"
          }
        },
        "a941f133635645cea976b93c9828421a": {
          "model_module": "@jupyter-widgets/base",
          "model_name": "LayoutModel",
          "model_module_version": "1.2.0",
          "state": {
            "_model_module": "@jupyter-widgets/base",
            "_model_module_version": "1.2.0",
            "_model_name": "LayoutModel",
            "_view_count": null,
            "_view_module": "@jupyter-widgets/base",
            "_view_module_version": "1.2.0",
            "_view_name": "LayoutView",
            "align_content": null,
            "align_items": null,
            "align_self": null,
            "border": null,
            "bottom": null,
            "display": null,
            "flex": null,
            "flex_flow": null,
            "grid_area": null,
            "grid_auto_columns": null,
            "grid_auto_flow": null,
            "grid_auto_rows": null,
            "grid_column": null,
            "grid_gap": null,
            "grid_row": null,
            "grid_template_areas": null,
            "grid_template_columns": null,
            "grid_template_rows": null,
            "height": null,
            "justify_content": null,
            "justify_items": null,
            "left": null,
            "margin": null,
            "max_height": null,
            "max_width": null,
            "min_height": null,
            "min_width": null,
            "object_fit": null,
            "object_position": null,
            "order": null,
            "overflow": null,
            "overflow_x": null,
            "overflow_y": null,
            "padding": null,
            "right": null,
            "top": null,
            "visibility": null,
            "width": null
          }
        },
        "4430949a7b854b6eb008949b876b36f5": {
          "model_module": "@jupyter-widgets/base",
          "model_name": "LayoutModel",
          "model_module_version": "1.2.0",
          "state": {
            "_model_module": "@jupyter-widgets/base",
            "_model_module_version": "1.2.0",
            "_model_name": "LayoutModel",
            "_view_count": null,
            "_view_module": "@jupyter-widgets/base",
            "_view_module_version": "1.2.0",
            "_view_name": "LayoutView",
            "align_content": null,
            "align_items": null,
            "align_self": null,
            "border": null,
            "bottom": null,
            "display": null,
            "flex": null,
            "flex_flow": null,
            "grid_area": null,
            "grid_auto_columns": null,
            "grid_auto_flow": null,
            "grid_auto_rows": null,
            "grid_column": null,
            "grid_gap": null,
            "grid_row": null,
            "grid_template_areas": null,
            "grid_template_columns": null,
            "grid_template_rows": null,
            "height": null,
            "justify_content": null,
            "justify_items": null,
            "left": null,
            "margin": null,
            "max_height": null,
            "max_width": null,
            "min_height": null,
            "min_width": null,
            "object_fit": null,
            "object_position": null,
            "order": null,
            "overflow": null,
            "overflow_x": null,
            "overflow_y": null,
            "padding": null,
            "right": null,
            "top": null,
            "visibility": null,
            "width": null
          }
        },
        "8d1d71d29fda4376a765c15c1329415a": {
          "model_module": "@jupyter-widgets/controls",
          "model_name": "DescriptionStyleModel",
          "model_module_version": "1.5.0",
          "state": {
            "_model_module": "@jupyter-widgets/controls",
            "_model_module_version": "1.5.0",
            "_model_name": "DescriptionStyleModel",
            "_view_count": null,
            "_view_module": "@jupyter-widgets/base",
            "_view_module_version": "1.2.0",
            "_view_name": "StyleView",
            "description_width": ""
          }
        },
        "497c981a0fe449d1a5fe64498c02d18b": {
          "model_module": "@jupyter-widgets/base",
          "model_name": "LayoutModel",
          "model_module_version": "1.2.0",
          "state": {
            "_model_module": "@jupyter-widgets/base",
            "_model_module_version": "1.2.0",
            "_model_name": "LayoutModel",
            "_view_count": null,
            "_view_module": "@jupyter-widgets/base",
            "_view_module_version": "1.2.0",
            "_view_name": "LayoutView",
            "align_content": null,
            "align_items": null,
            "align_self": null,
            "border": null,
            "bottom": null,
            "display": null,
            "flex": null,
            "flex_flow": null,
            "grid_area": null,
            "grid_auto_columns": null,
            "grid_auto_flow": null,
            "grid_auto_rows": null,
            "grid_column": null,
            "grid_gap": null,
            "grid_row": null,
            "grid_template_areas": null,
            "grid_template_columns": null,
            "grid_template_rows": null,
            "height": null,
            "justify_content": null,
            "justify_items": null,
            "left": null,
            "margin": null,
            "max_height": null,
            "max_width": null,
            "min_height": null,
            "min_width": null,
            "object_fit": null,
            "object_position": null,
            "order": null,
            "overflow": null,
            "overflow_x": null,
            "overflow_y": null,
            "padding": null,
            "right": null,
            "top": null,
            "visibility": null,
            "width": null
          }
        },
        "0f89b6e3b2654514b57d79fe70b33440": {
          "model_module": "@jupyter-widgets/controls",
          "model_name": "ProgressStyleModel",
          "model_module_version": "1.5.0",
          "state": {
            "_model_module": "@jupyter-widgets/controls",
            "_model_module_version": "1.5.0",
            "_model_name": "ProgressStyleModel",
            "_view_count": null,
            "_view_module": "@jupyter-widgets/base",
            "_view_module_version": "1.2.0",
            "_view_name": "StyleView",
            "bar_color": null,
            "description_width": ""
          }
        },
        "4272be3d98874027824c24b5ec04e5d2": {
          "model_module": "@jupyter-widgets/base",
          "model_name": "LayoutModel",
          "model_module_version": "1.2.0",
          "state": {
            "_model_module": "@jupyter-widgets/base",
            "_model_module_version": "1.2.0",
            "_model_name": "LayoutModel",
            "_view_count": null,
            "_view_module": "@jupyter-widgets/base",
            "_view_module_version": "1.2.0",
            "_view_name": "LayoutView",
            "align_content": null,
            "align_items": null,
            "align_self": null,
            "border": null,
            "bottom": null,
            "display": null,
            "flex": null,
            "flex_flow": null,
            "grid_area": null,
            "grid_auto_columns": null,
            "grid_auto_flow": null,
            "grid_auto_rows": null,
            "grid_column": null,
            "grid_gap": null,
            "grid_row": null,
            "grid_template_areas": null,
            "grid_template_columns": null,
            "grid_template_rows": null,
            "height": null,
            "justify_content": null,
            "justify_items": null,
            "left": null,
            "margin": null,
            "max_height": null,
            "max_width": null,
            "min_height": null,
            "min_width": null,
            "object_fit": null,
            "object_position": null,
            "order": null,
            "overflow": null,
            "overflow_x": null,
            "overflow_y": null,
            "padding": null,
            "right": null,
            "top": null,
            "visibility": null,
            "width": null
          }
        },
        "a1099cdfd2644c4a92fe16fe3540e444": {
          "model_module": "@jupyter-widgets/controls",
          "model_name": "DescriptionStyleModel",
          "model_module_version": "1.5.0",
          "state": {
            "_model_module": "@jupyter-widgets/controls",
            "_model_module_version": "1.5.0",
            "_model_name": "DescriptionStyleModel",
            "_view_count": null,
            "_view_module": "@jupyter-widgets/base",
            "_view_module_version": "1.2.0",
            "_view_name": "StyleView",
            "description_width": ""
          }
        },
        "9deb583926bc4e20a3f8e4ec982ad585": {
          "model_module": "@jupyter-widgets/controls",
          "model_name": "VBoxModel",
          "model_module_version": "1.5.0",
          "state": {
            "_dom_classes": [],
            "_model_module": "@jupyter-widgets/controls",
            "_model_module_version": "1.5.0",
            "_model_name": "VBoxModel",
            "_view_count": null,
            "_view_module": "@jupyter-widgets/controls",
            "_view_module_version": "1.5.0",
            "_view_name": "VBoxView",
            "box_style": "",
            "children": [
              "IPY_MODEL_e01f2187b8ef4aa6a96045429862b55b",
              "IPY_MODEL_df5522f5b19a4e5585c0e06d2bbeebf2"
            ],
            "layout": "IPY_MODEL_8373ed9284a2465992074438026511da"
          }
        },
        "e01f2187b8ef4aa6a96045429862b55b": {
          "model_module": "@jupyter-widgets/controls",
          "model_name": "LabelModel",
          "model_module_version": "1.5.0",
          "state": {
            "_dom_classes": [],
            "_model_module": "@jupyter-widgets/controls",
            "_model_module_version": "1.5.0",
            "_model_name": "LabelModel",
            "_view_count": null,
            "_view_module": "@jupyter-widgets/controls",
            "_view_module_version": "1.5.0",
            "_view_name": "LabelView",
            "description": "",
            "description_tooltip": null,
            "layout": "IPY_MODEL_e6a6628d82c647e982a5a7e298e5cf75",
            "placeholder": "​",
            "style": "IPY_MODEL_55fa95f2e7a0414d98573cf51423d378",
            "value": "0.018 MB of 0.018 MB uploaded\r"
          }
        },
        "df5522f5b19a4e5585c0e06d2bbeebf2": {
          "model_module": "@jupyter-widgets/controls",
          "model_name": "FloatProgressModel",
          "model_module_version": "1.5.0",
          "state": {
            "_dom_classes": [],
            "_model_module": "@jupyter-widgets/controls",
            "_model_module_version": "1.5.0",
            "_model_name": "FloatProgressModel",
            "_view_count": null,
            "_view_module": "@jupyter-widgets/controls",
            "_view_module_version": "1.5.0",
            "_view_name": "ProgressView",
            "bar_style": "",
            "description": "",
            "description_tooltip": null,
            "layout": "IPY_MODEL_0691bdcd6d5048d796d2da2196e3a4a9",
            "max": 1,
            "min": 0,
            "orientation": "horizontal",
            "style": "IPY_MODEL_cfc330d6db8b4579bbc54faaeb6167c6",
            "value": 1
          }
        },
        "8373ed9284a2465992074438026511da": {
          "model_module": "@jupyter-widgets/base",
          "model_name": "LayoutModel",
          "model_module_version": "1.2.0",
          "state": {
            "_model_module": "@jupyter-widgets/base",
            "_model_module_version": "1.2.0",
            "_model_name": "LayoutModel",
            "_view_count": null,
            "_view_module": "@jupyter-widgets/base",
            "_view_module_version": "1.2.0",
            "_view_name": "LayoutView",
            "align_content": null,
            "align_items": null,
            "align_self": null,
            "border": null,
            "bottom": null,
            "display": null,
            "flex": null,
            "flex_flow": null,
            "grid_area": null,
            "grid_auto_columns": null,
            "grid_auto_flow": null,
            "grid_auto_rows": null,
            "grid_column": null,
            "grid_gap": null,
            "grid_row": null,
            "grid_template_areas": null,
            "grid_template_columns": null,
            "grid_template_rows": null,
            "height": null,
            "justify_content": null,
            "justify_items": null,
            "left": null,
            "margin": null,
            "max_height": null,
            "max_width": null,
            "min_height": null,
            "min_width": null,
            "object_fit": null,
            "object_position": null,
            "order": null,
            "overflow": null,
            "overflow_x": null,
            "overflow_y": null,
            "padding": null,
            "right": null,
            "top": null,
            "visibility": null,
            "width": null
          }
        },
        "e6a6628d82c647e982a5a7e298e5cf75": {
          "model_module": "@jupyter-widgets/base",
          "model_name": "LayoutModel",
          "model_module_version": "1.2.0",
          "state": {
            "_model_module": "@jupyter-widgets/base",
            "_model_module_version": "1.2.0",
            "_model_name": "LayoutModel",
            "_view_count": null,
            "_view_module": "@jupyter-widgets/base",
            "_view_module_version": "1.2.0",
            "_view_name": "LayoutView",
            "align_content": null,
            "align_items": null,
            "align_self": null,
            "border": null,
            "bottom": null,
            "display": null,
            "flex": null,
            "flex_flow": null,
            "grid_area": null,
            "grid_auto_columns": null,
            "grid_auto_flow": null,
            "grid_auto_rows": null,
            "grid_column": null,
            "grid_gap": null,
            "grid_row": null,
            "grid_template_areas": null,
            "grid_template_columns": null,
            "grid_template_rows": null,
            "height": null,
            "justify_content": null,
            "justify_items": null,
            "left": null,
            "margin": null,
            "max_height": null,
            "max_width": null,
            "min_height": null,
            "min_width": null,
            "object_fit": null,
            "object_position": null,
            "order": null,
            "overflow": null,
            "overflow_x": null,
            "overflow_y": null,
            "padding": null,
            "right": null,
            "top": null,
            "visibility": null,
            "width": null
          }
        },
        "55fa95f2e7a0414d98573cf51423d378": {
          "model_module": "@jupyter-widgets/controls",
          "model_name": "DescriptionStyleModel",
          "model_module_version": "1.5.0",
          "state": {
            "_model_module": "@jupyter-widgets/controls",
            "_model_module_version": "1.5.0",
            "_model_name": "DescriptionStyleModel",
            "_view_count": null,
            "_view_module": "@jupyter-widgets/base",
            "_view_module_version": "1.2.0",
            "_view_name": "StyleView",
            "description_width": ""
          }
        },
        "0691bdcd6d5048d796d2da2196e3a4a9": {
          "model_module": "@jupyter-widgets/base",
          "model_name": "LayoutModel",
          "model_module_version": "1.2.0",
          "state": {
            "_model_module": "@jupyter-widgets/base",
            "_model_module_version": "1.2.0",
            "_model_name": "LayoutModel",
            "_view_count": null,
            "_view_module": "@jupyter-widgets/base",
            "_view_module_version": "1.2.0",
            "_view_name": "LayoutView",
            "align_content": null,
            "align_items": null,
            "align_self": null,
            "border": null,
            "bottom": null,
            "display": null,
            "flex": null,
            "flex_flow": null,
            "grid_area": null,
            "grid_auto_columns": null,
            "grid_auto_flow": null,
            "grid_auto_rows": null,
            "grid_column": null,
            "grid_gap": null,
            "grid_row": null,
            "grid_template_areas": null,
            "grid_template_columns": null,
            "grid_template_rows": null,
            "height": null,
            "justify_content": null,
            "justify_items": null,
            "left": null,
            "margin": null,
            "max_height": null,
            "max_width": null,
            "min_height": null,
            "min_width": null,
            "object_fit": null,
            "object_position": null,
            "order": null,
            "overflow": null,
            "overflow_x": null,
            "overflow_y": null,
            "padding": null,
            "right": null,
            "top": null,
            "visibility": null,
            "width": null
          }
        },
        "cfc330d6db8b4579bbc54faaeb6167c6": {
          "model_module": "@jupyter-widgets/controls",
          "model_name": "ProgressStyleModel",
          "model_module_version": "1.5.0",
          "state": {
            "_model_module": "@jupyter-widgets/controls",
            "_model_module_version": "1.5.0",
            "_model_name": "ProgressStyleModel",
            "_view_count": null,
            "_view_module": "@jupyter-widgets/base",
            "_view_module_version": "1.2.0",
            "_view_name": "StyleView",
            "bar_color": null,
            "description_width": ""
          }
        }
      }
    }
  },
  "nbformat": 4,
  "nbformat_minor": 0
}