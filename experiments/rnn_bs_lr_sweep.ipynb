{
  "cells": [
    {
      "cell_type": "markdown",
      "metadata": {
        "id": "view-in-github",
        "colab_type": "text"
      },
      "source": [
        "<a href=\"https://colab.research.google.com/github/smarginatura/makemore/blob/dev/rnn_bs_lr_sweep.ipynb\" target=\"_parent\"><img src=\"https://colab.research.google.com/assets/colab-badge.svg\" alt=\"Open In Colab\"/></a>"
      ]
    },
    {
      "cell_type": "code",
      "execution_count": 1,
      "metadata": {
        "colab": {
          "base_uri": "https://localhost:8080/"
        },
        "id": "R7sdW60_97Mm",
        "outputId": "3ff84364-3b4c-45bb-d409-966175fa6edd"
      },
      "outputs": [
        {
          "output_type": "stream",
          "name": "stdout",
          "text": [
            "Cloning into 'makemore'...\n",
            "remote: Enumerating objects: 116, done.\u001b[K\n",
            "remote: Counting objects: 100% (74/74), done.\u001b[K\n",
            "remote: Compressing objects: 100% (39/39), done.\u001b[K\n",
            "remote: Total 116 (delta 38), reused 57 (delta 30), pack-reused 42\u001b[K\n",
            "Receiving objects: 100% (116/116), 315.62 KiB | 3.90 MiB/s, done.\n",
            "Resolving deltas: 100% (54/54), done.\n"
          ]
        }
      ],
      "source": [
        "!git clone https://github.com/smarginatura/makemore.git"
      ]
    },
    {
      "cell_type": "code",
      "execution_count": 2,
      "metadata": {
        "id": "nGD7GPcLM61O",
        "colab": {
          "base_uri": "https://localhost:8080/"
        },
        "outputId": "cdbbef71-ba1a-467a-e0da-9b256a3b8009"
      },
      "outputs": [
        {
          "output_type": "stream",
          "name": "stdout",
          "text": [
            "\u001b[2K     \u001b[90m━━━━━━━━━━━━━━━━━━━━━━━━━━━━━━━━━━━━━━━━\u001b[0m \u001b[32m6.7/6.7 MB\u001b[0m \u001b[31m21.3 MB/s\u001b[0m eta \u001b[36m0:00:00\u001b[0m\n",
            "\u001b[2K     \u001b[90m━━━━━━━━━━━━━━━━━━━━━━━━━━━━━━━━━━━━━━━━\u001b[0m \u001b[32m207.3/207.3 kB\u001b[0m \u001b[31m17.9 MB/s\u001b[0m eta \u001b[36m0:00:00\u001b[0m\n",
            "\u001b[2K     \u001b[90m━━━━━━━━━━━━━━━━━━━━━━━━━━━━━━━━━━━━━━━━\u001b[0m \u001b[32m289.2/289.2 kB\u001b[0m \u001b[31m21.9 MB/s\u001b[0m eta \u001b[36m0:00:00\u001b[0m\n",
            "\u001b[2K     \u001b[90m━━━━━━━━━━━━━━━━━━━━━━━━━━━━━━━━━━━━━━━━\u001b[0m \u001b[32m62.7/62.7 kB\u001b[0m \u001b[31m7.7 MB/s\u001b[0m eta \u001b[36m0:00:00\u001b[0m\n",
            "\u001b[?25h"
          ]
        }
      ],
      "source": [
        "!pip install wandb -q"
      ]
    },
    {
      "cell_type": "code",
      "execution_count": 3,
      "metadata": {
        "colab": {
          "base_uri": "https://localhost:8080/"
        },
        "id": "RzvDJicQ4oEo",
        "outputId": "7ec9927a-2a38-443d-fa52-c05704c43f1e"
      },
      "outputs": [
        {
          "output_type": "stream",
          "name": "stderr",
          "text": [
            "\u001b[34m\u001b[1mwandb\u001b[0m: W&B API key is configured. Use \u001b[1m`wandb login --relogin`\u001b[0m to force relogin\n",
            "\u001b[34m\u001b[1mwandb\u001b[0m: \u001b[33mWARNING\u001b[0m If you're specifying your api key in code, ensure this code is not shared publicly.\n",
            "\u001b[34m\u001b[1mwandb\u001b[0m: \u001b[33mWARNING\u001b[0m Consider setting the WANDB_API_KEY environment variable, or running `wandb login` from the command line.\n",
            "\u001b[34m\u001b[1mwandb\u001b[0m: Appending key for api.wandb.ai to your netrc file: /root/.netrc\n"
          ]
        },
        {
          "output_type": "execute_result",
          "data": {
            "text/plain": [
              "True"
            ]
          },
          "metadata": {},
          "execution_count": 3
        }
      ],
      "source": [
        "import wandb\n",
        "from google.colab import userdata\n",
        "wandb.login(key=userdata.get('WANDB_KEY2'))"
      ]
    },
    {
      "cell_type": "code",
      "execution_count": 4,
      "metadata": {
        "colab": {
          "base_uri": "https://localhost:8080/"
        },
        "id": "85S5HsueEI94",
        "outputId": "ca45aba6-1714-440d-a20b-dcf52b8e4e11"
      },
      "outputs": [
        {
          "output_type": "stream",
          "name": "stdout",
          "text": [
            "/content/makemore\n"
          ]
        }
      ],
      "source": [
        "%cd makemore"
      ]
    },
    {
      "cell_type": "code",
      "execution_count": 6,
      "metadata": {
        "id": "Qjn5xs9kEgdH"
      },
      "outputs": [],
      "source": [
        "import os, sys, time, math, random\n",
        "\n",
        "import numpy as np\n",
        "import torch\n",
        "from torch.nn import functional as F\n",
        "\n",
        "from torch.utils.data import Dataset\n",
        "from torch.utils.data.dataloader import DataLoader\n",
        "\n",
        "from tqdm.auto import tqdm\n",
        "\n",
        "from model import ModelConfig, RNN, loss_fn\n",
        "from data_loader import create_datasets, InfiniteDataLoader\n",
        "\n",
        "# Utils\n",
        "def set_seed(seed):\n",
        "    random.seed(seed)\n",
        "    np.random.seed(seed)\n",
        "    torch.manual_seed(seed)\n",
        "    torch.cuda.manual_seed_all(seed)"
      ]
    },
    {
      "cell_type": "markdown",
      "metadata": {
        "id": "i-H-0107EDEg"
      },
      "source": [
        "# Sweep"
      ]
    },
    {
      "cell_type": "code",
      "execution_count": 7,
      "metadata": {
        "id": "8KeprRPI18rG"
      },
      "outputs": [],
      "source": [
        "def train(config=None):\n",
        "\n",
        "    with wandb.init(config=config):\n",
        "        # If called by wandb.agent, as below,\n",
        "        # this config will be set by Sweep Controller\n",
        "        config = wandb.config\n",
        "\n",
        "        set_seed(config.seed)\n",
        "        os.makedirs(config.work_dir, exist_ok=True)\n",
        "\n",
        "        @torch.inference_mode()\n",
        "        def evaluate(model, dataset, batch_size=50, max_batches=None):\n",
        "            model.eval()\n",
        "            loader = DataLoader(dataset, shuffle=True, batch_size=batch_size, num_workers=0)\n",
        "            losses = []\n",
        "            for i, batch in enumerate(loader):\n",
        "                batch = [t.to(config.device) for t in batch]\n",
        "                X, Y = batch\n",
        "                logits = model(X)\n",
        "                loss = loss_fn(logits, Y)\n",
        "                losses.append(loss.item())\n",
        "                if max_batches is not None and i >= max_batches:\n",
        "                    break\n",
        "            mean_loss = torch.tensor(losses).mean().item()\n",
        "            model.train() # reset model back to training mode\n",
        "            return mean_loss\n",
        "\n",
        "        # init datasets\n",
        "        train_dataset, test_dataset = create_datasets(config.input_file)\n",
        "        vocab_size = train_dataset.get_vocab_size()\n",
        "        block_size = train_dataset.get_output_length()\n",
        "        print(f\"\\ndataset determined that: {vocab_size=}, {block_size=}\")\n",
        "\n",
        "        # init model\n",
        "        model_config = ModelConfig(\n",
        "            vocab_size=vocab_size,\n",
        "            block_size=block_size,\n",
        "            n_layer=config.n_layer,\n",
        "            n_embd=config.n_embd,\n",
        "            n_embd2=config.n_embd2)\n",
        "        model = RNN(model_config, cell_type=config.cell_type)\n",
        "        model.to(config.device)\n",
        "        print(f\"model #params: {sum(p.numel() for p in model.parameters())}\")\n",
        "\n",
        "        # init optimizer\n",
        "        optimizer = torch.optim.AdamW(\n",
        "            model.parameters(),\n",
        "            lr=config.learning_rate,\n",
        "            weight_decay=config.weight_decay,\n",
        "            betas=(0.9, 0.99),eps=1e-8,\n",
        "            )\n",
        "\n",
        "        # init dataloader\n",
        "        batch_loader = InfiniteDataLoader(\n",
        "            train_dataset,\n",
        "            batch_size=config.batch_size,\n",
        "            pin_memory=True,\n",
        "            num_workers=config.num_workers)\n",
        "\n",
        "        best_loss = None\n",
        "\n",
        "        for step in tqdm(range(config.max_steps)):\n",
        "\n",
        "            t0 = time.time()\n",
        "\n",
        "            batch = batch_loader.next()\n",
        "            batch = [t.to(config.device) for t in batch]\n",
        "            X, Y = batch\n",
        "            logits = model(X)\n",
        "            loss = loss_fn(logits, Y)\n",
        "            model.zero_grad(set_to_none=True)\n",
        "            loss.backward()\n",
        "            optimizer.step()\n",
        "            # wait for all CUDA work on the GPU to finish then calculate iteration time taken\n",
        "            if config.device.startswith('cuda'):\n",
        "                torch.cuda.synchronize()\n",
        "\n",
        "            t1 = time.time()\n",
        "\n",
        "            # Evaluate the model\n",
        "            if step > 0 and step % 500 == 0:\n",
        "                train_loss = evaluate(model, train_dataset, batch_size=100, max_batches=10)\n",
        "                test_loss  = evaluate(model, test_dataset,  batch_size=100, max_batches=10)\n",
        "                wandb.log({\n",
        "                    \"train/loss\": train_loss,\n",
        "                    \"test/loss\": test_loss,\n",
        "                }, step=step)\n",
        "                print(f\"step {step} train loss: {train_loss:.4f} test loss: {test_loss:.4f}\")\n",
        "\n",
        "                # Save the model to disk if it has improved\n",
        "                if best_loss is None or test_loss < best_loss:\n",
        "                    out_path = os.path.join(config.work_dir, \"model.pt\")\n",
        "                    print(f\"test loss {test_loss:4f} is the best so far, saving model to {out_path}\")\n",
        "                    torch.save(model.state_dict(), out_path)\n",
        "                    best_loss = test_loss"
      ]
    },
    {
      "cell_type": "code",
      "execution_count": 8,
      "metadata": {
        "id": "wvOnRE28CStH"
      },
      "outputs": [],
      "source": [
        "sweep_config = {\n",
        "    'method': 'grid',\n",
        "    'metric': {\n",
        "        'name': 'test/loss',\n",
        "        'goal': 'minimize'\n",
        "        }\n",
        "    }\n",
        "\n",
        "parameters_dict = {\n",
        "        'learning_rate': {\n",
        "            'values': [1e-3]\n",
        "            },\n",
        "        'batch_size': {\n",
        "            'values': [32, 64, 128, 256, 512]\n",
        "            },}\n",
        "parameters_dict.update({\n",
        "    'n_layer': {'value': 4},\n",
        "    'n_embd': {'value' : 64},\n",
        "    'n_embd2': {'value' :64},\n",
        "    'cell_type': {'value': 'rnn'},\n",
        "    'weight_decay': {'value': 0.01},\n",
        "    'input_file': {'value': 'data/names.txt'},\n",
        "    'work_dir': {'value': 'out'},\n",
        "    'num_workers': {'value': 2},\n",
        "    'max_steps': {'value': 50_000},\n",
        "    'device':{'value':'cuda' if torch.cuda.is_available() else 'cpu'},\n",
        "    'seed': {'value': 3407},\n",
        "    'top_k': {'value':  -1},\n",
        "    })\n",
        "sweep_config['parameters'] = parameters_dict"
      ]
    },
    {
      "cell_type": "code",
      "execution_count": 9,
      "metadata": {
        "colab": {
          "base_uri": "https://localhost:8080/"
        },
        "id": "PpjeH7AY58A7",
        "outputId": "57a178d0-91ac-4cf8-a2b9-3c672452dbd3"
      },
      "outputs": [
        {
          "output_type": "stream",
          "name": "stdout",
          "text": [
            "{'method': 'grid',\n",
            " 'metric': {'goal': 'minimize', 'name': 'test/loss'},\n",
            " 'parameters': {'batch_size': {'values': [32, 64, 128, 256, 512]},\n",
            "                'cell_type': {'value': 'rnn'},\n",
            "                'device': {'value': 'cuda'},\n",
            "                'input_file': {'value': 'data/names.txt'},\n",
            "                'learning_rate': {'values': [0.001]},\n",
            "                'max_steps': {'value': 50000},\n",
            "                'n_embd': {'value': 64},\n",
            "                'n_embd2': {'value': 64},\n",
            "                'n_layer': {'value': 4},\n",
            "                'num_workers': {'value': 2},\n",
            "                'seed': {'value': 3407},\n",
            "                'top_k': {'value': -1},\n",
            "                'weight_decay': {'value': 0.01},\n",
            "                'work_dir': {'value': 'out'}}}\n"
          ]
        }
      ],
      "source": [
        "import pprint\n",
        "pprint.pprint(sweep_config)"
      ]
    },
    {
      "cell_type": "code",
      "execution_count": 10,
      "metadata": {
        "colab": {
          "base_uri": "https://localhost:8080/"
        },
        "id": "e-7S9TeWGOZX",
        "outputId": "ad65a0d6-595c-40ce-80c6-85250e36ac49"
      },
      "outputs": [
        {
          "output_type": "stream",
          "name": "stdout",
          "text": [
            "Create sweep with ID: 3dw7opq1\n",
            "Sweep URL: https://wandb.ai/polyphony/char-rnn-bs-sweeps-50000-steps/sweeps/3dw7opq1\n"
          ]
        }
      ],
      "source": [
        "sweep_id = wandb.sweep(sweep_config, project=\"char-rnn-bs-sweeps-50000-steps\")"
      ]
    },
    {
      "cell_type": "code",
      "execution_count": 11,
      "metadata": {
        "colab": {
          "base_uri": "https://localhost:8080/",
          "height": 1000,
          "referenced_widgets": [
            "f7251f7bff2e4604b5a8459858ec7626",
            "497581486fde45b395ed508e9cf843de",
            "dbcf96603d9f47af97fb398001f5f99d",
            "49d8b6d069d249da84ee062ce2cf2c0e",
            "d99eb5106f36486282bc68821f9fac5c",
            "0ccd353f09db458bad7a4fe54d23e555",
            "025f75cfaf364a9ca962d7b148ea152b",
            "902a939564cb4bb49bc9bd4b32fc2ab9",
            "1e90c7bb34134c0ab6571e39158fc8e5",
            "06e6fa218b3d492d99258227ee01f0f5",
            "e32fed9e5b0344f48e9fe87fddf51b16",
            "1d87c6baa7334dceb3d798268fde2b03",
            "d437b627544e4efb92e5afdaaae8bbc5",
            "62ae1b6b1977423c802d2795db999f11",
            "1ad56711d72b44069dee9498104cbdf2",
            "c72bf7bb794d443bbed66b9589280d3a",
            "1eb9aa0273b2495f8846361f20e8d82e",
            "4baeeb76eb3a4992abf97b108eb25e12",
            "5f7c3d94386649458fa78d3a4df2a39a",
            "02024889c9b2418eba219582a15fb417",
            "1a761618afdf4c89829d23287ac19101",
            "3e28eda2dba7418b87ef105199dfd07b",
            "4e607985f3ec480f89c6bb443e766b73",
            "46d778ad556743ca9f3f07a9e4f6b927",
            "4efb1682151b402098ba7f026ac329f1",
            "424f75cb21924b4186328730f4b3422b",
            "75e79b107373413a83f3a5075093c288",
            "cb1a9b473a5c4b7897eb85e2e65a6c52",
            "51ead2fb7ccb42a3a2d578e1b3f119fc",
            "4950d4380e954bdc9ced97ab289994d4",
            "959ae47ec057439b836121b728c2c939",
            "a3906db858354c6ab9c1340362554423",
            "61f5cd069b81461bbf6334725ef1db99",
            "afe0b501ff9543b59c62c5aa9c6b6da8",
            "4128fe9aae11411699697bbfcf9efe9f",
            "d69e49257a5d4a678d509644ac5c30e3",
            "b06bcb441bc54287a20660971d2844be",
            "ba291f359c7e4c818fc39e652062e31e",
            "7f1ed54882ea4bdbab911ae9e2e7a6b3",
            "c479221303fb41e9b38a9df772611bd3",
            "e9bf66cf25fd419bbdd4a5bb1358eafb",
            "fa10d6f459d2431ba9d7dac55d2de321",
            "95306805fc744a3ab69cdb21653b1f66",
            "5779280e76564e1f8fdca159fbe175b2",
            "286c1b3a7eb84f84921dcd90cd1aabee",
            "50412d91da59475e8ee26dc8350c1faa",
            "aa2d259aae8b489590d03671744098e8",
            "3866480383f44dd883229025ca551b63",
            "5bf7211ff1d043aba313aeb3f56ee0e3",
            "da9e2b65f1da4e6688c6b7705b07c5a2",
            "14c3a92a3f984a7ab414d53f9ea41e03",
            "51aa33e9757b4de6acd59b421e81671d",
            "c77384f4dbf24a98a1c6252bd053fa0f",
            "db6de2ce0f0a484383cc1c62187d86f1",
            "21b3c321bbb949cebfaca6d32e9d95a4",
            "c104a3e52d91470cb7429de44aed0d4b",
            "72a60b1660f04df7936e3c57e229f642",
            "17825bfb4d9842dd8d24a8a17ba92fd3",
            "887375d113d4490f99bd2f13073957fc",
            "eefcfe6d68444c4ba9581e9978feaa57",
            "2b580faa4411483b9742957c71816810",
            "9683f574cb50468faa59856798a1c631",
            "e9ea83f89f7e4d4badce6eb8d55199c3",
            "4244a54c2013433f8bc6dc3ab9daf933",
            "a81400fb07ec4d2abe6ec9bf1b22a87b",
            "822cd4dd54a04f338a8df29885cf0ec6",
            "ef742819910b43038efa021282f6703c",
            "ac8c0ee9acae46bc930e0d6edbf9679d",
            "ffb9e23eca5d4951b188abc609fc271f",
            "066b19984e3b4870b10af885a64a32a9",
            "7548eaa21c844fe3b2d751a16d6516cf",
            "cb408b5d79304c29997906a2a1d7d0ff",
            "a6c8d34ec1e34a118a524f267dc823a5",
            "7b00df1216c84d6591604834888860c3",
            "45e1da8629724c95b013358f61b4a8c1",
            "f7351757e95d46b992fdc171f3faa08e",
            "5196156a25f24e53ab4513d06206f38d",
            "62d32a58d7e54978811a7baa551bdb11",
            "846a409686604869b544e591f0426ce8",
            "46547d9cf32e4a21be195875d5ce7cd3",
            "42190e2e834045d8b3acb1857a43eaaa",
            "928e92bd3ae64252853d328167181517",
            "78da1907d701414dbce7e2215b7a343a",
            "3c0db6e982a04968a1554b098c92d2f6",
            "9eacefa9bb834d6f840174d9d237f3b5",
            "d167ff1ef172498da8b7856ad0b9f873",
            "d3773f8f3da446c0b1e1115f2302402d",
            "f4cde96836b743e7b25d3727c30d2f94",
            "bf8a84318d9d4e08a6dd019cd3c7d1ef",
            "36b2426475c44b59af7741caa441b136",
            "1953537589b9432bbe6bc27d5851cd76",
            "5bd4281b5d544b2e88d7ec52fae08239",
            "35ecaa40645745c3aa32d22225157799",
            "7eaf3a1f1d494fadb52654d999973ce9",
            "6222e7b638284b0ebfe1a435567df71d"
          ]
        },
        "id": "9nAqhKlAHQT-",
        "outputId": "7f59e7c4-f4e0-42e5-dad3-f541d8e19154"
      },
      "outputs": [
        {
          "output_type": "stream",
          "name": "stderr",
          "text": [
            "\u001b[34m\u001b[1mwandb\u001b[0m: Agent Starting Run: ghzmu5zs with config:\n",
            "\u001b[34m\u001b[1mwandb\u001b[0m: \tbatch_size: 32\n",
            "\u001b[34m\u001b[1mwandb\u001b[0m: \tcell_type: rnn\n",
            "\u001b[34m\u001b[1mwandb\u001b[0m: \tdevice: cuda\n",
            "\u001b[34m\u001b[1mwandb\u001b[0m: \tinput_file: data/names.txt\n",
            "\u001b[34m\u001b[1mwandb\u001b[0m: \tlearning_rate: 0.001\n",
            "\u001b[34m\u001b[1mwandb\u001b[0m: \tmax_steps: 50000\n",
            "\u001b[34m\u001b[1mwandb\u001b[0m: \tn_embd: 64\n",
            "\u001b[34m\u001b[1mwandb\u001b[0m: \tn_embd2: 64\n",
            "\u001b[34m\u001b[1mwandb\u001b[0m: \tn_layer: 4\n",
            "\u001b[34m\u001b[1mwandb\u001b[0m: \tnum_workers: 2\n",
            "\u001b[34m\u001b[1mwandb\u001b[0m: \tseed: 3407\n",
            "\u001b[34m\u001b[1mwandb\u001b[0m: \ttop_k: -1\n",
            "\u001b[34m\u001b[1mwandb\u001b[0m: \tweight_decay: 0.01\n",
            "\u001b[34m\u001b[1mwandb\u001b[0m: \twork_dir: out\n",
            "\u001b[34m\u001b[1mwandb\u001b[0m: Currently logged in as: \u001b[33msmarginatura\u001b[0m (\u001b[33mpolyphony\u001b[0m). Use \u001b[1m`wandb login --relogin`\u001b[0m to force relogin\n"
          ]
        },
        {
          "output_type": "display_data",
          "data": {
            "text/plain": [
              "<IPython.core.display.HTML object>"
            ],
            "text/html": [
              "Tracking run with wandb version 0.17.0"
            ]
          },
          "metadata": {}
        },
        {
          "output_type": "display_data",
          "data": {
            "text/plain": [
              "<IPython.core.display.HTML object>"
            ],
            "text/html": [
              "Run data is saved locally in <code>/content/makemore/wandb/run-20240605_034446-ghzmu5zs</code>"
            ]
          },
          "metadata": {}
        },
        {
          "output_type": "display_data",
          "data": {
            "text/plain": [
              "<IPython.core.display.HTML object>"
            ],
            "text/html": [
              "Syncing run <strong><a href='https://wandb.ai/polyphony/char-rnn-bs-sweeps-50000-steps/runs/ghzmu5zs' target=\"_blank\">autumn-sweep-1</a></strong> to <a href='https://wandb.ai/polyphony/char-rnn-bs-sweeps-50000-steps' target=\"_blank\">Weights & Biases</a> (<a href='https://wandb.me/run' target=\"_blank\">docs</a>)<br/>Sweep page: <a href='https://wandb.ai/polyphony/char-rnn-bs-sweeps-50000-steps/sweeps/3dw7opq1' target=\"_blank\">https://wandb.ai/polyphony/char-rnn-bs-sweeps-50000-steps/sweeps/3dw7opq1</a>"
            ]
          },
          "metadata": {}
        },
        {
          "output_type": "display_data",
          "data": {
            "text/plain": [
              "<IPython.core.display.HTML object>"
            ],
            "text/html": [
              " View project at <a href='https://wandb.ai/polyphony/char-rnn-bs-sweeps-50000-steps' target=\"_blank\">https://wandb.ai/polyphony/char-rnn-bs-sweeps-50000-steps</a>"
            ]
          },
          "metadata": {}
        },
        {
          "output_type": "display_data",
          "data": {
            "text/plain": [
              "<IPython.core.display.HTML object>"
            ],
            "text/html": [
              " View sweep at <a href='https://wandb.ai/polyphony/char-rnn-bs-sweeps-50000-steps/sweeps/3dw7opq1' target=\"_blank\">https://wandb.ai/polyphony/char-rnn-bs-sweeps-50000-steps/sweeps/3dw7opq1</a>"
            ]
          },
          "metadata": {}
        },
        {
          "output_type": "display_data",
          "data": {
            "text/plain": [
              "<IPython.core.display.HTML object>"
            ],
            "text/html": [
              " View run at <a href='https://wandb.ai/polyphony/char-rnn-bs-sweeps-50000-steps/runs/ghzmu5zs' target=\"_blank\">https://wandb.ai/polyphony/char-rnn-bs-sweeps-50000-steps/runs/ghzmu5zs</a>"
            ]
          },
          "metadata": {}
        },
        {
          "output_type": "stream",
          "name": "stdout",
          "text": [
            "number of examples in the dataset: 32033\n",
            "max word length: 15\n",
            "number of unique characters in the vocabulary: 26\n",
            "vocabulary:\n",
            "abcdefghijklmnopqrstuvwxyz\n",
            "split up the dataset into 31033 training examples and 1000 test examples\n",
            "\n",
            "dataset determined that: vocab_size=27, block_size=16\n",
            "model #params: 11803\n"
          ]
        },
        {
          "output_type": "display_data",
          "data": {
            "text/plain": [
              "  0%|          | 0/50000 [00:00<?, ?it/s]"
            ],
            "application/vnd.jupyter.widget-view+json": {
              "version_major": 2,
              "version_minor": 0,
              "model_id": "f7251f7bff2e4604b5a8459858ec7626"
            }
          },
          "metadata": {}
        },
        {
          "output_type": "stream",
          "name": "stdout",
          "text": [
            "step 500 train loss: 2.2501 test loss: 2.2297\n",
            "test loss 2.229686 is the best so far, saving model to out/model.pt\n",
            "step 1000 train loss: 2.2134 test loss: 2.1800\n",
            "test loss 2.180049 is the best so far, saving model to out/model.pt\n",
            "step 1500 train loss: 2.1632 test loss: 2.1539\n",
            "test loss 2.153885 is the best so far, saving model to out/model.pt\n",
            "step 2000 train loss: 2.1263 test loss: 2.1346\n",
            "test loss 2.134612 is the best so far, saving model to out/model.pt\n",
            "step 2500 train loss: 2.1561 test loss: 2.1211\n",
            "test loss 2.121068 is the best so far, saving model to out/model.pt\n",
            "step 3000 train loss: 2.1335 test loss: 2.1119\n",
            "test loss 2.111885 is the best so far, saving model to out/model.pt\n",
            "step 3500 train loss: 2.1088 test loss: 2.1016\n",
            "test loss 2.101563 is the best so far, saving model to out/model.pt\n",
            "step 4000 train loss: 2.1096 test loss: 2.1020\n",
            "step 4500 train loss: 2.1060 test loss: 2.0904\n",
            "test loss 2.090446 is the best so far, saving model to out/model.pt\n",
            "step 5000 train loss: 2.0930 test loss: 2.0823\n",
            "test loss 2.082310 is the best so far, saving model to out/model.pt\n",
            "step 5500 train loss: 2.0745 test loss: 2.0798\n",
            "test loss 2.079795 is the best so far, saving model to out/model.pt\n",
            "step 6000 train loss: 2.0745 test loss: 2.0796\n",
            "test loss 2.079604 is the best so far, saving model to out/model.pt\n",
            "step 6500 train loss: 2.0554 test loss: 2.0765\n",
            "test loss 2.076464 is the best so far, saving model to out/model.pt\n",
            "step 7000 train loss: 2.0855 test loss: 2.0719\n",
            "test loss 2.071932 is the best so far, saving model to out/model.pt\n",
            "step 7500 train loss: 2.0757 test loss: 2.0706\n",
            "test loss 2.070568 is the best so far, saving model to out/model.pt\n",
            "step 8000 train loss: 2.0748 test loss: 2.0649\n",
            "test loss 2.064915 is the best so far, saving model to out/model.pt\n",
            "step 8500 train loss: 2.0673 test loss: 2.0638\n",
            "test loss 2.063777 is the best so far, saving model to out/model.pt\n",
            "step 9000 train loss: 2.0550 test loss: 2.0682\n",
            "step 9500 train loss: 2.0524 test loss: 2.0606\n",
            "test loss 2.060580 is the best so far, saving model to out/model.pt\n",
            "step 10000 train loss: 2.0691 test loss: 2.0611\n",
            "step 10500 train loss: 2.0456 test loss: 2.0569\n",
            "test loss 2.056905 is the best so far, saving model to out/model.pt\n",
            "step 11000 train loss: 2.0645 test loss: 2.0590\n",
            "step 11500 train loss: 2.0471 test loss: 2.0532\n",
            "test loss 2.053176 is the best so far, saving model to out/model.pt\n",
            "step 12000 train loss: 2.0455 test loss: 2.0521\n",
            "test loss 2.052060 is the best so far, saving model to out/model.pt\n",
            "step 12500 train loss: 2.0180 test loss: 2.0471\n",
            "test loss 2.047116 is the best so far, saving model to out/model.pt\n",
            "step 13000 train loss: 2.0288 test loss: 2.0510\n",
            "step 13500 train loss: 2.0624 test loss: 2.0466\n",
            "test loss 2.046591 is the best so far, saving model to out/model.pt\n",
            "step 14000 train loss: 2.0204 test loss: 2.0484\n",
            "step 14500 train loss: 2.0290 test loss: 2.0502\n",
            "step 15000 train loss: 2.0522 test loss: 2.0438\n",
            "test loss 2.043808 is the best so far, saving model to out/model.pt\n",
            "step 15500 train loss: 2.0142 test loss: 2.0478\n",
            "step 16000 train loss: 2.0200 test loss: 2.0426\n",
            "test loss 2.042559 is the best so far, saving model to out/model.pt\n",
            "step 16500 train loss: 2.0400 test loss: 2.0494\n",
            "step 17000 train loss: 2.0441 test loss: 2.0425\n",
            "test loss 2.042464 is the best so far, saving model to out/model.pt\n",
            "step 17500 train loss: 2.0241 test loss: 2.0430\n",
            "step 18000 train loss: 2.0228 test loss: 2.0372\n",
            "test loss 2.037238 is the best so far, saving model to out/model.pt\n",
            "step 18500 train loss: 2.0379 test loss: 2.0447\n",
            "step 19000 train loss: 2.0305 test loss: 2.0502\n",
            "step 19500 train loss: 2.0177 test loss: 2.0434\n",
            "step 20000 train loss: 2.0431 test loss: 2.0447\n",
            "step 20500 train loss: 2.0276 test loss: 2.0428\n",
            "step 21000 train loss: 1.9935 test loss: 2.0407\n",
            "step 21500 train loss: 2.0317 test loss: 2.0392\n",
            "step 22000 train loss: 1.9984 test loss: 2.0400\n",
            "step 22500 train loss: 2.0130 test loss: 2.0393\n",
            "step 23000 train loss: 2.0017 test loss: 2.0340\n",
            "test loss 2.034012 is the best so far, saving model to out/model.pt\n",
            "step 23500 train loss: 2.0281 test loss: 2.0410\n",
            "step 24000 train loss: 2.0104 test loss: 2.0403\n",
            "step 24500 train loss: 2.0168 test loss: 2.0425\n",
            "step 25000 train loss: 2.0231 test loss: 2.0395\n",
            "step 25500 train loss: 2.0310 test loss: 2.0411\n",
            "step 26000 train loss: 2.0174 test loss: 2.0382\n",
            "step 26500 train loss: 2.0132 test loss: 2.0417\n",
            "step 27000 train loss: 2.0277 test loss: 2.0384\n",
            "step 27500 train loss: 2.0161 test loss: 2.0337\n",
            "test loss 2.033656 is the best so far, saving model to out/model.pt\n",
            "step 28000 train loss: 2.0193 test loss: 2.0381\n",
            "step 28500 train loss: 2.0161 test loss: 2.0378\n",
            "step 29000 train loss: 2.0222 test loss: 2.0336\n",
            "test loss 2.033562 is the best so far, saving model to out/model.pt\n",
            "step 29500 train loss: 2.0195 test loss: 2.0378\n",
            "step 30000 train loss: 2.0214 test loss: 2.0394\n",
            "step 30500 train loss: 2.0070 test loss: 2.0420\n",
            "step 31000 train loss: 1.9944 test loss: 2.0350\n",
            "step 31500 train loss: 2.0304 test loss: 2.0366\n",
            "step 32000 train loss: 2.0041 test loss: 2.0376\n",
            "step 32500 train loss: 2.0383 test loss: 2.0369\n",
            "step 33000 train loss: 2.0028 test loss: 2.0346\n",
            "step 33500 train loss: 2.0278 test loss: 2.0358\n",
            "step 34000 train loss: 1.9987 test loss: 2.0308\n",
            "test loss 2.030791 is the best so far, saving model to out/model.pt\n",
            "step 34500 train loss: 2.0100 test loss: 2.0307\n",
            "test loss 2.030668 is the best so far, saving model to out/model.pt\n",
            "step 35000 train loss: 2.0089 test loss: 2.0335\n",
            "step 35500 train loss: 2.0215 test loss: 2.0352\n",
            "step 36000 train loss: 2.0300 test loss: 2.0368\n",
            "step 36500 train loss: 2.0029 test loss: 2.0361\n",
            "step 37000 train loss: 2.0262 test loss: 2.0377\n",
            "step 37500 train loss: 2.0261 test loss: 2.0357\n",
            "step 38000 train loss: 2.0046 test loss: 2.0339\n",
            "step 38500 train loss: 2.0158 test loss: 2.0392\n",
            "step 39000 train loss: 1.9958 test loss: 2.0365\n",
            "step 39500 train loss: 1.9951 test loss: 2.0331\n",
            "step 40000 train loss: 2.0160 test loss: 2.0355\n",
            "step 40500 train loss: 2.0169 test loss: 2.0343\n",
            "step 41000 train loss: 2.0076 test loss: 2.0303\n",
            "test loss 2.030339 is the best so far, saving model to out/model.pt\n",
            "step 41500 train loss: 2.0051 test loss: 2.0325\n",
            "step 42000 train loss: 2.0023 test loss: 2.0349\n",
            "step 42500 train loss: 2.0152 test loss: 2.0316\n",
            "step 43000 train loss: 2.0039 test loss: 2.0309\n",
            "step 43500 train loss: 2.0100 test loss: 2.0352\n",
            "step 44000 train loss: 2.0203 test loss: 2.0328\n",
            "step 44500 train loss: 1.9998 test loss: 2.0322\n",
            "step 45000 train loss: 2.0101 test loss: 2.0338\n",
            "step 45500 train loss: 2.0063 test loss: 2.0318\n",
            "step 46000 train loss: 2.0009 test loss: 2.0340\n",
            "step 46500 train loss: 2.0317 test loss: 2.0351\n",
            "step 47000 train loss: 2.0232 test loss: 2.0381\n",
            "step 47500 train loss: 2.0282 test loss: 2.0380\n",
            "step 48000 train loss: 2.0258 test loss: 2.0360\n",
            "step 48500 train loss: 2.0110 test loss: 2.0346\n",
            "step 49000 train loss: 1.9786 test loss: 2.0299\n",
            "test loss 2.029901 is the best so far, saving model to out/model.pt\n",
            "step 49500 train loss: 2.0206 test loss: 2.0357\n"
          ]
        },
        {
          "output_type": "display_data",
          "data": {
            "text/plain": [
              "VBox(children=(Label(value='0.001 MB of 0.009 MB uploaded\\r'), FloatProgress(value=0.14678433759383241, max=1.…"
            ],
            "application/vnd.jupyter.widget-view+json": {
              "version_major": 2,
              "version_minor": 0,
              "model_id": "1d87c6baa7334dceb3d798268fde2b03"
            }
          },
          "metadata": {}
        },
        {
          "output_type": "display_data",
          "data": {
            "text/plain": [
              "<IPython.core.display.HTML object>"
            ],
            "text/html": [
              "<style>\n",
              "    table.wandb td:nth-child(1) { padding: 0 10px; text-align: left ; width: auto;} td:nth-child(2) {text-align: left ; width: 100%}\n",
              "    .wandb-row { display: flex; flex-direction: row; flex-wrap: wrap; justify-content: flex-start; width: 100% }\n",
              "    .wandb-col { display: flex; flex-direction: column; flex-basis: 100%; flex: 1; padding: 10px; }\n",
              "    </style>\n",
              "<div class=\"wandb-row\"><div class=\"wandb-col\"><h3>Run history:</h3><br/><table class=\"wandb\"><tr><td>test/loss</td><td>█▅▄▄▃▃▂▂▂▂▂▂▂▂▁▂▁▁▁▁▁▁▁▁▁▁▁▁▁▁▁▁▁▁▁▁▁▁▁▁</td></tr><tr><td>train/loss</td><td>█▆▅▄▃▃▃▃▂▂▂▂▂▂▂▂▂▂▁▁▂▁▂▂▁▂▁▁▂▁▁▁▂▁▁▂▁▂▂▂</td></tr></table><br/></div><div class=\"wandb-col\"><h3>Run summary:</h3><br/><table class=\"wandb\"><tr><td>test/loss</td><td>2.03571</td></tr><tr><td>train/loss</td><td>2.02062</td></tr></table><br/></div></div>"
            ]
          },
          "metadata": {}
        },
        {
          "output_type": "display_data",
          "data": {
            "text/plain": [
              "<IPython.core.display.HTML object>"
            ],
            "text/html": [
              " View run <strong style=\"color:#cdcd00\">autumn-sweep-1</strong> at: <a href='https://wandb.ai/polyphony/char-rnn-bs-sweeps-50000-steps/runs/ghzmu5zs' target=\"_blank\">https://wandb.ai/polyphony/char-rnn-bs-sweeps-50000-steps/runs/ghzmu5zs</a><br/> View project at: <a href='https://wandb.ai/polyphony/char-rnn-bs-sweeps-50000-steps' target=\"_blank\">https://wandb.ai/polyphony/char-rnn-bs-sweeps-50000-steps</a><br/>Synced 5 W&B file(s), 0 media file(s), 0 artifact file(s) and 0 other file(s)"
            ]
          },
          "metadata": {}
        },
        {
          "output_type": "display_data",
          "data": {
            "text/plain": [
              "<IPython.core.display.HTML object>"
            ],
            "text/html": [
              "Find logs at: <code>./wandb/run-20240605_034446-ghzmu5zs/logs</code>"
            ]
          },
          "metadata": {}
        },
        {
          "output_type": "stream",
          "name": "stderr",
          "text": [
            "\u001b[34m\u001b[1mwandb\u001b[0m: Agent Starting Run: fwlkvujd with config:\n",
            "\u001b[34m\u001b[1mwandb\u001b[0m: \tbatch_size: 64\n",
            "\u001b[34m\u001b[1mwandb\u001b[0m: \tcell_type: rnn\n",
            "\u001b[34m\u001b[1mwandb\u001b[0m: \tdevice: cuda\n",
            "\u001b[34m\u001b[1mwandb\u001b[0m: \tinput_file: data/names.txt\n",
            "\u001b[34m\u001b[1mwandb\u001b[0m: \tlearning_rate: 0.001\n",
            "\u001b[34m\u001b[1mwandb\u001b[0m: \tmax_steps: 50000\n",
            "\u001b[34m\u001b[1mwandb\u001b[0m: \tn_embd: 64\n",
            "\u001b[34m\u001b[1mwandb\u001b[0m: \tn_embd2: 64\n",
            "\u001b[34m\u001b[1mwandb\u001b[0m: \tn_layer: 4\n",
            "\u001b[34m\u001b[1mwandb\u001b[0m: \tnum_workers: 2\n",
            "\u001b[34m\u001b[1mwandb\u001b[0m: \tseed: 3407\n",
            "\u001b[34m\u001b[1mwandb\u001b[0m: \ttop_k: -1\n",
            "\u001b[34m\u001b[1mwandb\u001b[0m: \tweight_decay: 0.01\n",
            "\u001b[34m\u001b[1mwandb\u001b[0m: \twork_dir: out\n"
          ]
        },
        {
          "output_type": "display_data",
          "data": {
            "text/plain": [
              "<IPython.core.display.HTML object>"
            ],
            "text/html": [
              "Tracking run with wandb version 0.17.0"
            ]
          },
          "metadata": {}
        },
        {
          "output_type": "display_data",
          "data": {
            "text/plain": [
              "<IPython.core.display.HTML object>"
            ],
            "text/html": [
              "Run data is saved locally in <code>/content/makemore/wandb/run-20240605_035409-fwlkvujd</code>"
            ]
          },
          "metadata": {}
        },
        {
          "output_type": "display_data",
          "data": {
            "text/plain": [
              "<IPython.core.display.HTML object>"
            ],
            "text/html": [
              "Syncing run <strong><a href='https://wandb.ai/polyphony/char-rnn-bs-sweeps-50000-steps/runs/fwlkvujd' target=\"_blank\">swift-sweep-2</a></strong> to <a href='https://wandb.ai/polyphony/char-rnn-bs-sweeps-50000-steps' target=\"_blank\">Weights & Biases</a> (<a href='https://wandb.me/run' target=\"_blank\">docs</a>)<br/>Sweep page: <a href='https://wandb.ai/polyphony/char-rnn-bs-sweeps-50000-steps/sweeps/3dw7opq1' target=\"_blank\">https://wandb.ai/polyphony/char-rnn-bs-sweeps-50000-steps/sweeps/3dw7opq1</a>"
            ]
          },
          "metadata": {}
        },
        {
          "output_type": "display_data",
          "data": {
            "text/plain": [
              "<IPython.core.display.HTML object>"
            ],
            "text/html": [
              " View project at <a href='https://wandb.ai/polyphony/char-rnn-bs-sweeps-50000-steps' target=\"_blank\">https://wandb.ai/polyphony/char-rnn-bs-sweeps-50000-steps</a>"
            ]
          },
          "metadata": {}
        },
        {
          "output_type": "display_data",
          "data": {
            "text/plain": [
              "<IPython.core.display.HTML object>"
            ],
            "text/html": [
              " View sweep at <a href='https://wandb.ai/polyphony/char-rnn-bs-sweeps-50000-steps/sweeps/3dw7opq1' target=\"_blank\">https://wandb.ai/polyphony/char-rnn-bs-sweeps-50000-steps/sweeps/3dw7opq1</a>"
            ]
          },
          "metadata": {}
        },
        {
          "output_type": "display_data",
          "data": {
            "text/plain": [
              "<IPython.core.display.HTML object>"
            ],
            "text/html": [
              " View run at <a href='https://wandb.ai/polyphony/char-rnn-bs-sweeps-50000-steps/runs/fwlkvujd' target=\"_blank\">https://wandb.ai/polyphony/char-rnn-bs-sweeps-50000-steps/runs/fwlkvujd</a>"
            ]
          },
          "metadata": {}
        },
        {
          "output_type": "stream",
          "name": "stdout",
          "text": [
            "number of examples in the dataset: 32033\n",
            "max word length: 15\n",
            "number of unique characters in the vocabulary: 26\n",
            "vocabulary:\n",
            "abcdefghijklmnopqrstuvwxyz\n",
            "split up the dataset into 31033 training examples and 1000 test examples\n",
            "\n",
            "dataset determined that: vocab_size=27, block_size=16\n",
            "model #params: 11803\n"
          ]
        },
        {
          "output_type": "display_data",
          "data": {
            "text/plain": [
              "  0%|          | 0/50000 [00:00<?, ?it/s]"
            ],
            "application/vnd.jupyter.widget-view+json": {
              "version_major": 2,
              "version_minor": 0,
              "model_id": "02024889c9b2418eba219582a15fb417"
            }
          },
          "metadata": {}
        },
        {
          "output_type": "stream",
          "name": "stdout",
          "text": [
            "step 500 train loss: 2.2258 test loss: 2.2018\n",
            "test loss 2.201785 is the best so far, saving model to out/model.pt\n",
            "step 1000 train loss: 2.1849 test loss: 2.1517\n",
            "test loss 2.151726 is the best so far, saving model to out/model.pt\n",
            "step 1500 train loss: 2.1393 test loss: 2.1268\n",
            "test loss 2.126782 is the best so far, saving model to out/model.pt\n",
            "step 2000 train loss: 2.1039 test loss: 2.1162\n",
            "test loss 2.116246 is the best so far, saving model to out/model.pt\n",
            "step 2500 train loss: 2.1299 test loss: 2.0970\n",
            "test loss 2.097035 is the best so far, saving model to out/model.pt\n",
            "step 3000 train loss: 2.1059 test loss: 2.0925\n",
            "test loss 2.092492 is the best so far, saving model to out/model.pt\n",
            "step 3500 train loss: 2.0853 test loss: 2.0867\n",
            "test loss 2.086719 is the best so far, saving model to out/model.pt\n",
            "step 4000 train loss: 2.0806 test loss: 2.0816\n",
            "test loss 2.081596 is the best so far, saving model to out/model.pt\n",
            "step 4500 train loss: 2.0833 test loss: 2.0784\n",
            "test loss 2.078404 is the best so far, saving model to out/model.pt\n",
            "step 5000 train loss: 2.0790 test loss: 2.0753\n",
            "test loss 2.075310 is the best so far, saving model to out/model.pt\n",
            "step 5500 train loss: 2.0505 test loss: 2.0680\n",
            "test loss 2.068005 is the best so far, saving model to out/model.pt\n",
            "step 6000 train loss: 2.0488 test loss: 2.0677\n",
            "test loss 2.067705 is the best so far, saving model to out/model.pt\n",
            "step 6500 train loss: 2.0392 test loss: 2.0633\n",
            "test loss 2.063300 is the best so far, saving model to out/model.pt\n",
            "step 7000 train loss: 2.0646 test loss: 2.0642\n",
            "step 7500 train loss: 2.0501 test loss: 2.0580\n",
            "test loss 2.058018 is the best so far, saving model to out/model.pt\n",
            "step 8000 train loss: 2.0534 test loss: 2.0544\n",
            "test loss 2.054399 is the best so far, saving model to out/model.pt\n",
            "step 8500 train loss: 2.0444 test loss: 2.0565\n",
            "step 9000 train loss: 2.0307 test loss: 2.0553\n",
            "step 9500 train loss: 2.0262 test loss: 2.0504\n",
            "test loss 2.050362 is the best so far, saving model to out/model.pt\n",
            "step 10000 train loss: 2.0509 test loss: 2.0487\n",
            "test loss 2.048736 is the best so far, saving model to out/model.pt\n",
            "step 10500 train loss: 2.0301 test loss: 2.0503\n",
            "step 11000 train loss: 2.0501 test loss: 2.0499\n",
            "step 11500 train loss: 2.0249 test loss: 2.0429\n",
            "test loss 2.042929 is the best so far, saving model to out/model.pt\n",
            "step 12000 train loss: 2.0203 test loss: 2.0461\n",
            "step 12500 train loss: 2.0066 test loss: 2.0457\n",
            "step 13000 train loss: 2.0116 test loss: 2.0424\n",
            "test loss 2.042401 is the best so far, saving model to out/model.pt\n",
            "step 13500 train loss: 2.0432 test loss: 2.0453\n",
            "step 14000 train loss: 2.0027 test loss: 2.0449\n",
            "step 14500 train loss: 2.0043 test loss: 2.0454\n",
            "step 15000 train loss: 2.0370 test loss: 2.0413\n",
            "test loss 2.041330 is the best so far, saving model to out/model.pt\n",
            "step 15500 train loss: 1.9933 test loss: 2.0402\n",
            "test loss 2.040154 is the best so far, saving model to out/model.pt\n",
            "step 16000 train loss: 2.0008 test loss: 2.0397\n",
            "test loss 2.039747 is the best so far, saving model to out/model.pt\n",
            "step 16500 train loss: 2.0188 test loss: 2.0409\n",
            "step 17000 train loss: 2.0242 test loss: 2.0389\n",
            "test loss 2.038909 is the best so far, saving model to out/model.pt\n",
            "step 17500 train loss: 2.0025 test loss: 2.0390\n",
            "step 18000 train loss: 2.0007 test loss: 2.0393\n",
            "step 18500 train loss: 2.0227 test loss: 2.0423\n",
            "step 19000 train loss: 2.0210 test loss: 2.0399\n",
            "step 19500 train loss: 2.0006 test loss: 2.0414\n",
            "step 20000 train loss: 2.0188 test loss: 2.0391\n",
            "step 20500 train loss: 2.0155 test loss: 2.0386\n",
            "test loss 2.038603 is the best so far, saving model to out/model.pt\n",
            "step 21000 train loss: 1.9764 test loss: 2.0394\n",
            "step 21500 train loss: 2.0142 test loss: 2.0380\n",
            "test loss 2.038005 is the best so far, saving model to out/model.pt\n",
            "step 22000 train loss: 1.9862 test loss: 2.0398\n",
            "step 22500 train loss: 1.9991 test loss: 2.0352\n",
            "test loss 2.035211 is the best so far, saving model to out/model.pt\n",
            "step 23000 train loss: 1.9869 test loss: 2.0386\n",
            "step 23500 train loss: 2.0159 test loss: 2.0409\n",
            "step 24000 train loss: 2.0052 test loss: 2.0393\n",
            "step 24500 train loss: 2.0018 test loss: 2.0375\n",
            "step 25000 train loss: 1.9986 test loss: 2.0360\n",
            "step 25500 train loss: 2.0066 test loss: 2.0362\n",
            "step 26000 train loss: 2.0021 test loss: 2.0378\n",
            "step 26500 train loss: 1.9991 test loss: 2.0355\n",
            "step 27000 train loss: 2.0084 test loss: 2.0340\n",
            "test loss 2.034015 is the best so far, saving model to out/model.pt\n",
            "step 27500 train loss: 1.9969 test loss: 2.0372\n",
            "step 28000 train loss: 1.9994 test loss: 2.0360\n",
            "step 28500 train loss: 2.0010 test loss: 2.0394\n",
            "step 29000 train loss: 2.0132 test loss: 2.0380\n",
            "step 29500 train loss: 2.0026 test loss: 2.0394\n",
            "step 30000 train loss: 2.0034 test loss: 2.0352\n",
            "step 30500 train loss: 1.9907 test loss: 2.0394\n",
            "step 31000 train loss: 1.9852 test loss: 2.0405\n",
            "step 31500 train loss: 2.0118 test loss: 2.0368\n",
            "step 32000 train loss: 1.9868 test loss: 2.0351\n",
            "step 32500 train loss: 2.0229 test loss: 2.0367\n",
            "step 33000 train loss: 1.9957 test loss: 2.0325\n",
            "test loss 2.032513 is the best so far, saving model to out/model.pt\n",
            "step 33500 train loss: 2.0090 test loss: 2.0354\n",
            "step 34000 train loss: 1.9771 test loss: 2.0388\n",
            "step 34500 train loss: 2.0014 test loss: 2.0313\n",
            "test loss 2.031272 is the best so far, saving model to out/model.pt\n",
            "step 35000 train loss: 1.9981 test loss: 2.0362\n",
            "step 35500 train loss: 2.0097 test loss: 2.0315\n",
            "step 36000 train loss: 2.0162 test loss: 2.0378\n",
            "step 36500 train loss: 1.9937 test loss: 2.0332\n",
            "step 37000 train loss: 2.0072 test loss: 2.0354\n",
            "step 37500 train loss: 2.0170 test loss: 2.0327\n",
            "step 38000 train loss: 1.9849 test loss: 2.0377\n",
            "step 38500 train loss: 2.0023 test loss: 2.0351\n",
            "step 39000 train loss: 1.9868 test loss: 2.0366\n",
            "step 39500 train loss: 1.9842 test loss: 2.0379\n",
            "step 40000 train loss: 2.0022 test loss: 2.0326\n",
            "step 40500 train loss: 2.0026 test loss: 2.0338\n",
            "step 41000 train loss: 1.9928 test loss: 2.0355\n",
            "step 41500 train loss: 1.9878 test loss: 2.0340\n",
            "step 42000 train loss: 1.9956 test loss: 2.0313\n",
            "step 42500 train loss: 2.0010 test loss: 2.0335\n",
            "step 43000 train loss: 1.9961 test loss: 2.0327\n",
            "step 43500 train loss: 1.9970 test loss: 2.0341\n",
            "step 44000 train loss: 2.0039 test loss: 2.0360\n",
            "step 44500 train loss: 1.9910 test loss: 2.0325\n",
            "step 45000 train loss: 1.9986 test loss: 2.0335\n",
            "step 45500 train loss: 1.9982 test loss: 2.0331\n",
            "step 46000 train loss: 1.9845 test loss: 2.0351\n",
            "step 46500 train loss: 2.0021 test loss: 2.0330\n",
            "step 47000 train loss: 2.0061 test loss: 2.0321\n",
            "step 47500 train loss: 2.0271 test loss: 2.0336\n",
            "step 48000 train loss: 2.0143 test loss: 2.0288\n",
            "test loss 2.028782 is the best so far, saving model to out/model.pt\n",
            "step 48500 train loss: 1.9987 test loss: 2.0308\n",
            "step 49000 train loss: 1.9607 test loss: 2.0349\n",
            "step 49500 train loss: 2.0008 test loss: 2.0312\n"
          ]
        },
        {
          "output_type": "display_data",
          "data": {
            "text/plain": [
              "VBox(children=(Label(value='0.001 MB of 0.018 MB uploaded\\r'), FloatProgress(value=0.07677217538836753, max=1.…"
            ],
            "application/vnd.jupyter.widget-view+json": {
              "version_major": 2,
              "version_minor": 0,
              "model_id": "959ae47ec057439b836121b728c2c939"
            }
          },
          "metadata": {}
        },
        {
          "output_type": "display_data",
          "data": {
            "text/plain": [
              "<IPython.core.display.HTML object>"
            ],
            "text/html": [
              "<style>\n",
              "    table.wandb td:nth-child(1) { padding: 0 10px; text-align: left ; width: auto;} td:nth-child(2) {text-align: left ; width: 100%}\n",
              "    .wandb-row { display: flex; flex-direction: row; flex-wrap: wrap; justify-content: flex-start; width: 100% }\n",
              "    .wandb-col { display: flex; flex-direction: column; flex-basis: 100%; flex: 1; padding: 10px; }\n",
              "    </style>\n",
              "<div class=\"wandb-row\"><div class=\"wandb-col\"><h3>Run history:</h3><br/><table class=\"wandb\"><tr><td>test/loss</td><td>█▅▄▃▃▂▂▂▂▂▂▂▁▁▁▁▁▁▁▁▁▁▁▁▁▁▁▁▁▁▁▁▁▁▁▁▁▁▁▁</td></tr><tr><td>train/loss</td><td>█▆▅▄▃▃▃▃▂▂▂▂▁▂▂▂▂▂▁▂▂▂▂▂▁▂▂▁▂▁▁▁▂▁▂▂▂▂▂▂</td></tr></table><br/></div><div class=\"wandb-col\"><h3>Run summary:</h3><br/><table class=\"wandb\"><tr><td>test/loss</td><td>2.03116</td></tr><tr><td>train/loss</td><td>2.00082</td></tr></table><br/></div></div>"
            ]
          },
          "metadata": {}
        },
        {
          "output_type": "display_data",
          "data": {
            "text/plain": [
              "<IPython.core.display.HTML object>"
            ],
            "text/html": [
              " View run <strong style=\"color:#cdcd00\">swift-sweep-2</strong> at: <a href='https://wandb.ai/polyphony/char-rnn-bs-sweeps-50000-steps/runs/fwlkvujd' target=\"_blank\">https://wandb.ai/polyphony/char-rnn-bs-sweeps-50000-steps/runs/fwlkvujd</a><br/> View project at: <a href='https://wandb.ai/polyphony/char-rnn-bs-sweeps-50000-steps' target=\"_blank\">https://wandb.ai/polyphony/char-rnn-bs-sweeps-50000-steps</a><br/>Synced 5 W&B file(s), 0 media file(s), 0 artifact file(s) and 0 other file(s)"
            ]
          },
          "metadata": {}
        },
        {
          "output_type": "display_data",
          "data": {
            "text/plain": [
              "<IPython.core.display.HTML object>"
            ],
            "text/html": [
              "Find logs at: <code>./wandb/run-20240605_035409-fwlkvujd/logs</code>"
            ]
          },
          "metadata": {}
        },
        {
          "output_type": "stream",
          "name": "stderr",
          "text": [
            "\u001b[34m\u001b[1mwandb\u001b[0m: Agent Starting Run: r5r50a2w with config:\n",
            "\u001b[34m\u001b[1mwandb\u001b[0m: \tbatch_size: 128\n",
            "\u001b[34m\u001b[1mwandb\u001b[0m: \tcell_type: rnn\n",
            "\u001b[34m\u001b[1mwandb\u001b[0m: \tdevice: cuda\n",
            "\u001b[34m\u001b[1mwandb\u001b[0m: \tinput_file: data/names.txt\n",
            "\u001b[34m\u001b[1mwandb\u001b[0m: \tlearning_rate: 0.001\n",
            "\u001b[34m\u001b[1mwandb\u001b[0m: \tmax_steps: 50000\n",
            "\u001b[34m\u001b[1mwandb\u001b[0m: \tn_embd: 64\n",
            "\u001b[34m\u001b[1mwandb\u001b[0m: \tn_embd2: 64\n",
            "\u001b[34m\u001b[1mwandb\u001b[0m: \tn_layer: 4\n",
            "\u001b[34m\u001b[1mwandb\u001b[0m: \tnum_workers: 2\n",
            "\u001b[34m\u001b[1mwandb\u001b[0m: \tseed: 3407\n",
            "\u001b[34m\u001b[1mwandb\u001b[0m: \ttop_k: -1\n",
            "\u001b[34m\u001b[1mwandb\u001b[0m: \tweight_decay: 0.01\n",
            "\u001b[34m\u001b[1mwandb\u001b[0m: \twork_dir: out\n"
          ]
        },
        {
          "output_type": "display_data",
          "data": {
            "text/plain": [
              "<IPython.core.display.HTML object>"
            ],
            "text/html": [
              "Tracking run with wandb version 0.17.0"
            ]
          },
          "metadata": {}
        },
        {
          "output_type": "display_data",
          "data": {
            "text/plain": [
              "<IPython.core.display.HTML object>"
            ],
            "text/html": [
              "Run data is saved locally in <code>/content/makemore/wandb/run-20240605_040413-r5r50a2w</code>"
            ]
          },
          "metadata": {}
        },
        {
          "output_type": "display_data",
          "data": {
            "text/plain": [
              "<IPython.core.display.HTML object>"
            ],
            "text/html": [
              "Syncing run <strong><a href='https://wandb.ai/polyphony/char-rnn-bs-sweeps-50000-steps/runs/r5r50a2w' target=\"_blank\">colorful-sweep-3</a></strong> to <a href='https://wandb.ai/polyphony/char-rnn-bs-sweeps-50000-steps' target=\"_blank\">Weights & Biases</a> (<a href='https://wandb.me/run' target=\"_blank\">docs</a>)<br/>Sweep page: <a href='https://wandb.ai/polyphony/char-rnn-bs-sweeps-50000-steps/sweeps/3dw7opq1' target=\"_blank\">https://wandb.ai/polyphony/char-rnn-bs-sweeps-50000-steps/sweeps/3dw7opq1</a>"
            ]
          },
          "metadata": {}
        },
        {
          "output_type": "display_data",
          "data": {
            "text/plain": [
              "<IPython.core.display.HTML object>"
            ],
            "text/html": [
              " View project at <a href='https://wandb.ai/polyphony/char-rnn-bs-sweeps-50000-steps' target=\"_blank\">https://wandb.ai/polyphony/char-rnn-bs-sweeps-50000-steps</a>"
            ]
          },
          "metadata": {}
        },
        {
          "output_type": "display_data",
          "data": {
            "text/plain": [
              "<IPython.core.display.HTML object>"
            ],
            "text/html": [
              " View sweep at <a href='https://wandb.ai/polyphony/char-rnn-bs-sweeps-50000-steps/sweeps/3dw7opq1' target=\"_blank\">https://wandb.ai/polyphony/char-rnn-bs-sweeps-50000-steps/sweeps/3dw7opq1</a>"
            ]
          },
          "metadata": {}
        },
        {
          "output_type": "display_data",
          "data": {
            "text/plain": [
              "<IPython.core.display.HTML object>"
            ],
            "text/html": [
              " View run at <a href='https://wandb.ai/polyphony/char-rnn-bs-sweeps-50000-steps/runs/r5r50a2w' target=\"_blank\">https://wandb.ai/polyphony/char-rnn-bs-sweeps-50000-steps/runs/r5r50a2w</a>"
            ]
          },
          "metadata": {}
        },
        {
          "output_type": "stream",
          "name": "stdout",
          "text": [
            "number of examples in the dataset: 32033\n",
            "max word length: 15\n",
            "number of unique characters in the vocabulary: 26\n",
            "vocabulary:\n",
            "abcdefghijklmnopqrstuvwxyz\n",
            "split up the dataset into 31033 training examples and 1000 test examples\n",
            "\n",
            "dataset determined that: vocab_size=27, block_size=16\n",
            "model #params: 11803\n"
          ]
        },
        {
          "output_type": "display_data",
          "data": {
            "text/plain": [
              "  0%|          | 0/50000 [00:00<?, ?it/s]"
            ],
            "application/vnd.jupyter.widget-view+json": {
              "version_major": 2,
              "version_minor": 0,
              "model_id": "7f1ed54882ea4bdbab911ae9e2e7a6b3"
            }
          },
          "metadata": {}
        },
        {
          "output_type": "stream",
          "name": "stdout",
          "text": [
            "step 500 train loss: 2.2037 test loss: 2.1787\n",
            "test loss 2.178662 is the best so far, saving model to out/model.pt\n",
            "step 1000 train loss: 2.1632 test loss: 2.1350\n",
            "test loss 2.134984 is the best so far, saving model to out/model.pt\n",
            "step 1500 train loss: 2.1153 test loss: 2.1073\n",
            "test loss 2.107256 is the best so far, saving model to out/model.pt\n",
            "step 2000 train loss: 2.0865 test loss: 2.0926\n",
            "test loss 2.092555 is the best so far, saving model to out/model.pt\n",
            "step 2500 train loss: 2.1056 test loss: 2.0845\n",
            "test loss 2.084538 is the best so far, saving model to out/model.pt\n",
            "step 3000 train loss: 2.0810 test loss: 2.0721\n",
            "test loss 2.072052 is the best so far, saving model to out/model.pt\n",
            "step 3500 train loss: 2.0649 test loss: 2.0670\n",
            "test loss 2.066991 is the best so far, saving model to out/model.pt\n",
            "step 4000 train loss: 2.0604 test loss: 2.0598\n",
            "test loss 2.059821 is the best so far, saving model to out/model.pt\n",
            "step 4500 train loss: 2.0668 test loss: 2.0587\n",
            "test loss 2.058656 is the best so far, saving model to out/model.pt\n",
            "step 5000 train loss: 2.0553 test loss: 2.0526\n",
            "test loss 2.052596 is the best so far, saving model to out/model.pt\n",
            "step 5500 train loss: 2.0309 test loss: 2.0517\n",
            "test loss 2.051707 is the best so far, saving model to out/model.pt\n",
            "step 6000 train loss: 2.0220 test loss: 2.0473\n",
            "test loss 2.047324 is the best so far, saving model to out/model.pt\n",
            "step 6500 train loss: 2.0176 test loss: 2.0466\n",
            "test loss 2.046595 is the best so far, saving model to out/model.pt\n",
            "step 7000 train loss: 2.0511 test loss: 2.0470\n",
            "step 7500 train loss: 2.0334 test loss: 2.0446\n",
            "test loss 2.044600 is the best so far, saving model to out/model.pt\n",
            "step 8000 train loss: 2.0357 test loss: 2.0398\n",
            "test loss 2.039780 is the best so far, saving model to out/model.pt\n",
            "step 8500 train loss: 2.0326 test loss: 2.0380\n",
            "test loss 2.037979 is the best so far, saving model to out/model.pt\n",
            "step 9000 train loss: 2.0143 test loss: 2.0407\n",
            "step 9500 train loss: 2.0113 test loss: 2.0374\n",
            "test loss 2.037376 is the best so far, saving model to out/model.pt\n",
            "step 10000 train loss: 2.0394 test loss: 2.0360\n",
            "test loss 2.035988 is the best so far, saving model to out/model.pt\n",
            "step 10500 train loss: 2.0138 test loss: 2.0347\n",
            "test loss 2.034654 is the best so far, saving model to out/model.pt\n",
            "step 11000 train loss: 2.0297 test loss: 2.0361\n",
            "step 11500 train loss: 2.0145 test loss: 2.0337\n",
            "test loss 2.033696 is the best so far, saving model to out/model.pt\n",
            "step 12000 train loss: 2.0045 test loss: 2.0355\n",
            "step 12500 train loss: 1.9865 test loss: 2.0316\n",
            "test loss 2.031578 is the best so far, saving model to out/model.pt\n",
            "step 13000 train loss: 1.9974 test loss: 2.0339\n",
            "step 13500 train loss: 2.0289 test loss: 2.0283\n",
            "test loss 2.028280 is the best so far, saving model to out/model.pt\n",
            "step 14000 train loss: 1.9954 test loss: 2.0295\n",
            "step 14500 train loss: 1.9942 test loss: 2.0302\n",
            "step 15000 train loss: 2.0238 test loss: 2.0321\n",
            "step 15500 train loss: 1.9781 test loss: 2.0310\n",
            "step 16000 train loss: 1.9835 test loss: 2.0267\n",
            "test loss 2.026725 is the best so far, saving model to out/model.pt\n",
            "step 16500 train loss: 2.0037 test loss: 2.0286\n",
            "step 17000 train loss: 2.0195 test loss: 2.0276\n",
            "step 17500 train loss: 1.9912 test loss: 2.0260\n",
            "test loss 2.026003 is the best so far, saving model to out/model.pt\n",
            "step 18000 train loss: 1.9966 test loss: 2.0332\n",
            "step 18500 train loss: 2.0080 test loss: 2.0293\n",
            "step 19000 train loss: 2.0085 test loss: 2.0299\n",
            "step 19500 train loss: 1.9904 test loss: 2.0285\n",
            "step 20000 train loss: 2.0020 test loss: 2.0226\n",
            "test loss 2.022575 is the best so far, saving model to out/model.pt\n",
            "step 20500 train loss: 2.0006 test loss: 2.0284\n",
            "step 21000 train loss: 1.9647 test loss: 2.0197\n",
            "test loss 2.019728 is the best so far, saving model to out/model.pt\n",
            "step 21500 train loss: 1.9960 test loss: 2.0260\n",
            "step 22000 train loss: 1.9667 test loss: 2.0265\n",
            "step 22500 train loss: 1.9875 test loss: 2.0263\n",
            "step 23000 train loss: 1.9795 test loss: 2.0263\n",
            "step 23500 train loss: 2.0000 test loss: 2.0256\n",
            "step 24000 train loss: 1.9921 test loss: 2.0220\n",
            "step 24500 train loss: 1.9820 test loss: 2.0259\n",
            "step 25000 train loss: 1.9841 test loss: 2.0269\n",
            "step 25500 train loss: 2.0014 test loss: 2.0228\n",
            "step 26000 train loss: 1.9869 test loss: 2.0231\n",
            "step 26500 train loss: 1.9893 test loss: 2.0262\n",
            "step 27000 train loss: 2.0040 test loss: 2.0242\n",
            "step 27500 train loss: 1.9756 test loss: 2.0214\n",
            "step 28000 train loss: 1.9858 test loss: 2.0231\n",
            "step 28500 train loss: 1.9929 test loss: 2.0218\n",
            "step 29000 train loss: 1.9996 test loss: 2.0226\n",
            "step 29500 train loss: 1.9847 test loss: 2.0255\n",
            "step 30000 train loss: 1.9913 test loss: 2.0213\n",
            "step 30500 train loss: 1.9720 test loss: 2.0213\n",
            "step 31000 train loss: 1.9604 test loss: 2.0225\n",
            "step 31500 train loss: 2.0012 test loss: 2.0256\n",
            "step 32000 train loss: 1.9745 test loss: 2.0306\n",
            "step 32500 train loss: 2.0135 test loss: 2.0235\n",
            "step 33000 train loss: 1.9858 test loss: 2.0246\n",
            "step 33500 train loss: 2.0014 test loss: 2.0226\n",
            "step 34000 train loss: 1.9594 test loss: 2.0218\n",
            "step 34500 train loss: 1.9889 test loss: 2.0247\n",
            "step 35000 train loss: 1.9909 test loss: 2.0231\n",
            "step 35500 train loss: 1.9960 test loss: 2.0204\n",
            "step 36000 train loss: 2.0007 test loss: 2.0269\n",
            "step 36500 train loss: 1.9794 test loss: 2.0223\n",
            "step 37000 train loss: 1.9933 test loss: 2.0248\n",
            "step 37500 train loss: 1.9938 test loss: 2.0215\n",
            "step 38000 train loss: 1.9794 test loss: 2.0272\n",
            "step 38500 train loss: 1.9920 test loss: 2.0230\n",
            "step 39000 train loss: 1.9673 test loss: 2.0251\n",
            "step 39500 train loss: 1.9793 test loss: 2.0222\n",
            "step 40000 train loss: 1.9952 test loss: 2.0238\n",
            "step 40500 train loss: 1.9936 test loss: 2.0249\n",
            "step 41000 train loss: 1.9888 test loss: 2.0274\n",
            "step 41500 train loss: 1.9777 test loss: 2.0245\n",
            "step 42000 train loss: 1.9779 test loss: 2.0245\n",
            "step 42500 train loss: 1.9859 test loss: 2.0269\n",
            "step 43000 train loss: 1.9818 test loss: 2.0234\n",
            "step 43500 train loss: 1.9804 test loss: 2.0245\n",
            "step 44000 train loss: 1.9928 test loss: 2.0237\n",
            "step 44500 train loss: 1.9799 test loss: 2.0214\n",
            "step 45000 train loss: 1.9933 test loss: 2.0221\n",
            "step 45500 train loss: 1.9858 test loss: 2.0233\n",
            "step 46000 train loss: 1.9713 test loss: 2.0245\n",
            "step 46500 train loss: 1.9978 test loss: 2.0268\n",
            "step 47000 train loss: 1.9903 test loss: 2.0244\n",
            "step 47500 train loss: 2.0006 test loss: 2.0245\n",
            "step 48000 train loss: 1.9970 test loss: 2.0220\n",
            "step 48500 train loss: 1.9824 test loss: 2.0244\n",
            "step 49000 train loss: 1.9491 test loss: 2.0248\n",
            "step 49500 train loss: 1.9904 test loss: 2.0240\n"
          ]
        },
        {
          "output_type": "display_data",
          "data": {
            "text/plain": [
              "VBox(children=(Label(value='0.001 MB of 0.009 MB uploaded\\r'), FloatProgress(value=0.15316268246244977, max=1.…"
            ],
            "application/vnd.jupyter.widget-view+json": {
              "version_major": 2,
              "version_minor": 0,
              "model_id": "da9e2b65f1da4e6688c6b7705b07c5a2"
            }
          },
          "metadata": {}
        },
        {
          "output_type": "display_data",
          "data": {
            "text/plain": [
              "<IPython.core.display.HTML object>"
            ],
            "text/html": [
              "<style>\n",
              "    table.wandb td:nth-child(1) { padding: 0 10px; text-align: left ; width: auto;} td:nth-child(2) {text-align: left ; width: 100%}\n",
              "    .wandb-row { display: flex; flex-direction: row; flex-wrap: wrap; justify-content: flex-start; width: 100% }\n",
              "    .wandb-col { display: flex; flex-direction: column; flex-basis: 100%; flex: 1; padding: 10px; }\n",
              "    </style>\n",
              "<div class=\"wandb-row\"><div class=\"wandb-col\"><h3>Run history:</h3><br/><table class=\"wandb\"><tr><td>test/loss</td><td>█▅▃▃▂▂▂▂▂▂▂▁▁▁▂▁▁▁▁▁▁▁▁▁▁▁▁▁▁▁▁▁▁▁▁▁▁▁▁▁</td></tr><tr><td>train/loss</td><td>█▅▄▄▃▃▃▃▃▃▂▂▂▂▂▂▂▂▂▂▂▂▂▂▁▂▂▁▂▂▂▁▂▂▂▂▂▂▂▂</td></tr></table><br/></div><div class=\"wandb-col\"><h3>Run summary:</h3><br/><table class=\"wandb\"><tr><td>test/loss</td><td>2.02396</td></tr><tr><td>train/loss</td><td>1.9904</td></tr></table><br/></div></div>"
            ]
          },
          "metadata": {}
        },
        {
          "output_type": "display_data",
          "data": {
            "text/plain": [
              "<IPython.core.display.HTML object>"
            ],
            "text/html": [
              " View run <strong style=\"color:#cdcd00\">colorful-sweep-3</strong> at: <a href='https://wandb.ai/polyphony/char-rnn-bs-sweeps-50000-steps/runs/r5r50a2w' target=\"_blank\">https://wandb.ai/polyphony/char-rnn-bs-sweeps-50000-steps/runs/r5r50a2w</a><br/> View project at: <a href='https://wandb.ai/polyphony/char-rnn-bs-sweeps-50000-steps' target=\"_blank\">https://wandb.ai/polyphony/char-rnn-bs-sweeps-50000-steps</a><br/>Synced 5 W&B file(s), 0 media file(s), 0 artifact file(s) and 0 other file(s)"
            ]
          },
          "metadata": {}
        },
        {
          "output_type": "display_data",
          "data": {
            "text/plain": [
              "<IPython.core.display.HTML object>"
            ],
            "text/html": [
              "Find logs at: <code>./wandb/run-20240605_040413-r5r50a2w/logs</code>"
            ]
          },
          "metadata": {}
        },
        {
          "output_type": "stream",
          "name": "stderr",
          "text": [
            "\u001b[34m\u001b[1mwandb\u001b[0m: Agent Starting Run: pthx7gqj with config:\n",
            "\u001b[34m\u001b[1mwandb\u001b[0m: \tbatch_size: 256\n",
            "\u001b[34m\u001b[1mwandb\u001b[0m: \tcell_type: rnn\n",
            "\u001b[34m\u001b[1mwandb\u001b[0m: \tdevice: cuda\n",
            "\u001b[34m\u001b[1mwandb\u001b[0m: \tinput_file: data/names.txt\n",
            "\u001b[34m\u001b[1mwandb\u001b[0m: \tlearning_rate: 0.001\n",
            "\u001b[34m\u001b[1mwandb\u001b[0m: \tmax_steps: 50000\n",
            "\u001b[34m\u001b[1mwandb\u001b[0m: \tn_embd: 64\n",
            "\u001b[34m\u001b[1mwandb\u001b[0m: \tn_embd2: 64\n",
            "\u001b[34m\u001b[1mwandb\u001b[0m: \tn_layer: 4\n",
            "\u001b[34m\u001b[1mwandb\u001b[0m: \tnum_workers: 2\n",
            "\u001b[34m\u001b[1mwandb\u001b[0m: \tseed: 3407\n",
            "\u001b[34m\u001b[1mwandb\u001b[0m: \ttop_k: -1\n",
            "\u001b[34m\u001b[1mwandb\u001b[0m: \tweight_decay: 0.01\n",
            "\u001b[34m\u001b[1mwandb\u001b[0m: \twork_dir: out\n"
          ]
        },
        {
          "output_type": "display_data",
          "data": {
            "text/plain": [
              "<IPython.core.display.HTML object>"
            ],
            "text/html": [
              "Tracking run with wandb version 0.17.0"
            ]
          },
          "metadata": {}
        },
        {
          "output_type": "display_data",
          "data": {
            "text/plain": [
              "<IPython.core.display.HTML object>"
            ],
            "text/html": [
              "Run data is saved locally in <code>/content/makemore/wandb/run-20240605_041621-pthx7gqj</code>"
            ]
          },
          "metadata": {}
        },
        {
          "output_type": "display_data",
          "data": {
            "text/plain": [
              "<IPython.core.display.HTML object>"
            ],
            "text/html": [
              "Syncing run <strong><a href='https://wandb.ai/polyphony/char-rnn-bs-sweeps-50000-steps/runs/pthx7gqj' target=\"_blank\">restful-sweep-4</a></strong> to <a href='https://wandb.ai/polyphony/char-rnn-bs-sweeps-50000-steps' target=\"_blank\">Weights & Biases</a> (<a href='https://wandb.me/run' target=\"_blank\">docs</a>)<br/>Sweep page: <a href='https://wandb.ai/polyphony/char-rnn-bs-sweeps-50000-steps/sweeps/3dw7opq1' target=\"_blank\">https://wandb.ai/polyphony/char-rnn-bs-sweeps-50000-steps/sweeps/3dw7opq1</a>"
            ]
          },
          "metadata": {}
        },
        {
          "output_type": "display_data",
          "data": {
            "text/plain": [
              "<IPython.core.display.HTML object>"
            ],
            "text/html": [
              " View project at <a href='https://wandb.ai/polyphony/char-rnn-bs-sweeps-50000-steps' target=\"_blank\">https://wandb.ai/polyphony/char-rnn-bs-sweeps-50000-steps</a>"
            ]
          },
          "metadata": {}
        },
        {
          "output_type": "display_data",
          "data": {
            "text/plain": [
              "<IPython.core.display.HTML object>"
            ],
            "text/html": [
              " View sweep at <a href='https://wandb.ai/polyphony/char-rnn-bs-sweeps-50000-steps/sweeps/3dw7opq1' target=\"_blank\">https://wandb.ai/polyphony/char-rnn-bs-sweeps-50000-steps/sweeps/3dw7opq1</a>"
            ]
          },
          "metadata": {}
        },
        {
          "output_type": "display_data",
          "data": {
            "text/plain": [
              "<IPython.core.display.HTML object>"
            ],
            "text/html": [
              " View run at <a href='https://wandb.ai/polyphony/char-rnn-bs-sweeps-50000-steps/runs/pthx7gqj' target=\"_blank\">https://wandb.ai/polyphony/char-rnn-bs-sweeps-50000-steps/runs/pthx7gqj</a>"
            ]
          },
          "metadata": {}
        },
        {
          "output_type": "stream",
          "name": "stdout",
          "text": [
            "number of examples in the dataset: 32033\n",
            "max word length: 15\n",
            "number of unique characters in the vocabulary: 26\n",
            "vocabulary:\n",
            "abcdefghijklmnopqrstuvwxyz\n",
            "split up the dataset into 31033 training examples and 1000 test examples\n",
            "\n",
            "dataset determined that: vocab_size=27, block_size=16\n",
            "model #params: 11803\n"
          ]
        },
        {
          "output_type": "display_data",
          "data": {
            "text/plain": [
              "  0%|          | 0/50000 [00:00<?, ?it/s]"
            ],
            "application/vnd.jupyter.widget-view+json": {
              "version_major": 2,
              "version_minor": 0,
              "model_id": "17825bfb4d9842dd8d24a8a17ba92fd3"
            }
          },
          "metadata": {}
        },
        {
          "output_type": "stream",
          "name": "stdout",
          "text": [
            "step 500 train loss: 2.1812 test loss: 2.1615\n",
            "test loss 2.161529 is the best so far, saving model to out/model.pt\n",
            "step 1000 train loss: 2.1417 test loss: 2.1122\n",
            "test loss 2.112188 is the best so far, saving model to out/model.pt\n",
            "step 1500 train loss: 2.0934 test loss: 2.0873\n",
            "test loss 2.087259 is the best so far, saving model to out/model.pt\n",
            "step 2000 train loss: 2.0641 test loss: 2.0708\n",
            "test loss 2.070768 is the best so far, saving model to out/model.pt\n",
            "step 2500 train loss: 2.0793 test loss: 2.0617\n",
            "test loss 2.061687 is the best so far, saving model to out/model.pt\n",
            "step 3000 train loss: 2.0618 test loss: 2.0571\n",
            "test loss 2.057112 is the best so far, saving model to out/model.pt\n",
            "step 3500 train loss: 2.0500 test loss: 2.0514\n",
            "test loss 2.051391 is the best so far, saving model to out/model.pt\n",
            "step 4000 train loss: 2.0420 test loss: 2.0487\n",
            "test loss 2.048651 is the best so far, saving model to out/model.pt\n",
            "step 4500 train loss: 2.0399 test loss: 2.0451\n",
            "test loss 2.045142 is the best so far, saving model to out/model.pt\n",
            "step 5000 train loss: 2.0318 test loss: 2.0416\n",
            "test loss 2.041582 is the best so far, saving model to out/model.pt\n",
            "step 5500 train loss: 2.0258 test loss: 2.0382\n",
            "test loss 2.038159 is the best so far, saving model to out/model.pt\n",
            "step 6000 train loss: 2.0130 test loss: 2.0380\n",
            "test loss 2.038015 is the best so far, saving model to out/model.pt\n",
            "step 6500 train loss: 2.0044 test loss: 2.0362\n",
            "test loss 2.036212 is the best so far, saving model to out/model.pt\n",
            "step 7000 train loss: 2.0309 test loss: 2.0325\n",
            "test loss 2.032492 is the best so far, saving model to out/model.pt\n",
            "step 7500 train loss: 2.0137 test loss: 2.0318\n",
            "test loss 2.031846 is the best so far, saving model to out/model.pt\n",
            "step 8000 train loss: 2.0183 test loss: 2.0311\n",
            "test loss 2.031065 is the best so far, saving model to out/model.pt\n",
            "step 8500 train loss: 2.0176 test loss: 2.0317\n",
            "step 9000 train loss: 1.9992 test loss: 2.0322\n",
            "step 9500 train loss: 1.9942 test loss: 2.0278\n",
            "test loss 2.027782 is the best so far, saving model to out/model.pt\n",
            "step 10000 train loss: 2.0210 test loss: 2.0260\n",
            "test loss 2.025978 is the best so far, saving model to out/model.pt\n",
            "step 10500 train loss: 1.9931 test loss: 2.0269\n",
            "step 11000 train loss: 2.0147 test loss: 2.0264\n",
            "step 11500 train loss: 1.9919 test loss: 2.0261\n",
            "step 12000 train loss: 1.9992 test loss: 2.0232\n",
            "test loss 2.023193 is the best so far, saving model to out/model.pt\n",
            "step 12500 train loss: 1.9824 test loss: 2.0269\n",
            "step 13000 train loss: 1.9825 test loss: 2.0239\n",
            "step 13500 train loss: 2.0183 test loss: 2.0247\n",
            "step 14000 train loss: 1.9756 test loss: 2.0255\n",
            "step 14500 train loss: 1.9771 test loss: 2.0246\n",
            "step 15000 train loss: 2.0072 test loss: 2.0228\n",
            "test loss 2.022808 is the best so far, saving model to out/model.pt\n",
            "step 15500 train loss: 1.9701 test loss: 2.0237\n",
            "step 16000 train loss: 1.9775 test loss: 2.0225\n",
            "test loss 2.022546 is the best so far, saving model to out/model.pt\n",
            "step 16500 train loss: 1.9915 test loss: 2.0265\n",
            "step 17000 train loss: 1.9936 test loss: 2.0220\n",
            "test loss 2.021955 is the best so far, saving model to out/model.pt\n",
            "step 17500 train loss: 1.9774 test loss: 2.0251\n",
            "step 18000 train loss: 1.9778 test loss: 2.0262\n",
            "step 18500 train loss: 1.9965 test loss: 2.0245\n",
            "step 19000 train loss: 1.9951 test loss: 2.0239\n",
            "step 19500 train loss: 1.9807 test loss: 2.0256\n",
            "step 20000 train loss: 1.9954 test loss: 2.0229\n",
            "step 20500 train loss: 1.9894 test loss: 2.0214\n",
            "test loss 2.021363 is the best so far, saving model to out/model.pt\n",
            "step 21000 train loss: 1.9601 test loss: 2.0242\n",
            "step 21500 train loss: 1.9836 test loss: 2.0234\n",
            "step 22000 train loss: 1.9513 test loss: 2.0245\n",
            "step 22500 train loss: 1.9810 test loss: 2.0227\n",
            "step 23000 train loss: 1.9597 test loss: 2.0241\n",
            "step 23500 train loss: 1.9940 test loss: 2.0239\n",
            "step 24000 train loss: 1.9822 test loss: 2.0231\n",
            "step 24500 train loss: 1.9619 test loss: 2.0221\n",
            "step 25000 train loss: 1.9768 test loss: 2.0246\n",
            "step 25500 train loss: 1.9862 test loss: 2.0188\n",
            "test loss 2.018843 is the best so far, saving model to out/model.pt\n",
            "step 26000 train loss: 1.9847 test loss: 2.0202\n",
            "step 26500 train loss: 1.9794 test loss: 2.0212\n",
            "step 27000 train loss: 1.9890 test loss: 2.0215\n",
            "step 27500 train loss: 1.9724 test loss: 2.0223\n",
            "step 28000 train loss: 1.9818 test loss: 2.0208\n",
            "step 28500 train loss: 1.9920 test loss: 2.0212\n",
            "step 29000 train loss: 1.9909 test loss: 2.0204\n",
            "step 29500 train loss: 1.9822 test loss: 2.0208\n",
            "step 30000 train loss: 1.9809 test loss: 2.0192\n",
            "step 30500 train loss: 1.9709 test loss: 2.0206\n",
            "step 31000 train loss: 1.9611 test loss: 2.0203\n",
            "step 31500 train loss: 1.9872 test loss: 2.0197\n",
            "step 32000 train loss: 1.9668 test loss: 2.0199\n",
            "step 32500 train loss: 2.0006 test loss: 2.0195\n",
            "step 33000 train loss: 1.9751 test loss: 2.0210\n",
            "step 33500 train loss: 1.9847 test loss: 2.0209\n",
            "step 34000 train loss: 1.9522 test loss: 2.0199\n",
            "step 34500 train loss: 1.9835 test loss: 2.0198\n",
            "step 35000 train loss: 1.9887 test loss: 2.0209\n",
            "step 35500 train loss: 1.9792 test loss: 2.0211\n",
            "step 36000 train loss: 1.9926 test loss: 2.0239\n",
            "step 36500 train loss: 1.9759 test loss: 2.0186\n",
            "test loss 2.018626 is the best so far, saving model to out/model.pt\n",
            "step 37000 train loss: 1.9829 test loss: 2.0217\n",
            "step 37500 train loss: 1.9889 test loss: 2.0206\n",
            "step 38000 train loss: 1.9724 test loss: 2.0210\n",
            "step 38500 train loss: 1.9863 test loss: 2.0210\n",
            "step 39000 train loss: 1.9603 test loss: 2.0211\n",
            "step 39500 train loss: 1.9722 test loss: 2.0219\n",
            "step 40000 train loss: 1.9889 test loss: 2.0208\n",
            "step 40500 train loss: 1.9749 test loss: 2.0203\n",
            "step 41000 train loss: 1.9747 test loss: 2.0232\n",
            "step 41500 train loss: 1.9651 test loss: 2.0199\n",
            "step 42000 train loss: 1.9711 test loss: 2.0197\n",
            "step 42500 train loss: 1.9712 test loss: 2.0209\n",
            "step 43000 train loss: 1.9816 test loss: 2.0186\n",
            "test loss 2.018619 is the best so far, saving model to out/model.pt\n",
            "step 43500 train loss: 1.9811 test loss: 2.0207\n",
            "step 44000 train loss: 1.9761 test loss: 2.0210\n",
            "step 44500 train loss: 1.9746 test loss: 2.0224\n",
            "step 45000 train loss: 1.9917 test loss: 2.0188\n",
            "step 45500 train loss: 1.9732 test loss: 2.0194\n",
            "step 46000 train loss: 1.9645 test loss: 2.0228\n",
            "step 46500 train loss: 1.9847 test loss: 2.0217\n",
            "step 47000 train loss: 1.9831 test loss: 2.0194\n",
            "step 47500 train loss: 2.0054 test loss: 2.0226\n",
            "step 48000 train loss: 1.9867 test loss: 2.0201\n",
            "step 48500 train loss: 1.9769 test loss: 2.0196\n",
            "step 49000 train loss: 1.9466 test loss: 2.0195\n",
            "step 49500 train loss: 1.9849 test loss: 2.0169\n",
            "test loss 2.016916 is the best so far, saving model to out/model.pt\n"
          ]
        },
        {
          "output_type": "display_data",
          "data": {
            "text/plain": [
              "VBox(children=(Label(value='0.001 MB of 0.001 MB uploaded\\r'), FloatProgress(value=1.0, max=1.0)))"
            ],
            "application/vnd.jupyter.widget-view+json": {
              "version_major": 2,
              "version_minor": 0,
              "model_id": "ffb9e23eca5d4951b188abc609fc271f"
            }
          },
          "metadata": {}
        },
        {
          "output_type": "display_data",
          "data": {
            "text/plain": [
              "<IPython.core.display.HTML object>"
            ],
            "text/html": [
              "<style>\n",
              "    table.wandb td:nth-child(1) { padding: 0 10px; text-align: left ; width: auto;} td:nth-child(2) {text-align: left ; width: 100%}\n",
              "    .wandb-row { display: flex; flex-direction: row; flex-wrap: wrap; justify-content: flex-start; width: 100% }\n",
              "    .wandb-col { display: flex; flex-direction: column; flex-basis: 100%; flex: 1; padding: 10px; }\n",
              "    </style>\n",
              "<div class=\"wandb-row\"><div class=\"wandb-col\"><h3>Run history:</h3><br/><table class=\"wandb\"><tr><td>test/loss</td><td>█▄▃▃▂▂▂▂▁▁▁▁▁▁▁▁▁▁▁▁▁▁▁▁▁▁▁▁▁▁▁▁▁▁▁▁▁▁▁▁</td></tr><tr><td>train/loss</td><td>█▅▄▄▃▃▃▂▂▂▂▂▂▂▂▂▂▂▁▂▂▂▂▂▂▂▂▁▂▂▂▁▂▁▂▂▂▂▂▂</td></tr></table><br/></div><div class=\"wandb-col\"><h3>Run summary:</h3><br/><table class=\"wandb\"><tr><td>test/loss</td><td>2.01692</td></tr><tr><td>train/loss</td><td>1.98488</td></tr></table><br/></div></div>"
            ]
          },
          "metadata": {}
        },
        {
          "output_type": "display_data",
          "data": {
            "text/plain": [
              "<IPython.core.display.HTML object>"
            ],
            "text/html": [
              " View run <strong style=\"color:#cdcd00\">restful-sweep-4</strong> at: <a href='https://wandb.ai/polyphony/char-rnn-bs-sweeps-50000-steps/runs/pthx7gqj' target=\"_blank\">https://wandb.ai/polyphony/char-rnn-bs-sweeps-50000-steps/runs/pthx7gqj</a><br/> View project at: <a href='https://wandb.ai/polyphony/char-rnn-bs-sweeps-50000-steps' target=\"_blank\">https://wandb.ai/polyphony/char-rnn-bs-sweeps-50000-steps</a><br/>Synced 5 W&B file(s), 0 media file(s), 0 artifact file(s) and 0 other file(s)"
            ]
          },
          "metadata": {}
        },
        {
          "output_type": "display_data",
          "data": {
            "text/plain": [
              "<IPython.core.display.HTML object>"
            ],
            "text/html": [
              "Find logs at: <code>./wandb/run-20240605_041621-pthx7gqj/logs</code>"
            ]
          },
          "metadata": {}
        },
        {
          "output_type": "stream",
          "name": "stderr",
          "text": [
            "\u001b[34m\u001b[1mwandb\u001b[0m: Agent Starting Run: lnni96uq with config:\n",
            "\u001b[34m\u001b[1mwandb\u001b[0m: \tbatch_size: 512\n",
            "\u001b[34m\u001b[1mwandb\u001b[0m: \tcell_type: rnn\n",
            "\u001b[34m\u001b[1mwandb\u001b[0m: \tdevice: cuda\n",
            "\u001b[34m\u001b[1mwandb\u001b[0m: \tinput_file: data/names.txt\n",
            "\u001b[34m\u001b[1mwandb\u001b[0m: \tlearning_rate: 0.001\n",
            "\u001b[34m\u001b[1mwandb\u001b[0m: \tmax_steps: 50000\n",
            "\u001b[34m\u001b[1mwandb\u001b[0m: \tn_embd: 64\n",
            "\u001b[34m\u001b[1mwandb\u001b[0m: \tn_embd2: 64\n",
            "\u001b[34m\u001b[1mwandb\u001b[0m: \tn_layer: 4\n",
            "\u001b[34m\u001b[1mwandb\u001b[0m: \tnum_workers: 2\n",
            "\u001b[34m\u001b[1mwandb\u001b[0m: \tseed: 3407\n",
            "\u001b[34m\u001b[1mwandb\u001b[0m: \ttop_k: -1\n",
            "\u001b[34m\u001b[1mwandb\u001b[0m: \tweight_decay: 0.01\n",
            "\u001b[34m\u001b[1mwandb\u001b[0m: \twork_dir: out\n"
          ]
        },
        {
          "output_type": "display_data",
          "data": {
            "text/plain": [
              "<IPython.core.display.HTML object>"
            ],
            "text/html": [
              "Tracking run with wandb version 0.17.0"
            ]
          },
          "metadata": {}
        },
        {
          "output_type": "display_data",
          "data": {
            "text/plain": [
              "<IPython.core.display.HTML object>"
            ],
            "text/html": [
              "Run data is saved locally in <code>/content/makemore/wandb/run-20240605_043254-lnni96uq</code>"
            ]
          },
          "metadata": {}
        },
        {
          "output_type": "display_data",
          "data": {
            "text/plain": [
              "<IPython.core.display.HTML object>"
            ],
            "text/html": [
              "Syncing run <strong><a href='https://wandb.ai/polyphony/char-rnn-bs-sweeps-50000-steps/runs/lnni96uq' target=\"_blank\">fragrant-sweep-5</a></strong> to <a href='https://wandb.ai/polyphony/char-rnn-bs-sweeps-50000-steps' target=\"_blank\">Weights & Biases</a> (<a href='https://wandb.me/run' target=\"_blank\">docs</a>)<br/>Sweep page: <a href='https://wandb.ai/polyphony/char-rnn-bs-sweeps-50000-steps/sweeps/3dw7opq1' target=\"_blank\">https://wandb.ai/polyphony/char-rnn-bs-sweeps-50000-steps/sweeps/3dw7opq1</a>"
            ]
          },
          "metadata": {}
        },
        {
          "output_type": "display_data",
          "data": {
            "text/plain": [
              "<IPython.core.display.HTML object>"
            ],
            "text/html": [
              " View project at <a href='https://wandb.ai/polyphony/char-rnn-bs-sweeps-50000-steps' target=\"_blank\">https://wandb.ai/polyphony/char-rnn-bs-sweeps-50000-steps</a>"
            ]
          },
          "metadata": {}
        },
        {
          "output_type": "display_data",
          "data": {
            "text/plain": [
              "<IPython.core.display.HTML object>"
            ],
            "text/html": [
              " View sweep at <a href='https://wandb.ai/polyphony/char-rnn-bs-sweeps-50000-steps/sweeps/3dw7opq1' target=\"_blank\">https://wandb.ai/polyphony/char-rnn-bs-sweeps-50000-steps/sweeps/3dw7opq1</a>"
            ]
          },
          "metadata": {}
        },
        {
          "output_type": "display_data",
          "data": {
            "text/plain": [
              "<IPython.core.display.HTML object>"
            ],
            "text/html": [
              " View run at <a href='https://wandb.ai/polyphony/char-rnn-bs-sweeps-50000-steps/runs/lnni96uq' target=\"_blank\">https://wandb.ai/polyphony/char-rnn-bs-sweeps-50000-steps/runs/lnni96uq</a>"
            ]
          },
          "metadata": {}
        },
        {
          "output_type": "stream",
          "name": "stdout",
          "text": [
            "number of examples in the dataset: 32033\n",
            "max word length: 15\n",
            "number of unique characters in the vocabulary: 26\n",
            "vocabulary:\n",
            "abcdefghijklmnopqrstuvwxyz\n",
            "split up the dataset into 31033 training examples and 1000 test examples\n",
            "\n",
            "dataset determined that: vocab_size=27, block_size=16\n",
            "model #params: 11803\n"
          ]
        },
        {
          "output_type": "display_data",
          "data": {
            "text/plain": [
              "  0%|          | 0/50000 [00:00<?, ?it/s]"
            ],
            "application/vnd.jupyter.widget-view+json": {
              "version_major": 2,
              "version_minor": 0,
              "model_id": "5196156a25f24e53ab4513d06206f38d"
            }
          },
          "metadata": {}
        },
        {
          "output_type": "stream",
          "name": "stdout",
          "text": [
            "step 500 train loss: 2.1612 test loss: 2.1409\n",
            "test loss 2.140901 is the best so far, saving model to out/model.pt\n",
            "step 1000 train loss: 2.1200 test loss: 2.0896\n",
            "test loss 2.089609 is the best so far, saving model to out/model.pt\n",
            "step 1500 train loss: 2.0793 test loss: 2.0673\n",
            "test loss 2.067284 is the best so far, saving model to out/model.pt\n",
            "step 2000 train loss: 2.0443 test loss: 2.0553\n",
            "test loss 2.055260 is the best so far, saving model to out/model.pt\n",
            "step 2500 train loss: 2.0597 test loss: 2.0459\n",
            "test loss 2.045858 is the best so far, saving model to out/model.pt\n",
            "step 3000 train loss: 2.0437 test loss: 2.0398\n",
            "test loss 2.039826 is the best so far, saving model to out/model.pt\n",
            "step 3500 train loss: 2.0307 test loss: 2.0375\n",
            "test loss 2.037510 is the best so far, saving model to out/model.pt\n",
            "step 4000 train loss: 2.0289 test loss: 2.0328\n",
            "test loss 2.032790 is the best so far, saving model to out/model.pt\n",
            "step 4500 train loss: 2.0256 test loss: 2.0314\n",
            "test loss 2.031450 is the best so far, saving model to out/model.pt\n",
            "step 5000 train loss: 2.0173 test loss: 2.0269\n",
            "test loss 2.026948 is the best so far, saving model to out/model.pt\n",
            "step 5500 train loss: 2.0057 test loss: 2.0259\n",
            "test loss 2.025885 is the best so far, saving model to out/model.pt\n",
            "step 6000 train loss: 1.9973 test loss: 2.0219\n",
            "test loss 2.021864 is the best so far, saving model to out/model.pt\n",
            "step 6500 train loss: 1.9858 test loss: 2.0226\n",
            "step 7000 train loss: 2.0124 test loss: 2.0218\n",
            "test loss 2.021756 is the best so far, saving model to out/model.pt\n",
            "step 7500 train loss: 2.0079 test loss: 2.0200\n",
            "test loss 2.020018 is the best so far, saving model to out/model.pt\n",
            "step 8000 train loss: 2.0000 test loss: 2.0209\n",
            "step 8500 train loss: 2.0027 test loss: 2.0198\n",
            "test loss 2.019817 is the best so far, saving model to out/model.pt\n",
            "step 9000 train loss: 1.9872 test loss: 2.0176\n",
            "test loss 2.017641 is the best so far, saving model to out/model.pt\n",
            "step 9500 train loss: 1.9907 test loss: 2.0173\n",
            "test loss 2.017286 is the best so far, saving model to out/model.pt\n",
            "step 10000 train loss: 2.0045 test loss: 2.0198\n",
            "step 10500 train loss: 1.9870 test loss: 2.0189\n",
            "step 11000 train loss: 2.0150 test loss: 2.0189\n",
            "step 11500 train loss: 1.9815 test loss: 2.0197\n",
            "step 12000 train loss: 1.9889 test loss: 2.0182\n",
            "step 12500 train loss: 1.9608 test loss: 2.0180\n",
            "step 13000 train loss: 1.9791 test loss: 2.0136\n",
            "test loss 2.013598 is the best so far, saving model to out/model.pt\n",
            "step 13500 train loss: 2.0058 test loss: 2.0161\n",
            "step 14000 train loss: 1.9723 test loss: 2.0155\n",
            "step 14500 train loss: 1.9762 test loss: 2.0176\n",
            "step 15000 train loss: 1.9968 test loss: 2.0154\n",
            "step 15500 train loss: 1.9562 test loss: 2.0149\n",
            "step 16000 train loss: 1.9675 test loss: 2.0161\n",
            "step 16500 train loss: 1.9856 test loss: 2.0141\n",
            "step 17000 train loss: 1.9911 test loss: 2.0163\n",
            "step 17500 train loss: 1.9772 test loss: 2.0170\n",
            "step 18000 train loss: 1.9742 test loss: 2.0175\n",
            "step 18500 train loss: 1.9814 test loss: 2.0169\n",
            "step 19000 train loss: 1.9835 test loss: 2.0171\n",
            "step 19500 train loss: 1.9699 test loss: 2.0170\n",
            "step 20000 train loss: 1.9930 test loss: 2.0166\n",
            "step 20500 train loss: 1.9772 test loss: 2.0164\n",
            "step 21000 train loss: 1.9493 test loss: 2.0171\n",
            "step 21500 train loss: 1.9762 test loss: 2.0183\n",
            "step 22000 train loss: 1.9492 test loss: 2.0192\n",
            "step 22500 train loss: 1.9721 test loss: 2.0160\n",
            "step 23000 train loss: 1.9604 test loss: 2.0166\n",
            "step 23500 train loss: 1.9857 test loss: 2.0176\n",
            "step 24000 train loss: 1.9756 test loss: 2.0212\n",
            "step 24500 train loss: 1.9638 test loss: 2.0165\n",
            "step 25000 train loss: 1.9779 test loss: 2.0197\n",
            "step 25500 train loss: 1.9807 test loss: 2.0176\n",
            "step 26000 train loss: 1.9774 test loss: 2.0205\n",
            "step 26500 train loss: 1.9752 test loss: 2.0190\n",
            "step 27000 train loss: 1.9839 test loss: 2.0200\n",
            "step 27500 train loss: 1.9719 test loss: 2.0202\n",
            "step 28000 train loss: 1.9745 test loss: 2.0197\n",
            "step 28500 train loss: 1.9686 test loss: 2.0201\n",
            "step 29000 train loss: 1.9815 test loss: 2.0156\n",
            "step 29500 train loss: 1.9707 test loss: 2.0174\n",
            "step 30000 train loss: 1.9712 test loss: 2.0178\n",
            "step 30500 train loss: 1.9561 test loss: 2.0196\n",
            "step 31000 train loss: 1.9539 test loss: 2.0193\n",
            "step 31500 train loss: 1.9817 test loss: 2.0169\n",
            "step 32000 train loss: 1.9719 test loss: 2.0171\n",
            "step 32500 train loss: 1.9999 test loss: 2.0155\n",
            "step 33000 train loss: 1.9722 test loss: 2.0177\n",
            "step 33500 train loss: 1.9827 test loss: 2.0194\n",
            "step 34000 train loss: 1.9474 test loss: 2.0207\n",
            "step 34500 train loss: 1.9825 test loss: 2.0185\n",
            "step 35000 train loss: 1.9760 test loss: 2.0167\n",
            "step 35500 train loss: 1.9812 test loss: 2.0164\n",
            "step 36000 train loss: 1.9807 test loss: 2.0204\n",
            "step 36500 train loss: 1.9599 test loss: 2.0175\n",
            "step 37000 train loss: 1.9744 test loss: 2.0156\n",
            "step 37500 train loss: 1.9774 test loss: 2.0174\n",
            "step 38000 train loss: 1.9573 test loss: 2.0166\n",
            "step 38500 train loss: 1.9740 test loss: 2.0182\n",
            "step 39000 train loss: 1.9581 test loss: 2.0195\n",
            "step 39500 train loss: 1.9626 test loss: 2.0197\n",
            "step 40000 train loss: 1.9908 test loss: 2.0169\n",
            "step 40500 train loss: 1.9790 test loss: 2.0171\n",
            "step 41000 train loss: 1.9761 test loss: 2.0196\n",
            "step 41500 train loss: 1.9656 test loss: 2.0175\n",
            "step 42000 train loss: 1.9642 test loss: 2.0197\n",
            "step 42500 train loss: 1.9676 test loss: 2.0188\n",
            "step 43000 train loss: 1.9707 test loss: 2.0202\n",
            "step 43500 train loss: 1.9743 test loss: 2.0183\n",
            "step 44000 train loss: 1.9741 test loss: 2.0187\n",
            "step 44500 train loss: 1.9723 test loss: 2.0205\n",
            "step 45000 train loss: 1.9778 test loss: 2.0174\n",
            "step 45500 train loss: 1.9584 test loss: 2.0198\n",
            "step 46000 train loss: 1.9612 test loss: 2.0189\n",
            "step 46500 train loss: 1.9838 test loss: 2.0188\n",
            "step 47000 train loss: 1.9813 test loss: 2.0140\n",
            "step 47500 train loss: 1.9987 test loss: 2.0177\n",
            "step 48000 train loss: 1.9786 test loss: 2.0192\n",
            "step 48500 train loss: 1.9756 test loss: 2.0144\n",
            "step 49000 train loss: 1.9327 test loss: 2.0164\n",
            "step 49500 train loss: 1.9776 test loss: 2.0169\n"
          ]
        },
        {
          "output_type": "display_data",
          "data": {
            "text/plain": [
              "VBox(children=(Label(value='0.001 MB of 0.001 MB uploaded\\r'), FloatProgress(value=1.0, max=1.0)))"
            ],
            "application/vnd.jupyter.widget-view+json": {
              "version_major": 2,
              "version_minor": 0,
              "model_id": "f4cde96836b743e7b25d3727c30d2f94"
            }
          },
          "metadata": {}
        },
        {
          "output_type": "display_data",
          "data": {
            "text/plain": [
              "<IPython.core.display.HTML object>"
            ],
            "text/html": [
              "<style>\n",
              "    table.wandb td:nth-child(1) { padding: 0 10px; text-align: left ; width: auto;} td:nth-child(2) {text-align: left ; width: 100%}\n",
              "    .wandb-row { display: flex; flex-direction: row; flex-wrap: wrap; justify-content: flex-start; width: 100% }\n",
              "    .wandb-col { display: flex; flex-direction: column; flex-basis: 100%; flex: 1; padding: 10px; }\n",
              "    </style>\n",
              "<div class=\"wandb-row\"><div class=\"wandb-col\"><h3>Run history:</h3><br/><table class=\"wandb\"><tr><td>test/loss</td><td>█▄▂▂▂▁▁▁▁▁▁▁▁▁▁▁▁▁▁▁▁▁▁▁▁▁▁▁▁▁▁▁▁▁▁▁▁▁▁▁</td></tr><tr><td>train/loss</td><td>█▅▄▄▃▂▃▂▂▂▂▂▁▂▂▂▂▂▁▂▂▂▂▂▁▂▂▁▂▁▁▁▂▂▂▂▁▂▂▂</td></tr></table><br/></div><div class=\"wandb-col\"><h3>Run summary:</h3><br/><table class=\"wandb\"><tr><td>test/loss</td><td>2.0169</td></tr><tr><td>train/loss</td><td>1.97757</td></tr></table><br/></div></div>"
            ]
          },
          "metadata": {}
        },
        {
          "output_type": "display_data",
          "data": {
            "text/plain": [
              "<IPython.core.display.HTML object>"
            ],
            "text/html": [
              " View run <strong style=\"color:#cdcd00\">fragrant-sweep-5</strong> at: <a href='https://wandb.ai/polyphony/char-rnn-bs-sweeps-50000-steps/runs/lnni96uq' target=\"_blank\">https://wandb.ai/polyphony/char-rnn-bs-sweeps-50000-steps/runs/lnni96uq</a><br/> View project at: <a href='https://wandb.ai/polyphony/char-rnn-bs-sweeps-50000-steps' target=\"_blank\">https://wandb.ai/polyphony/char-rnn-bs-sweeps-50000-steps</a><br/>Synced 5 W&B file(s), 0 media file(s), 0 artifact file(s) and 0 other file(s)"
            ]
          },
          "metadata": {}
        },
        {
          "output_type": "display_data",
          "data": {
            "text/plain": [
              "<IPython.core.display.HTML object>"
            ],
            "text/html": [
              "Find logs at: <code>./wandb/run-20240605_043254-lnni96uq/logs</code>"
            ]
          },
          "metadata": {}
        },
        {
          "output_type": "stream",
          "name": "stderr",
          "text": [
            "\u001b[34m\u001b[1mwandb\u001b[0m: Sweep Agent: Waiting for job.\n",
            "\u001b[34m\u001b[1mwandb\u001b[0m: Sweep Agent: Exiting.\n"
          ]
        }
      ],
      "source": [
        "wandb.agent(sweep_id, train)"
      ]
    },
    {
      "cell_type": "code",
      "source": [],
      "metadata": {
        "id": "tiJQze81ffgH"
      },
      "execution_count": 11,
      "outputs": []
    }
  ],
  "metadata": {
    "colab": {
      "provenance": [],
      "gpuType": "T4",
      "authorship_tag": "ABX9TyNVz1WtpKHD2diZmmLwnNic",
      "include_colab_link": true
    },
    "kernelspec": {
      "display_name": "Python 3",
      "name": "python3"
    },
    "language_info": {
      "name": "python"
    },
    "widgets": {
      "application/vnd.jupyter.widget-state+json": {
        "f7251f7bff2e4604b5a8459858ec7626": {
          "model_module": "@jupyter-widgets/controls",
          "model_name": "HBoxModel",
          "model_module_version": "1.5.0",
          "state": {
            "_dom_classes": [],
            "_model_module": "@jupyter-widgets/controls",
            "_model_module_version": "1.5.0",
            "_model_name": "HBoxModel",
            "_view_count": null,
            "_view_module": "@jupyter-widgets/controls",
            "_view_module_version": "1.5.0",
            "_view_name": "HBoxView",
            "box_style": "",
            "children": [
              "IPY_MODEL_497581486fde45b395ed508e9cf843de",
              "IPY_MODEL_dbcf96603d9f47af97fb398001f5f99d",
              "IPY_MODEL_49d8b6d069d249da84ee062ce2cf2c0e"
            ],
            "layout": "IPY_MODEL_d99eb5106f36486282bc68821f9fac5c"
          }
        },
        "497581486fde45b395ed508e9cf843de": {
          "model_module": "@jupyter-widgets/controls",
          "model_name": "HTMLModel",
          "model_module_version": "1.5.0",
          "state": {
            "_dom_classes": [],
            "_model_module": "@jupyter-widgets/controls",
            "_model_module_version": "1.5.0",
            "_model_name": "HTMLModel",
            "_view_count": null,
            "_view_module": "@jupyter-widgets/controls",
            "_view_module_version": "1.5.0",
            "_view_name": "HTMLView",
            "description": "",
            "description_tooltip": null,
            "layout": "IPY_MODEL_0ccd353f09db458bad7a4fe54d23e555",
            "placeholder": "​",
            "style": "IPY_MODEL_025f75cfaf364a9ca962d7b148ea152b",
            "value": "100%"
          }
        },
        "dbcf96603d9f47af97fb398001f5f99d": {
          "model_module": "@jupyter-widgets/controls",
          "model_name": "FloatProgressModel",
          "model_module_version": "1.5.0",
          "state": {
            "_dom_classes": [],
            "_model_module": "@jupyter-widgets/controls",
            "_model_module_version": "1.5.0",
            "_model_name": "FloatProgressModel",
            "_view_count": null,
            "_view_module": "@jupyter-widgets/controls",
            "_view_module_version": "1.5.0",
            "_view_name": "ProgressView",
            "bar_style": "success",
            "description": "",
            "description_tooltip": null,
            "layout": "IPY_MODEL_902a939564cb4bb49bc9bd4b32fc2ab9",
            "max": 50000,
            "min": 0,
            "orientation": "horizontal",
            "style": "IPY_MODEL_1e90c7bb34134c0ab6571e39158fc8e5",
            "value": 50000
          }
        },
        "49d8b6d069d249da84ee062ce2cf2c0e": {
          "model_module": "@jupyter-widgets/controls",
          "model_name": "HTMLModel",
          "model_module_version": "1.5.0",
          "state": {
            "_dom_classes": [],
            "_model_module": "@jupyter-widgets/controls",
            "_model_module_version": "1.5.0",
            "_model_name": "HTMLModel",
            "_view_count": null,
            "_view_module": "@jupyter-widgets/controls",
            "_view_module_version": "1.5.0",
            "_view_name": "HTMLView",
            "description": "",
            "description_tooltip": null,
            "layout": "IPY_MODEL_06e6fa218b3d492d99258227ee01f0f5",
            "placeholder": "​",
            "style": "IPY_MODEL_e32fed9e5b0344f48e9fe87fddf51b16",
            "value": " 50000/50000 [09:10&lt;00:00, 71.79it/s]"
          }
        },
        "d99eb5106f36486282bc68821f9fac5c": {
          "model_module": "@jupyter-widgets/base",
          "model_name": "LayoutModel",
          "model_module_version": "1.2.0",
          "state": {
            "_model_module": "@jupyter-widgets/base",
            "_model_module_version": "1.2.0",
            "_model_name": "LayoutModel",
            "_view_count": null,
            "_view_module": "@jupyter-widgets/base",
            "_view_module_version": "1.2.0",
            "_view_name": "LayoutView",
            "align_content": null,
            "align_items": null,
            "align_self": null,
            "border": null,
            "bottom": null,
            "display": null,
            "flex": null,
            "flex_flow": null,
            "grid_area": null,
            "grid_auto_columns": null,
            "grid_auto_flow": null,
            "grid_auto_rows": null,
            "grid_column": null,
            "grid_gap": null,
            "grid_row": null,
            "grid_template_areas": null,
            "grid_template_columns": null,
            "grid_template_rows": null,
            "height": null,
            "justify_content": null,
            "justify_items": null,
            "left": null,
            "margin": null,
            "max_height": null,
            "max_width": null,
            "min_height": null,
            "min_width": null,
            "object_fit": null,
            "object_position": null,
            "order": null,
            "overflow": null,
            "overflow_x": null,
            "overflow_y": null,
            "padding": null,
            "right": null,
            "top": null,
            "visibility": null,
            "width": null
          }
        },
        "0ccd353f09db458bad7a4fe54d23e555": {
          "model_module": "@jupyter-widgets/base",
          "model_name": "LayoutModel",
          "model_module_version": "1.2.0",
          "state": {
            "_model_module": "@jupyter-widgets/base",
            "_model_module_version": "1.2.0",
            "_model_name": "LayoutModel",
            "_view_count": null,
            "_view_module": "@jupyter-widgets/base",
            "_view_module_version": "1.2.0",
            "_view_name": "LayoutView",
            "align_content": null,
            "align_items": null,
            "align_self": null,
            "border": null,
            "bottom": null,
            "display": null,
            "flex": null,
            "flex_flow": null,
            "grid_area": null,
            "grid_auto_columns": null,
            "grid_auto_flow": null,
            "grid_auto_rows": null,
            "grid_column": null,
            "grid_gap": null,
            "grid_row": null,
            "grid_template_areas": null,
            "grid_template_columns": null,
            "grid_template_rows": null,
            "height": null,
            "justify_content": null,
            "justify_items": null,
            "left": null,
            "margin": null,
            "max_height": null,
            "max_width": null,
            "min_height": null,
            "min_width": null,
            "object_fit": null,
            "object_position": null,
            "order": null,
            "overflow": null,
            "overflow_x": null,
            "overflow_y": null,
            "padding": null,
            "right": null,
            "top": null,
            "visibility": null,
            "width": null
          }
        },
        "025f75cfaf364a9ca962d7b148ea152b": {
          "model_module": "@jupyter-widgets/controls",
          "model_name": "DescriptionStyleModel",
          "model_module_version": "1.5.0",
          "state": {
            "_model_module": "@jupyter-widgets/controls",
            "_model_module_version": "1.5.0",
            "_model_name": "DescriptionStyleModel",
            "_view_count": null,
            "_view_module": "@jupyter-widgets/base",
            "_view_module_version": "1.2.0",
            "_view_name": "StyleView",
            "description_width": ""
          }
        },
        "902a939564cb4bb49bc9bd4b32fc2ab9": {
          "model_module": "@jupyter-widgets/base",
          "model_name": "LayoutModel",
          "model_module_version": "1.2.0",
          "state": {
            "_model_module": "@jupyter-widgets/base",
            "_model_module_version": "1.2.0",
            "_model_name": "LayoutModel",
            "_view_count": null,
            "_view_module": "@jupyter-widgets/base",
            "_view_module_version": "1.2.0",
            "_view_name": "LayoutView",
            "align_content": null,
            "align_items": null,
            "align_self": null,
            "border": null,
            "bottom": null,
            "display": null,
            "flex": null,
            "flex_flow": null,
            "grid_area": null,
            "grid_auto_columns": null,
            "grid_auto_flow": null,
            "grid_auto_rows": null,
            "grid_column": null,
            "grid_gap": null,
            "grid_row": null,
            "grid_template_areas": null,
            "grid_template_columns": null,
            "grid_template_rows": null,
            "height": null,
            "justify_content": null,
            "justify_items": null,
            "left": null,
            "margin": null,
            "max_height": null,
            "max_width": null,
            "min_height": null,
            "min_width": null,
            "object_fit": null,
            "object_position": null,
            "order": null,
            "overflow": null,
            "overflow_x": null,
            "overflow_y": null,
            "padding": null,
            "right": null,
            "top": null,
            "visibility": null,
            "width": null
          }
        },
        "1e90c7bb34134c0ab6571e39158fc8e5": {
          "model_module": "@jupyter-widgets/controls",
          "model_name": "ProgressStyleModel",
          "model_module_version": "1.5.0",
          "state": {
            "_model_module": "@jupyter-widgets/controls",
            "_model_module_version": "1.5.0",
            "_model_name": "ProgressStyleModel",
            "_view_count": null,
            "_view_module": "@jupyter-widgets/base",
            "_view_module_version": "1.2.0",
            "_view_name": "StyleView",
            "bar_color": null,
            "description_width": ""
          }
        },
        "06e6fa218b3d492d99258227ee01f0f5": {
          "model_module": "@jupyter-widgets/base",
          "model_name": "LayoutModel",
          "model_module_version": "1.2.0",
          "state": {
            "_model_module": "@jupyter-widgets/base",
            "_model_module_version": "1.2.0",
            "_model_name": "LayoutModel",
            "_view_count": null,
            "_view_module": "@jupyter-widgets/base",
            "_view_module_version": "1.2.0",
            "_view_name": "LayoutView",
            "align_content": null,
            "align_items": null,
            "align_self": null,
            "border": null,
            "bottom": null,
            "display": null,
            "flex": null,
            "flex_flow": null,
            "grid_area": null,
            "grid_auto_columns": null,
            "grid_auto_flow": null,
            "grid_auto_rows": null,
            "grid_column": null,
            "grid_gap": null,
            "grid_row": null,
            "grid_template_areas": null,
            "grid_template_columns": null,
            "grid_template_rows": null,
            "height": null,
            "justify_content": null,
            "justify_items": null,
            "left": null,
            "margin": null,
            "max_height": null,
            "max_width": null,
            "min_height": null,
            "min_width": null,
            "object_fit": null,
            "object_position": null,
            "order": null,
            "overflow": null,
            "overflow_x": null,
            "overflow_y": null,
            "padding": null,
            "right": null,
            "top": null,
            "visibility": null,
            "width": null
          }
        },
        "e32fed9e5b0344f48e9fe87fddf51b16": {
          "model_module": "@jupyter-widgets/controls",
          "model_name": "DescriptionStyleModel",
          "model_module_version": "1.5.0",
          "state": {
            "_model_module": "@jupyter-widgets/controls",
            "_model_module_version": "1.5.0",
            "_model_name": "DescriptionStyleModel",
            "_view_count": null,
            "_view_module": "@jupyter-widgets/base",
            "_view_module_version": "1.2.0",
            "_view_name": "StyleView",
            "description_width": ""
          }
        },
        "1d87c6baa7334dceb3d798268fde2b03": {
          "model_module": "@jupyter-widgets/controls",
          "model_name": "VBoxModel",
          "model_module_version": "1.5.0",
          "state": {
            "_dom_classes": [],
            "_model_module": "@jupyter-widgets/controls",
            "_model_module_version": "1.5.0",
            "_model_name": "VBoxModel",
            "_view_count": null,
            "_view_module": "@jupyter-widgets/controls",
            "_view_module_version": "1.5.0",
            "_view_name": "VBoxView",
            "box_style": "",
            "children": [
              "IPY_MODEL_d437b627544e4efb92e5afdaaae8bbc5",
              "IPY_MODEL_62ae1b6b1977423c802d2795db999f11"
            ],
            "layout": "IPY_MODEL_1ad56711d72b44069dee9498104cbdf2"
          }
        },
        "d437b627544e4efb92e5afdaaae8bbc5": {
          "model_module": "@jupyter-widgets/controls",
          "model_name": "LabelModel",
          "model_module_version": "1.5.0",
          "state": {
            "_dom_classes": [],
            "_model_module": "@jupyter-widgets/controls",
            "_model_module_version": "1.5.0",
            "_model_name": "LabelModel",
            "_view_count": null,
            "_view_module": "@jupyter-widgets/controls",
            "_view_module_version": "1.5.0",
            "_view_name": "LabelView",
            "description": "",
            "description_tooltip": null,
            "layout": "IPY_MODEL_c72bf7bb794d443bbed66b9589280d3a",
            "placeholder": "​",
            "style": "IPY_MODEL_1eb9aa0273b2495f8846361f20e8d82e",
            "value": "0.018 MB of 0.018 MB uploaded\r"
          }
        },
        "62ae1b6b1977423c802d2795db999f11": {
          "model_module": "@jupyter-widgets/controls",
          "model_name": "FloatProgressModel",
          "model_module_version": "1.5.0",
          "state": {
            "_dom_classes": [],
            "_model_module": "@jupyter-widgets/controls",
            "_model_module_version": "1.5.0",
            "_model_name": "FloatProgressModel",
            "_view_count": null,
            "_view_module": "@jupyter-widgets/controls",
            "_view_module_version": "1.5.0",
            "_view_name": "ProgressView",
            "bar_style": "",
            "description": "",
            "description_tooltip": null,
            "layout": "IPY_MODEL_4baeeb76eb3a4992abf97b108eb25e12",
            "max": 1,
            "min": 0,
            "orientation": "horizontal",
            "style": "IPY_MODEL_5f7c3d94386649458fa78d3a4df2a39a",
            "value": 1
          }
        },
        "1ad56711d72b44069dee9498104cbdf2": {
          "model_module": "@jupyter-widgets/base",
          "model_name": "LayoutModel",
          "model_module_version": "1.2.0",
          "state": {
            "_model_module": "@jupyter-widgets/base",
            "_model_module_version": "1.2.0",
            "_model_name": "LayoutModel",
            "_view_count": null,
            "_view_module": "@jupyter-widgets/base",
            "_view_module_version": "1.2.0",
            "_view_name": "LayoutView",
            "align_content": null,
            "align_items": null,
            "align_self": null,
            "border": null,
            "bottom": null,
            "display": null,
            "flex": null,
            "flex_flow": null,
            "grid_area": null,
            "grid_auto_columns": null,
            "grid_auto_flow": null,
            "grid_auto_rows": null,
            "grid_column": null,
            "grid_gap": null,
            "grid_row": null,
            "grid_template_areas": null,
            "grid_template_columns": null,
            "grid_template_rows": null,
            "height": null,
            "justify_content": null,
            "justify_items": null,
            "left": null,
            "margin": null,
            "max_height": null,
            "max_width": null,
            "min_height": null,
            "min_width": null,
            "object_fit": null,
            "object_position": null,
            "order": null,
            "overflow": null,
            "overflow_x": null,
            "overflow_y": null,
            "padding": null,
            "right": null,
            "top": null,
            "visibility": null,
            "width": null
          }
        },
        "c72bf7bb794d443bbed66b9589280d3a": {
          "model_module": "@jupyter-widgets/base",
          "model_name": "LayoutModel",
          "model_module_version": "1.2.0",
          "state": {
            "_model_module": "@jupyter-widgets/base",
            "_model_module_version": "1.2.0",
            "_model_name": "LayoutModel",
            "_view_count": null,
            "_view_module": "@jupyter-widgets/base",
            "_view_module_version": "1.2.0",
            "_view_name": "LayoutView",
            "align_content": null,
            "align_items": null,
            "align_self": null,
            "border": null,
            "bottom": null,
            "display": null,
            "flex": null,
            "flex_flow": null,
            "grid_area": null,
            "grid_auto_columns": null,
            "grid_auto_flow": null,
            "grid_auto_rows": null,
            "grid_column": null,
            "grid_gap": null,
            "grid_row": null,
            "grid_template_areas": null,
            "grid_template_columns": null,
            "grid_template_rows": null,
            "height": null,
            "justify_content": null,
            "justify_items": null,
            "left": null,
            "margin": null,
            "max_height": null,
            "max_width": null,
            "min_height": null,
            "min_width": null,
            "object_fit": null,
            "object_position": null,
            "order": null,
            "overflow": null,
            "overflow_x": null,
            "overflow_y": null,
            "padding": null,
            "right": null,
            "top": null,
            "visibility": null,
            "width": null
          }
        },
        "1eb9aa0273b2495f8846361f20e8d82e": {
          "model_module": "@jupyter-widgets/controls",
          "model_name": "DescriptionStyleModel",
          "model_module_version": "1.5.0",
          "state": {
            "_model_module": "@jupyter-widgets/controls",
            "_model_module_version": "1.5.0",
            "_model_name": "DescriptionStyleModel",
            "_view_count": null,
            "_view_module": "@jupyter-widgets/base",
            "_view_module_version": "1.2.0",
            "_view_name": "StyleView",
            "description_width": ""
          }
        },
        "4baeeb76eb3a4992abf97b108eb25e12": {
          "model_module": "@jupyter-widgets/base",
          "model_name": "LayoutModel",
          "model_module_version": "1.2.0",
          "state": {
            "_model_module": "@jupyter-widgets/base",
            "_model_module_version": "1.2.0",
            "_model_name": "LayoutModel",
            "_view_count": null,
            "_view_module": "@jupyter-widgets/base",
            "_view_module_version": "1.2.0",
            "_view_name": "LayoutView",
            "align_content": null,
            "align_items": null,
            "align_self": null,
            "border": null,
            "bottom": null,
            "display": null,
            "flex": null,
            "flex_flow": null,
            "grid_area": null,
            "grid_auto_columns": null,
            "grid_auto_flow": null,
            "grid_auto_rows": null,
            "grid_column": null,
            "grid_gap": null,
            "grid_row": null,
            "grid_template_areas": null,
            "grid_template_columns": null,
            "grid_template_rows": null,
            "height": null,
            "justify_content": null,
            "justify_items": null,
            "left": null,
            "margin": null,
            "max_height": null,
            "max_width": null,
            "min_height": null,
            "min_width": null,
            "object_fit": null,
            "object_position": null,
            "order": null,
            "overflow": null,
            "overflow_x": null,
            "overflow_y": null,
            "padding": null,
            "right": null,
            "top": null,
            "visibility": null,
            "width": null
          }
        },
        "5f7c3d94386649458fa78d3a4df2a39a": {
          "model_module": "@jupyter-widgets/controls",
          "model_name": "ProgressStyleModel",
          "model_module_version": "1.5.0",
          "state": {
            "_model_module": "@jupyter-widgets/controls",
            "_model_module_version": "1.5.0",
            "_model_name": "ProgressStyleModel",
            "_view_count": null,
            "_view_module": "@jupyter-widgets/base",
            "_view_module_version": "1.2.0",
            "_view_name": "StyleView",
            "bar_color": null,
            "description_width": ""
          }
        },
        "02024889c9b2418eba219582a15fb417": {
          "model_module": "@jupyter-widgets/controls",
          "model_name": "HBoxModel",
          "model_module_version": "1.5.0",
          "state": {
            "_dom_classes": [],
            "_model_module": "@jupyter-widgets/controls",
            "_model_module_version": "1.5.0",
            "_model_name": "HBoxModel",
            "_view_count": null,
            "_view_module": "@jupyter-widgets/controls",
            "_view_module_version": "1.5.0",
            "_view_name": "HBoxView",
            "box_style": "",
            "children": [
              "IPY_MODEL_1a761618afdf4c89829d23287ac19101",
              "IPY_MODEL_3e28eda2dba7418b87ef105199dfd07b",
              "IPY_MODEL_4e607985f3ec480f89c6bb443e766b73"
            ],
            "layout": "IPY_MODEL_46d778ad556743ca9f3f07a9e4f6b927"
          }
        },
        "1a761618afdf4c89829d23287ac19101": {
          "model_module": "@jupyter-widgets/controls",
          "model_name": "HTMLModel",
          "model_module_version": "1.5.0",
          "state": {
            "_dom_classes": [],
            "_model_module": "@jupyter-widgets/controls",
            "_model_module_version": "1.5.0",
            "_model_name": "HTMLModel",
            "_view_count": null,
            "_view_module": "@jupyter-widgets/controls",
            "_view_module_version": "1.5.0",
            "_view_name": "HTMLView",
            "description": "",
            "description_tooltip": null,
            "layout": "IPY_MODEL_4efb1682151b402098ba7f026ac329f1",
            "placeholder": "​",
            "style": "IPY_MODEL_424f75cb21924b4186328730f4b3422b",
            "value": "100%"
          }
        },
        "3e28eda2dba7418b87ef105199dfd07b": {
          "model_module": "@jupyter-widgets/controls",
          "model_name": "FloatProgressModel",
          "model_module_version": "1.5.0",
          "state": {
            "_dom_classes": [],
            "_model_module": "@jupyter-widgets/controls",
            "_model_module_version": "1.5.0",
            "_model_name": "FloatProgressModel",
            "_view_count": null,
            "_view_module": "@jupyter-widgets/controls",
            "_view_module_version": "1.5.0",
            "_view_name": "ProgressView",
            "bar_style": "success",
            "description": "",
            "description_tooltip": null,
            "layout": "IPY_MODEL_75e79b107373413a83f3a5075093c288",
            "max": 50000,
            "min": 0,
            "orientation": "horizontal",
            "style": "IPY_MODEL_cb1a9b473a5c4b7897eb85e2e65a6c52",
            "value": 50000
          }
        },
        "4e607985f3ec480f89c6bb443e766b73": {
          "model_module": "@jupyter-widgets/controls",
          "model_name": "HTMLModel",
          "model_module_version": "1.5.0",
          "state": {
            "_dom_classes": [],
            "_model_module": "@jupyter-widgets/controls",
            "_model_module_version": "1.5.0",
            "_model_name": "HTMLModel",
            "_view_count": null,
            "_view_module": "@jupyter-widgets/controls",
            "_view_module_version": "1.5.0",
            "_view_name": "HTMLView",
            "description": "",
            "description_tooltip": null,
            "layout": "IPY_MODEL_51ead2fb7ccb42a3a2d578e1b3f119fc",
            "placeholder": "​",
            "style": "IPY_MODEL_4950d4380e954bdc9ced97ab289994d4",
            "value": " 50000/50000 [09:56&lt;00:00, 90.64it/s]"
          }
        },
        "46d778ad556743ca9f3f07a9e4f6b927": {
          "model_module": "@jupyter-widgets/base",
          "model_name": "LayoutModel",
          "model_module_version": "1.2.0",
          "state": {
            "_model_module": "@jupyter-widgets/base",
            "_model_module_version": "1.2.0",
            "_model_name": "LayoutModel",
            "_view_count": null,
            "_view_module": "@jupyter-widgets/base",
            "_view_module_version": "1.2.0",
            "_view_name": "LayoutView",
            "align_content": null,
            "align_items": null,
            "align_self": null,
            "border": null,
            "bottom": null,
            "display": null,
            "flex": null,
            "flex_flow": null,
            "grid_area": null,
            "grid_auto_columns": null,
            "grid_auto_flow": null,
            "grid_auto_rows": null,
            "grid_column": null,
            "grid_gap": null,
            "grid_row": null,
            "grid_template_areas": null,
            "grid_template_columns": null,
            "grid_template_rows": null,
            "height": null,
            "justify_content": null,
            "justify_items": null,
            "left": null,
            "margin": null,
            "max_height": null,
            "max_width": null,
            "min_height": null,
            "min_width": null,
            "object_fit": null,
            "object_position": null,
            "order": null,
            "overflow": null,
            "overflow_x": null,
            "overflow_y": null,
            "padding": null,
            "right": null,
            "top": null,
            "visibility": null,
            "width": null
          }
        },
        "4efb1682151b402098ba7f026ac329f1": {
          "model_module": "@jupyter-widgets/base",
          "model_name": "LayoutModel",
          "model_module_version": "1.2.0",
          "state": {
            "_model_module": "@jupyter-widgets/base",
            "_model_module_version": "1.2.0",
            "_model_name": "LayoutModel",
            "_view_count": null,
            "_view_module": "@jupyter-widgets/base",
            "_view_module_version": "1.2.0",
            "_view_name": "LayoutView",
            "align_content": null,
            "align_items": null,
            "align_self": null,
            "border": null,
            "bottom": null,
            "display": null,
            "flex": null,
            "flex_flow": null,
            "grid_area": null,
            "grid_auto_columns": null,
            "grid_auto_flow": null,
            "grid_auto_rows": null,
            "grid_column": null,
            "grid_gap": null,
            "grid_row": null,
            "grid_template_areas": null,
            "grid_template_columns": null,
            "grid_template_rows": null,
            "height": null,
            "justify_content": null,
            "justify_items": null,
            "left": null,
            "margin": null,
            "max_height": null,
            "max_width": null,
            "min_height": null,
            "min_width": null,
            "object_fit": null,
            "object_position": null,
            "order": null,
            "overflow": null,
            "overflow_x": null,
            "overflow_y": null,
            "padding": null,
            "right": null,
            "top": null,
            "visibility": null,
            "width": null
          }
        },
        "424f75cb21924b4186328730f4b3422b": {
          "model_module": "@jupyter-widgets/controls",
          "model_name": "DescriptionStyleModel",
          "model_module_version": "1.5.0",
          "state": {
            "_model_module": "@jupyter-widgets/controls",
            "_model_module_version": "1.5.0",
            "_model_name": "DescriptionStyleModel",
            "_view_count": null,
            "_view_module": "@jupyter-widgets/base",
            "_view_module_version": "1.2.0",
            "_view_name": "StyleView",
            "description_width": ""
          }
        },
        "75e79b107373413a83f3a5075093c288": {
          "model_module": "@jupyter-widgets/base",
          "model_name": "LayoutModel",
          "model_module_version": "1.2.0",
          "state": {
            "_model_module": "@jupyter-widgets/base",
            "_model_module_version": "1.2.0",
            "_model_name": "LayoutModel",
            "_view_count": null,
            "_view_module": "@jupyter-widgets/base",
            "_view_module_version": "1.2.0",
            "_view_name": "LayoutView",
            "align_content": null,
            "align_items": null,
            "align_self": null,
            "border": null,
            "bottom": null,
            "display": null,
            "flex": null,
            "flex_flow": null,
            "grid_area": null,
            "grid_auto_columns": null,
            "grid_auto_flow": null,
            "grid_auto_rows": null,
            "grid_column": null,
            "grid_gap": null,
            "grid_row": null,
            "grid_template_areas": null,
            "grid_template_columns": null,
            "grid_template_rows": null,
            "height": null,
            "justify_content": null,
            "justify_items": null,
            "left": null,
            "margin": null,
            "max_height": null,
            "max_width": null,
            "min_height": null,
            "min_width": null,
            "object_fit": null,
            "object_position": null,
            "order": null,
            "overflow": null,
            "overflow_x": null,
            "overflow_y": null,
            "padding": null,
            "right": null,
            "top": null,
            "visibility": null,
            "width": null
          }
        },
        "cb1a9b473a5c4b7897eb85e2e65a6c52": {
          "model_module": "@jupyter-widgets/controls",
          "model_name": "ProgressStyleModel",
          "model_module_version": "1.5.0",
          "state": {
            "_model_module": "@jupyter-widgets/controls",
            "_model_module_version": "1.5.0",
            "_model_name": "ProgressStyleModel",
            "_view_count": null,
            "_view_module": "@jupyter-widgets/base",
            "_view_module_version": "1.2.0",
            "_view_name": "StyleView",
            "bar_color": null,
            "description_width": ""
          }
        },
        "51ead2fb7ccb42a3a2d578e1b3f119fc": {
          "model_module": "@jupyter-widgets/base",
          "model_name": "LayoutModel",
          "model_module_version": "1.2.0",
          "state": {
            "_model_module": "@jupyter-widgets/base",
            "_model_module_version": "1.2.0",
            "_model_name": "LayoutModel",
            "_view_count": null,
            "_view_module": "@jupyter-widgets/base",
            "_view_module_version": "1.2.0",
            "_view_name": "LayoutView",
            "align_content": null,
            "align_items": null,
            "align_self": null,
            "border": null,
            "bottom": null,
            "display": null,
            "flex": null,
            "flex_flow": null,
            "grid_area": null,
            "grid_auto_columns": null,
            "grid_auto_flow": null,
            "grid_auto_rows": null,
            "grid_column": null,
            "grid_gap": null,
            "grid_row": null,
            "grid_template_areas": null,
            "grid_template_columns": null,
            "grid_template_rows": null,
            "height": null,
            "justify_content": null,
            "justify_items": null,
            "left": null,
            "margin": null,
            "max_height": null,
            "max_width": null,
            "min_height": null,
            "min_width": null,
            "object_fit": null,
            "object_position": null,
            "order": null,
            "overflow": null,
            "overflow_x": null,
            "overflow_y": null,
            "padding": null,
            "right": null,
            "top": null,
            "visibility": null,
            "width": null
          }
        },
        "4950d4380e954bdc9ced97ab289994d4": {
          "model_module": "@jupyter-widgets/controls",
          "model_name": "DescriptionStyleModel",
          "model_module_version": "1.5.0",
          "state": {
            "_model_module": "@jupyter-widgets/controls",
            "_model_module_version": "1.5.0",
            "_model_name": "DescriptionStyleModel",
            "_view_count": null,
            "_view_module": "@jupyter-widgets/base",
            "_view_module_version": "1.2.0",
            "_view_name": "StyleView",
            "description_width": ""
          }
        },
        "959ae47ec057439b836121b728c2c939": {
          "model_module": "@jupyter-widgets/controls",
          "model_name": "VBoxModel",
          "model_module_version": "1.5.0",
          "state": {
            "_dom_classes": [],
            "_model_module": "@jupyter-widgets/controls",
            "_model_module_version": "1.5.0",
            "_model_name": "VBoxModel",
            "_view_count": null,
            "_view_module": "@jupyter-widgets/controls",
            "_view_module_version": "1.5.0",
            "_view_name": "VBoxView",
            "box_style": "",
            "children": [
              "IPY_MODEL_a3906db858354c6ab9c1340362554423",
              "IPY_MODEL_61f5cd069b81461bbf6334725ef1db99"
            ],
            "layout": "IPY_MODEL_afe0b501ff9543b59c62c5aa9c6b6da8"
          }
        },
        "a3906db858354c6ab9c1340362554423": {
          "model_module": "@jupyter-widgets/controls",
          "model_name": "LabelModel",
          "model_module_version": "1.5.0",
          "state": {
            "_dom_classes": [],
            "_model_module": "@jupyter-widgets/controls",
            "_model_module_version": "1.5.0",
            "_model_name": "LabelModel",
            "_view_count": null,
            "_view_module": "@jupyter-widgets/controls",
            "_view_module_version": "1.5.0",
            "_view_name": "LabelView",
            "description": "",
            "description_tooltip": null,
            "layout": "IPY_MODEL_4128fe9aae11411699697bbfcf9efe9f",
            "placeholder": "​",
            "style": "IPY_MODEL_d69e49257a5d4a678d509644ac5c30e3",
            "value": "0.018 MB of 0.018 MB uploaded\r"
          }
        },
        "61f5cd069b81461bbf6334725ef1db99": {
          "model_module": "@jupyter-widgets/controls",
          "model_name": "FloatProgressModel",
          "model_module_version": "1.5.0",
          "state": {
            "_dom_classes": [],
            "_model_module": "@jupyter-widgets/controls",
            "_model_module_version": "1.5.0",
            "_model_name": "FloatProgressModel",
            "_view_count": null,
            "_view_module": "@jupyter-widgets/controls",
            "_view_module_version": "1.5.0",
            "_view_name": "ProgressView",
            "bar_style": "",
            "description": "",
            "description_tooltip": null,
            "layout": "IPY_MODEL_b06bcb441bc54287a20660971d2844be",
            "max": 1,
            "min": 0,
            "orientation": "horizontal",
            "style": "IPY_MODEL_ba291f359c7e4c818fc39e652062e31e",
            "value": 1
          }
        },
        "afe0b501ff9543b59c62c5aa9c6b6da8": {
          "model_module": "@jupyter-widgets/base",
          "model_name": "LayoutModel",
          "model_module_version": "1.2.0",
          "state": {
            "_model_module": "@jupyter-widgets/base",
            "_model_module_version": "1.2.0",
            "_model_name": "LayoutModel",
            "_view_count": null,
            "_view_module": "@jupyter-widgets/base",
            "_view_module_version": "1.2.0",
            "_view_name": "LayoutView",
            "align_content": null,
            "align_items": null,
            "align_self": null,
            "border": null,
            "bottom": null,
            "display": null,
            "flex": null,
            "flex_flow": null,
            "grid_area": null,
            "grid_auto_columns": null,
            "grid_auto_flow": null,
            "grid_auto_rows": null,
            "grid_column": null,
            "grid_gap": null,
            "grid_row": null,
            "grid_template_areas": null,
            "grid_template_columns": null,
            "grid_template_rows": null,
            "height": null,
            "justify_content": null,
            "justify_items": null,
            "left": null,
            "margin": null,
            "max_height": null,
            "max_width": null,
            "min_height": null,
            "min_width": null,
            "object_fit": null,
            "object_position": null,
            "order": null,
            "overflow": null,
            "overflow_x": null,
            "overflow_y": null,
            "padding": null,
            "right": null,
            "top": null,
            "visibility": null,
            "width": null
          }
        },
        "4128fe9aae11411699697bbfcf9efe9f": {
          "model_module": "@jupyter-widgets/base",
          "model_name": "LayoutModel",
          "model_module_version": "1.2.0",
          "state": {
            "_model_module": "@jupyter-widgets/base",
            "_model_module_version": "1.2.0",
            "_model_name": "LayoutModel",
            "_view_count": null,
            "_view_module": "@jupyter-widgets/base",
            "_view_module_version": "1.2.0",
            "_view_name": "LayoutView",
            "align_content": null,
            "align_items": null,
            "align_self": null,
            "border": null,
            "bottom": null,
            "display": null,
            "flex": null,
            "flex_flow": null,
            "grid_area": null,
            "grid_auto_columns": null,
            "grid_auto_flow": null,
            "grid_auto_rows": null,
            "grid_column": null,
            "grid_gap": null,
            "grid_row": null,
            "grid_template_areas": null,
            "grid_template_columns": null,
            "grid_template_rows": null,
            "height": null,
            "justify_content": null,
            "justify_items": null,
            "left": null,
            "margin": null,
            "max_height": null,
            "max_width": null,
            "min_height": null,
            "min_width": null,
            "object_fit": null,
            "object_position": null,
            "order": null,
            "overflow": null,
            "overflow_x": null,
            "overflow_y": null,
            "padding": null,
            "right": null,
            "top": null,
            "visibility": null,
            "width": null
          }
        },
        "d69e49257a5d4a678d509644ac5c30e3": {
          "model_module": "@jupyter-widgets/controls",
          "model_name": "DescriptionStyleModel",
          "model_module_version": "1.5.0",
          "state": {
            "_model_module": "@jupyter-widgets/controls",
            "_model_module_version": "1.5.0",
            "_model_name": "DescriptionStyleModel",
            "_view_count": null,
            "_view_module": "@jupyter-widgets/base",
            "_view_module_version": "1.2.0",
            "_view_name": "StyleView",
            "description_width": ""
          }
        },
        "b06bcb441bc54287a20660971d2844be": {
          "model_module": "@jupyter-widgets/base",
          "model_name": "LayoutModel",
          "model_module_version": "1.2.0",
          "state": {
            "_model_module": "@jupyter-widgets/base",
            "_model_module_version": "1.2.0",
            "_model_name": "LayoutModel",
            "_view_count": null,
            "_view_module": "@jupyter-widgets/base",
            "_view_module_version": "1.2.0",
            "_view_name": "LayoutView",
            "align_content": null,
            "align_items": null,
            "align_self": null,
            "border": null,
            "bottom": null,
            "display": null,
            "flex": null,
            "flex_flow": null,
            "grid_area": null,
            "grid_auto_columns": null,
            "grid_auto_flow": null,
            "grid_auto_rows": null,
            "grid_column": null,
            "grid_gap": null,
            "grid_row": null,
            "grid_template_areas": null,
            "grid_template_columns": null,
            "grid_template_rows": null,
            "height": null,
            "justify_content": null,
            "justify_items": null,
            "left": null,
            "margin": null,
            "max_height": null,
            "max_width": null,
            "min_height": null,
            "min_width": null,
            "object_fit": null,
            "object_position": null,
            "order": null,
            "overflow": null,
            "overflow_x": null,
            "overflow_y": null,
            "padding": null,
            "right": null,
            "top": null,
            "visibility": null,
            "width": null
          }
        },
        "ba291f359c7e4c818fc39e652062e31e": {
          "model_module": "@jupyter-widgets/controls",
          "model_name": "ProgressStyleModel",
          "model_module_version": "1.5.0",
          "state": {
            "_model_module": "@jupyter-widgets/controls",
            "_model_module_version": "1.5.0",
            "_model_name": "ProgressStyleModel",
            "_view_count": null,
            "_view_module": "@jupyter-widgets/base",
            "_view_module_version": "1.2.0",
            "_view_name": "StyleView",
            "bar_color": null,
            "description_width": ""
          }
        },
        "7f1ed54882ea4bdbab911ae9e2e7a6b3": {
          "model_module": "@jupyter-widgets/controls",
          "model_name": "HBoxModel",
          "model_module_version": "1.5.0",
          "state": {
            "_dom_classes": [],
            "_model_module": "@jupyter-widgets/controls",
            "_model_module_version": "1.5.0",
            "_model_name": "HBoxModel",
            "_view_count": null,
            "_view_module": "@jupyter-widgets/controls",
            "_view_module_version": "1.5.0",
            "_view_name": "HBoxView",
            "box_style": "",
            "children": [
              "IPY_MODEL_c479221303fb41e9b38a9df772611bd3",
              "IPY_MODEL_e9bf66cf25fd419bbdd4a5bb1358eafb",
              "IPY_MODEL_fa10d6f459d2431ba9d7dac55d2de321"
            ],
            "layout": "IPY_MODEL_95306805fc744a3ab69cdb21653b1f66"
          }
        },
        "c479221303fb41e9b38a9df772611bd3": {
          "model_module": "@jupyter-widgets/controls",
          "model_name": "HTMLModel",
          "model_module_version": "1.5.0",
          "state": {
            "_dom_classes": [],
            "_model_module": "@jupyter-widgets/controls",
            "_model_module_version": "1.5.0",
            "_model_name": "HTMLModel",
            "_view_count": null,
            "_view_module": "@jupyter-widgets/controls",
            "_view_module_version": "1.5.0",
            "_view_name": "HTMLView",
            "description": "",
            "description_tooltip": null,
            "layout": "IPY_MODEL_5779280e76564e1f8fdca159fbe175b2",
            "placeholder": "​",
            "style": "IPY_MODEL_286c1b3a7eb84f84921dcd90cd1aabee",
            "value": "100%"
          }
        },
        "e9bf66cf25fd419bbdd4a5bb1358eafb": {
          "model_module": "@jupyter-widgets/controls",
          "model_name": "FloatProgressModel",
          "model_module_version": "1.5.0",
          "state": {
            "_dom_classes": [],
            "_model_module": "@jupyter-widgets/controls",
            "_model_module_version": "1.5.0",
            "_model_name": "FloatProgressModel",
            "_view_count": null,
            "_view_module": "@jupyter-widgets/controls",
            "_view_module_version": "1.5.0",
            "_view_name": "ProgressView",
            "bar_style": "success",
            "description": "",
            "description_tooltip": null,
            "layout": "IPY_MODEL_50412d91da59475e8ee26dc8350c1faa",
            "max": 50000,
            "min": 0,
            "orientation": "horizontal",
            "style": "IPY_MODEL_aa2d259aae8b489590d03671744098e8",
            "value": 50000
          }
        },
        "fa10d6f459d2431ba9d7dac55d2de321": {
          "model_module": "@jupyter-widgets/controls",
          "model_name": "HTMLModel",
          "model_module_version": "1.5.0",
          "state": {
            "_dom_classes": [],
            "_model_module": "@jupyter-widgets/controls",
            "_model_module_version": "1.5.0",
            "_model_name": "HTMLModel",
            "_view_count": null,
            "_view_module": "@jupyter-widgets/controls",
            "_view_module_version": "1.5.0",
            "_view_name": "HTMLView",
            "description": "",
            "description_tooltip": null,
            "layout": "IPY_MODEL_3866480383f44dd883229025ca551b63",
            "placeholder": "​",
            "style": "IPY_MODEL_5bf7211ff1d043aba313aeb3f56ee0e3",
            "value": " 50000/50000 [12:00&lt;00:00, 77.60it/s]"
          }
        },
        "95306805fc744a3ab69cdb21653b1f66": {
          "model_module": "@jupyter-widgets/base",
          "model_name": "LayoutModel",
          "model_module_version": "1.2.0",
          "state": {
            "_model_module": "@jupyter-widgets/base",
            "_model_module_version": "1.2.0",
            "_model_name": "LayoutModel",
            "_view_count": null,
            "_view_module": "@jupyter-widgets/base",
            "_view_module_version": "1.2.0",
            "_view_name": "LayoutView",
            "align_content": null,
            "align_items": null,
            "align_self": null,
            "border": null,
            "bottom": null,
            "display": null,
            "flex": null,
            "flex_flow": null,
            "grid_area": null,
            "grid_auto_columns": null,
            "grid_auto_flow": null,
            "grid_auto_rows": null,
            "grid_column": null,
            "grid_gap": null,
            "grid_row": null,
            "grid_template_areas": null,
            "grid_template_columns": null,
            "grid_template_rows": null,
            "height": null,
            "justify_content": null,
            "justify_items": null,
            "left": null,
            "margin": null,
            "max_height": null,
            "max_width": null,
            "min_height": null,
            "min_width": null,
            "object_fit": null,
            "object_position": null,
            "order": null,
            "overflow": null,
            "overflow_x": null,
            "overflow_y": null,
            "padding": null,
            "right": null,
            "top": null,
            "visibility": null,
            "width": null
          }
        },
        "5779280e76564e1f8fdca159fbe175b2": {
          "model_module": "@jupyter-widgets/base",
          "model_name": "LayoutModel",
          "model_module_version": "1.2.0",
          "state": {
            "_model_module": "@jupyter-widgets/base",
            "_model_module_version": "1.2.0",
            "_model_name": "LayoutModel",
            "_view_count": null,
            "_view_module": "@jupyter-widgets/base",
            "_view_module_version": "1.2.0",
            "_view_name": "LayoutView",
            "align_content": null,
            "align_items": null,
            "align_self": null,
            "border": null,
            "bottom": null,
            "display": null,
            "flex": null,
            "flex_flow": null,
            "grid_area": null,
            "grid_auto_columns": null,
            "grid_auto_flow": null,
            "grid_auto_rows": null,
            "grid_column": null,
            "grid_gap": null,
            "grid_row": null,
            "grid_template_areas": null,
            "grid_template_columns": null,
            "grid_template_rows": null,
            "height": null,
            "justify_content": null,
            "justify_items": null,
            "left": null,
            "margin": null,
            "max_height": null,
            "max_width": null,
            "min_height": null,
            "min_width": null,
            "object_fit": null,
            "object_position": null,
            "order": null,
            "overflow": null,
            "overflow_x": null,
            "overflow_y": null,
            "padding": null,
            "right": null,
            "top": null,
            "visibility": null,
            "width": null
          }
        },
        "286c1b3a7eb84f84921dcd90cd1aabee": {
          "model_module": "@jupyter-widgets/controls",
          "model_name": "DescriptionStyleModel",
          "model_module_version": "1.5.0",
          "state": {
            "_model_module": "@jupyter-widgets/controls",
            "_model_module_version": "1.5.0",
            "_model_name": "DescriptionStyleModel",
            "_view_count": null,
            "_view_module": "@jupyter-widgets/base",
            "_view_module_version": "1.2.0",
            "_view_name": "StyleView",
            "description_width": ""
          }
        },
        "50412d91da59475e8ee26dc8350c1faa": {
          "model_module": "@jupyter-widgets/base",
          "model_name": "LayoutModel",
          "model_module_version": "1.2.0",
          "state": {
            "_model_module": "@jupyter-widgets/base",
            "_model_module_version": "1.2.0",
            "_model_name": "LayoutModel",
            "_view_count": null,
            "_view_module": "@jupyter-widgets/base",
            "_view_module_version": "1.2.0",
            "_view_name": "LayoutView",
            "align_content": null,
            "align_items": null,
            "align_self": null,
            "border": null,
            "bottom": null,
            "display": null,
            "flex": null,
            "flex_flow": null,
            "grid_area": null,
            "grid_auto_columns": null,
            "grid_auto_flow": null,
            "grid_auto_rows": null,
            "grid_column": null,
            "grid_gap": null,
            "grid_row": null,
            "grid_template_areas": null,
            "grid_template_columns": null,
            "grid_template_rows": null,
            "height": null,
            "justify_content": null,
            "justify_items": null,
            "left": null,
            "margin": null,
            "max_height": null,
            "max_width": null,
            "min_height": null,
            "min_width": null,
            "object_fit": null,
            "object_position": null,
            "order": null,
            "overflow": null,
            "overflow_x": null,
            "overflow_y": null,
            "padding": null,
            "right": null,
            "top": null,
            "visibility": null,
            "width": null
          }
        },
        "aa2d259aae8b489590d03671744098e8": {
          "model_module": "@jupyter-widgets/controls",
          "model_name": "ProgressStyleModel",
          "model_module_version": "1.5.0",
          "state": {
            "_model_module": "@jupyter-widgets/controls",
            "_model_module_version": "1.5.0",
            "_model_name": "ProgressStyleModel",
            "_view_count": null,
            "_view_module": "@jupyter-widgets/base",
            "_view_module_version": "1.2.0",
            "_view_name": "StyleView",
            "bar_color": null,
            "description_width": ""
          }
        },
        "3866480383f44dd883229025ca551b63": {
          "model_module": "@jupyter-widgets/base",
          "model_name": "LayoutModel",
          "model_module_version": "1.2.0",
          "state": {
            "_model_module": "@jupyter-widgets/base",
            "_model_module_version": "1.2.0",
            "_model_name": "LayoutModel",
            "_view_count": null,
            "_view_module": "@jupyter-widgets/base",
            "_view_module_version": "1.2.0",
            "_view_name": "LayoutView",
            "align_content": null,
            "align_items": null,
            "align_self": null,
            "border": null,
            "bottom": null,
            "display": null,
            "flex": null,
            "flex_flow": null,
            "grid_area": null,
            "grid_auto_columns": null,
            "grid_auto_flow": null,
            "grid_auto_rows": null,
            "grid_column": null,
            "grid_gap": null,
            "grid_row": null,
            "grid_template_areas": null,
            "grid_template_columns": null,
            "grid_template_rows": null,
            "height": null,
            "justify_content": null,
            "justify_items": null,
            "left": null,
            "margin": null,
            "max_height": null,
            "max_width": null,
            "min_height": null,
            "min_width": null,
            "object_fit": null,
            "object_position": null,
            "order": null,
            "overflow": null,
            "overflow_x": null,
            "overflow_y": null,
            "padding": null,
            "right": null,
            "top": null,
            "visibility": null,
            "width": null
          }
        },
        "5bf7211ff1d043aba313aeb3f56ee0e3": {
          "model_module": "@jupyter-widgets/controls",
          "model_name": "DescriptionStyleModel",
          "model_module_version": "1.5.0",
          "state": {
            "_model_module": "@jupyter-widgets/controls",
            "_model_module_version": "1.5.0",
            "_model_name": "DescriptionStyleModel",
            "_view_count": null,
            "_view_module": "@jupyter-widgets/base",
            "_view_module_version": "1.2.0",
            "_view_name": "StyleView",
            "description_width": ""
          }
        },
        "da9e2b65f1da4e6688c6b7705b07c5a2": {
          "model_module": "@jupyter-widgets/controls",
          "model_name": "VBoxModel",
          "model_module_version": "1.5.0",
          "state": {
            "_dom_classes": [],
            "_model_module": "@jupyter-widgets/controls",
            "_model_module_version": "1.5.0",
            "_model_name": "VBoxModel",
            "_view_count": null,
            "_view_module": "@jupyter-widgets/controls",
            "_view_module_version": "1.5.0",
            "_view_name": "VBoxView",
            "box_style": "",
            "children": [
              "IPY_MODEL_14c3a92a3f984a7ab414d53f9ea41e03",
              "IPY_MODEL_51aa33e9757b4de6acd59b421e81671d"
            ],
            "layout": "IPY_MODEL_c77384f4dbf24a98a1c6252bd053fa0f"
          }
        },
        "14c3a92a3f984a7ab414d53f9ea41e03": {
          "model_module": "@jupyter-widgets/controls",
          "model_name": "LabelModel",
          "model_module_version": "1.5.0",
          "state": {
            "_dom_classes": [],
            "_model_module": "@jupyter-widgets/controls",
            "_model_module_version": "1.5.0",
            "_model_name": "LabelModel",
            "_view_count": null,
            "_view_module": "@jupyter-widgets/controls",
            "_view_module_version": "1.5.0",
            "_view_name": "LabelView",
            "description": "",
            "description_tooltip": null,
            "layout": "IPY_MODEL_db6de2ce0f0a484383cc1c62187d86f1",
            "placeholder": "​",
            "style": "IPY_MODEL_21b3c321bbb949cebfaca6d32e9d95a4",
            "value": "0.018 MB of 0.018 MB uploaded\r"
          }
        },
        "51aa33e9757b4de6acd59b421e81671d": {
          "model_module": "@jupyter-widgets/controls",
          "model_name": "FloatProgressModel",
          "model_module_version": "1.5.0",
          "state": {
            "_dom_classes": [],
            "_model_module": "@jupyter-widgets/controls",
            "_model_module_version": "1.5.0",
            "_model_name": "FloatProgressModel",
            "_view_count": null,
            "_view_module": "@jupyter-widgets/controls",
            "_view_module_version": "1.5.0",
            "_view_name": "ProgressView",
            "bar_style": "",
            "description": "",
            "description_tooltip": null,
            "layout": "IPY_MODEL_c104a3e52d91470cb7429de44aed0d4b",
            "max": 1,
            "min": 0,
            "orientation": "horizontal",
            "style": "IPY_MODEL_72a60b1660f04df7936e3c57e229f642",
            "value": 1
          }
        },
        "c77384f4dbf24a98a1c6252bd053fa0f": {
          "model_module": "@jupyter-widgets/base",
          "model_name": "LayoutModel",
          "model_module_version": "1.2.0",
          "state": {
            "_model_module": "@jupyter-widgets/base",
            "_model_module_version": "1.2.0",
            "_model_name": "LayoutModel",
            "_view_count": null,
            "_view_module": "@jupyter-widgets/base",
            "_view_module_version": "1.2.0",
            "_view_name": "LayoutView",
            "align_content": null,
            "align_items": null,
            "align_self": null,
            "border": null,
            "bottom": null,
            "display": null,
            "flex": null,
            "flex_flow": null,
            "grid_area": null,
            "grid_auto_columns": null,
            "grid_auto_flow": null,
            "grid_auto_rows": null,
            "grid_column": null,
            "grid_gap": null,
            "grid_row": null,
            "grid_template_areas": null,
            "grid_template_columns": null,
            "grid_template_rows": null,
            "height": null,
            "justify_content": null,
            "justify_items": null,
            "left": null,
            "margin": null,
            "max_height": null,
            "max_width": null,
            "min_height": null,
            "min_width": null,
            "object_fit": null,
            "object_position": null,
            "order": null,
            "overflow": null,
            "overflow_x": null,
            "overflow_y": null,
            "padding": null,
            "right": null,
            "top": null,
            "visibility": null,
            "width": null
          }
        },
        "db6de2ce0f0a484383cc1c62187d86f1": {
          "model_module": "@jupyter-widgets/base",
          "model_name": "LayoutModel",
          "model_module_version": "1.2.0",
          "state": {
            "_model_module": "@jupyter-widgets/base",
            "_model_module_version": "1.2.0",
            "_model_name": "LayoutModel",
            "_view_count": null,
            "_view_module": "@jupyter-widgets/base",
            "_view_module_version": "1.2.0",
            "_view_name": "LayoutView",
            "align_content": null,
            "align_items": null,
            "align_self": null,
            "border": null,
            "bottom": null,
            "display": null,
            "flex": null,
            "flex_flow": null,
            "grid_area": null,
            "grid_auto_columns": null,
            "grid_auto_flow": null,
            "grid_auto_rows": null,
            "grid_column": null,
            "grid_gap": null,
            "grid_row": null,
            "grid_template_areas": null,
            "grid_template_columns": null,
            "grid_template_rows": null,
            "height": null,
            "justify_content": null,
            "justify_items": null,
            "left": null,
            "margin": null,
            "max_height": null,
            "max_width": null,
            "min_height": null,
            "min_width": null,
            "object_fit": null,
            "object_position": null,
            "order": null,
            "overflow": null,
            "overflow_x": null,
            "overflow_y": null,
            "padding": null,
            "right": null,
            "top": null,
            "visibility": null,
            "width": null
          }
        },
        "21b3c321bbb949cebfaca6d32e9d95a4": {
          "model_module": "@jupyter-widgets/controls",
          "model_name": "DescriptionStyleModel",
          "model_module_version": "1.5.0",
          "state": {
            "_model_module": "@jupyter-widgets/controls",
            "_model_module_version": "1.5.0",
            "_model_name": "DescriptionStyleModel",
            "_view_count": null,
            "_view_module": "@jupyter-widgets/base",
            "_view_module_version": "1.2.0",
            "_view_name": "StyleView",
            "description_width": ""
          }
        },
        "c104a3e52d91470cb7429de44aed0d4b": {
          "model_module": "@jupyter-widgets/base",
          "model_name": "LayoutModel",
          "model_module_version": "1.2.0",
          "state": {
            "_model_module": "@jupyter-widgets/base",
            "_model_module_version": "1.2.0",
            "_model_name": "LayoutModel",
            "_view_count": null,
            "_view_module": "@jupyter-widgets/base",
            "_view_module_version": "1.2.0",
            "_view_name": "LayoutView",
            "align_content": null,
            "align_items": null,
            "align_self": null,
            "border": null,
            "bottom": null,
            "display": null,
            "flex": null,
            "flex_flow": null,
            "grid_area": null,
            "grid_auto_columns": null,
            "grid_auto_flow": null,
            "grid_auto_rows": null,
            "grid_column": null,
            "grid_gap": null,
            "grid_row": null,
            "grid_template_areas": null,
            "grid_template_columns": null,
            "grid_template_rows": null,
            "height": null,
            "justify_content": null,
            "justify_items": null,
            "left": null,
            "margin": null,
            "max_height": null,
            "max_width": null,
            "min_height": null,
            "min_width": null,
            "object_fit": null,
            "object_position": null,
            "order": null,
            "overflow": null,
            "overflow_x": null,
            "overflow_y": null,
            "padding": null,
            "right": null,
            "top": null,
            "visibility": null,
            "width": null
          }
        },
        "72a60b1660f04df7936e3c57e229f642": {
          "model_module": "@jupyter-widgets/controls",
          "model_name": "ProgressStyleModel",
          "model_module_version": "1.5.0",
          "state": {
            "_model_module": "@jupyter-widgets/controls",
            "_model_module_version": "1.5.0",
            "_model_name": "ProgressStyleModel",
            "_view_count": null,
            "_view_module": "@jupyter-widgets/base",
            "_view_module_version": "1.2.0",
            "_view_name": "StyleView",
            "bar_color": null,
            "description_width": ""
          }
        },
        "17825bfb4d9842dd8d24a8a17ba92fd3": {
          "model_module": "@jupyter-widgets/controls",
          "model_name": "HBoxModel",
          "model_module_version": "1.5.0",
          "state": {
            "_dom_classes": [],
            "_model_module": "@jupyter-widgets/controls",
            "_model_module_version": "1.5.0",
            "_model_name": "HBoxModel",
            "_view_count": null,
            "_view_module": "@jupyter-widgets/controls",
            "_view_module_version": "1.5.0",
            "_view_name": "HBoxView",
            "box_style": "",
            "children": [
              "IPY_MODEL_887375d113d4490f99bd2f13073957fc",
              "IPY_MODEL_eefcfe6d68444c4ba9581e9978feaa57",
              "IPY_MODEL_2b580faa4411483b9742957c71816810"
            ],
            "layout": "IPY_MODEL_9683f574cb50468faa59856798a1c631"
          }
        },
        "887375d113d4490f99bd2f13073957fc": {
          "model_module": "@jupyter-widgets/controls",
          "model_name": "HTMLModel",
          "model_module_version": "1.5.0",
          "state": {
            "_dom_classes": [],
            "_model_module": "@jupyter-widgets/controls",
            "_model_module_version": "1.5.0",
            "_model_name": "HTMLModel",
            "_view_count": null,
            "_view_module": "@jupyter-widgets/controls",
            "_view_module_version": "1.5.0",
            "_view_name": "HTMLView",
            "description": "",
            "description_tooltip": null,
            "layout": "IPY_MODEL_e9ea83f89f7e4d4badce6eb8d55199c3",
            "placeholder": "​",
            "style": "IPY_MODEL_4244a54c2013433f8bc6dc3ab9daf933",
            "value": "100%"
          }
        },
        "eefcfe6d68444c4ba9581e9978feaa57": {
          "model_module": "@jupyter-widgets/controls",
          "model_name": "FloatProgressModel",
          "model_module_version": "1.5.0",
          "state": {
            "_dom_classes": [],
            "_model_module": "@jupyter-widgets/controls",
            "_model_module_version": "1.5.0",
            "_model_name": "FloatProgressModel",
            "_view_count": null,
            "_view_module": "@jupyter-widgets/controls",
            "_view_module_version": "1.5.0",
            "_view_name": "ProgressView",
            "bar_style": "success",
            "description": "",
            "description_tooltip": null,
            "layout": "IPY_MODEL_a81400fb07ec4d2abe6ec9bf1b22a87b",
            "max": 50000,
            "min": 0,
            "orientation": "horizontal",
            "style": "IPY_MODEL_822cd4dd54a04f338a8df29885cf0ec6",
            "value": 50000
          }
        },
        "2b580faa4411483b9742957c71816810": {
          "model_module": "@jupyter-widgets/controls",
          "model_name": "HTMLModel",
          "model_module_version": "1.5.0",
          "state": {
            "_dom_classes": [],
            "_model_module": "@jupyter-widgets/controls",
            "_model_module_version": "1.5.0",
            "_model_name": "HTMLModel",
            "_view_count": null,
            "_view_module": "@jupyter-widgets/controls",
            "_view_module_version": "1.5.0",
            "_view_name": "HTMLView",
            "description": "",
            "description_tooltip": null,
            "layout": "IPY_MODEL_ef742819910b43038efa021282f6703c",
            "placeholder": "​",
            "style": "IPY_MODEL_ac8c0ee9acae46bc930e0d6edbf9679d",
            "value": " 50000/50000 [16:23&lt;00:00, 43.46it/s]"
          }
        },
        "9683f574cb50468faa59856798a1c631": {
          "model_module": "@jupyter-widgets/base",
          "model_name": "LayoutModel",
          "model_module_version": "1.2.0",
          "state": {
            "_model_module": "@jupyter-widgets/base",
            "_model_module_version": "1.2.0",
            "_model_name": "LayoutModel",
            "_view_count": null,
            "_view_module": "@jupyter-widgets/base",
            "_view_module_version": "1.2.0",
            "_view_name": "LayoutView",
            "align_content": null,
            "align_items": null,
            "align_self": null,
            "border": null,
            "bottom": null,
            "display": null,
            "flex": null,
            "flex_flow": null,
            "grid_area": null,
            "grid_auto_columns": null,
            "grid_auto_flow": null,
            "grid_auto_rows": null,
            "grid_column": null,
            "grid_gap": null,
            "grid_row": null,
            "grid_template_areas": null,
            "grid_template_columns": null,
            "grid_template_rows": null,
            "height": null,
            "justify_content": null,
            "justify_items": null,
            "left": null,
            "margin": null,
            "max_height": null,
            "max_width": null,
            "min_height": null,
            "min_width": null,
            "object_fit": null,
            "object_position": null,
            "order": null,
            "overflow": null,
            "overflow_x": null,
            "overflow_y": null,
            "padding": null,
            "right": null,
            "top": null,
            "visibility": null,
            "width": null
          }
        },
        "e9ea83f89f7e4d4badce6eb8d55199c3": {
          "model_module": "@jupyter-widgets/base",
          "model_name": "LayoutModel",
          "model_module_version": "1.2.0",
          "state": {
            "_model_module": "@jupyter-widgets/base",
            "_model_module_version": "1.2.0",
            "_model_name": "LayoutModel",
            "_view_count": null,
            "_view_module": "@jupyter-widgets/base",
            "_view_module_version": "1.2.0",
            "_view_name": "LayoutView",
            "align_content": null,
            "align_items": null,
            "align_self": null,
            "border": null,
            "bottom": null,
            "display": null,
            "flex": null,
            "flex_flow": null,
            "grid_area": null,
            "grid_auto_columns": null,
            "grid_auto_flow": null,
            "grid_auto_rows": null,
            "grid_column": null,
            "grid_gap": null,
            "grid_row": null,
            "grid_template_areas": null,
            "grid_template_columns": null,
            "grid_template_rows": null,
            "height": null,
            "justify_content": null,
            "justify_items": null,
            "left": null,
            "margin": null,
            "max_height": null,
            "max_width": null,
            "min_height": null,
            "min_width": null,
            "object_fit": null,
            "object_position": null,
            "order": null,
            "overflow": null,
            "overflow_x": null,
            "overflow_y": null,
            "padding": null,
            "right": null,
            "top": null,
            "visibility": null,
            "width": null
          }
        },
        "4244a54c2013433f8bc6dc3ab9daf933": {
          "model_module": "@jupyter-widgets/controls",
          "model_name": "DescriptionStyleModel",
          "model_module_version": "1.5.0",
          "state": {
            "_model_module": "@jupyter-widgets/controls",
            "_model_module_version": "1.5.0",
            "_model_name": "DescriptionStyleModel",
            "_view_count": null,
            "_view_module": "@jupyter-widgets/base",
            "_view_module_version": "1.2.0",
            "_view_name": "StyleView",
            "description_width": ""
          }
        },
        "a81400fb07ec4d2abe6ec9bf1b22a87b": {
          "model_module": "@jupyter-widgets/base",
          "model_name": "LayoutModel",
          "model_module_version": "1.2.0",
          "state": {
            "_model_module": "@jupyter-widgets/base",
            "_model_module_version": "1.2.0",
            "_model_name": "LayoutModel",
            "_view_count": null,
            "_view_module": "@jupyter-widgets/base",
            "_view_module_version": "1.2.0",
            "_view_name": "LayoutView",
            "align_content": null,
            "align_items": null,
            "align_self": null,
            "border": null,
            "bottom": null,
            "display": null,
            "flex": null,
            "flex_flow": null,
            "grid_area": null,
            "grid_auto_columns": null,
            "grid_auto_flow": null,
            "grid_auto_rows": null,
            "grid_column": null,
            "grid_gap": null,
            "grid_row": null,
            "grid_template_areas": null,
            "grid_template_columns": null,
            "grid_template_rows": null,
            "height": null,
            "justify_content": null,
            "justify_items": null,
            "left": null,
            "margin": null,
            "max_height": null,
            "max_width": null,
            "min_height": null,
            "min_width": null,
            "object_fit": null,
            "object_position": null,
            "order": null,
            "overflow": null,
            "overflow_x": null,
            "overflow_y": null,
            "padding": null,
            "right": null,
            "top": null,
            "visibility": null,
            "width": null
          }
        },
        "822cd4dd54a04f338a8df29885cf0ec6": {
          "model_module": "@jupyter-widgets/controls",
          "model_name": "ProgressStyleModel",
          "model_module_version": "1.5.0",
          "state": {
            "_model_module": "@jupyter-widgets/controls",
            "_model_module_version": "1.5.0",
            "_model_name": "ProgressStyleModel",
            "_view_count": null,
            "_view_module": "@jupyter-widgets/base",
            "_view_module_version": "1.2.0",
            "_view_name": "StyleView",
            "bar_color": null,
            "description_width": ""
          }
        },
        "ef742819910b43038efa021282f6703c": {
          "model_module": "@jupyter-widgets/base",
          "model_name": "LayoutModel",
          "model_module_version": "1.2.0",
          "state": {
            "_model_module": "@jupyter-widgets/base",
            "_model_module_version": "1.2.0",
            "_model_name": "LayoutModel",
            "_view_count": null,
            "_view_module": "@jupyter-widgets/base",
            "_view_module_version": "1.2.0",
            "_view_name": "LayoutView",
            "align_content": null,
            "align_items": null,
            "align_self": null,
            "border": null,
            "bottom": null,
            "display": null,
            "flex": null,
            "flex_flow": null,
            "grid_area": null,
            "grid_auto_columns": null,
            "grid_auto_flow": null,
            "grid_auto_rows": null,
            "grid_column": null,
            "grid_gap": null,
            "grid_row": null,
            "grid_template_areas": null,
            "grid_template_columns": null,
            "grid_template_rows": null,
            "height": null,
            "justify_content": null,
            "justify_items": null,
            "left": null,
            "margin": null,
            "max_height": null,
            "max_width": null,
            "min_height": null,
            "min_width": null,
            "object_fit": null,
            "object_position": null,
            "order": null,
            "overflow": null,
            "overflow_x": null,
            "overflow_y": null,
            "padding": null,
            "right": null,
            "top": null,
            "visibility": null,
            "width": null
          }
        },
        "ac8c0ee9acae46bc930e0d6edbf9679d": {
          "model_module": "@jupyter-widgets/controls",
          "model_name": "DescriptionStyleModel",
          "model_module_version": "1.5.0",
          "state": {
            "_model_module": "@jupyter-widgets/controls",
            "_model_module_version": "1.5.0",
            "_model_name": "DescriptionStyleModel",
            "_view_count": null,
            "_view_module": "@jupyter-widgets/base",
            "_view_module_version": "1.2.0",
            "_view_name": "StyleView",
            "description_width": ""
          }
        },
        "ffb9e23eca5d4951b188abc609fc271f": {
          "model_module": "@jupyter-widgets/controls",
          "model_name": "VBoxModel",
          "model_module_version": "1.5.0",
          "state": {
            "_dom_classes": [],
            "_model_module": "@jupyter-widgets/controls",
            "_model_module_version": "1.5.0",
            "_model_name": "VBoxModel",
            "_view_count": null,
            "_view_module": "@jupyter-widgets/controls",
            "_view_module_version": "1.5.0",
            "_view_name": "VBoxView",
            "box_style": "",
            "children": [
              "IPY_MODEL_066b19984e3b4870b10af885a64a32a9",
              "IPY_MODEL_7548eaa21c844fe3b2d751a16d6516cf"
            ],
            "layout": "IPY_MODEL_cb408b5d79304c29997906a2a1d7d0ff"
          }
        },
        "066b19984e3b4870b10af885a64a32a9": {
          "model_module": "@jupyter-widgets/controls",
          "model_name": "LabelModel",
          "model_module_version": "1.5.0",
          "state": {
            "_dom_classes": [],
            "_model_module": "@jupyter-widgets/controls",
            "_model_module_version": "1.5.0",
            "_model_name": "LabelModel",
            "_view_count": null,
            "_view_module": "@jupyter-widgets/controls",
            "_view_module_version": "1.5.0",
            "_view_name": "LabelView",
            "description": "",
            "description_tooltip": null,
            "layout": "IPY_MODEL_a6c8d34ec1e34a118a524f267dc823a5",
            "placeholder": "​",
            "style": "IPY_MODEL_7b00df1216c84d6591604834888860c3",
            "value": "0.018 MB of 0.018 MB uploaded\r"
          }
        },
        "7548eaa21c844fe3b2d751a16d6516cf": {
          "model_module": "@jupyter-widgets/controls",
          "model_name": "FloatProgressModel",
          "model_module_version": "1.5.0",
          "state": {
            "_dom_classes": [],
            "_model_module": "@jupyter-widgets/controls",
            "_model_module_version": "1.5.0",
            "_model_name": "FloatProgressModel",
            "_view_count": null,
            "_view_module": "@jupyter-widgets/controls",
            "_view_module_version": "1.5.0",
            "_view_name": "ProgressView",
            "bar_style": "",
            "description": "",
            "description_tooltip": null,
            "layout": "IPY_MODEL_45e1da8629724c95b013358f61b4a8c1",
            "max": 1,
            "min": 0,
            "orientation": "horizontal",
            "style": "IPY_MODEL_f7351757e95d46b992fdc171f3faa08e",
            "value": 1
          }
        },
        "cb408b5d79304c29997906a2a1d7d0ff": {
          "model_module": "@jupyter-widgets/base",
          "model_name": "LayoutModel",
          "model_module_version": "1.2.0",
          "state": {
            "_model_module": "@jupyter-widgets/base",
            "_model_module_version": "1.2.0",
            "_model_name": "LayoutModel",
            "_view_count": null,
            "_view_module": "@jupyter-widgets/base",
            "_view_module_version": "1.2.0",
            "_view_name": "LayoutView",
            "align_content": null,
            "align_items": null,
            "align_self": null,
            "border": null,
            "bottom": null,
            "display": null,
            "flex": null,
            "flex_flow": null,
            "grid_area": null,
            "grid_auto_columns": null,
            "grid_auto_flow": null,
            "grid_auto_rows": null,
            "grid_column": null,
            "grid_gap": null,
            "grid_row": null,
            "grid_template_areas": null,
            "grid_template_columns": null,
            "grid_template_rows": null,
            "height": null,
            "justify_content": null,
            "justify_items": null,
            "left": null,
            "margin": null,
            "max_height": null,
            "max_width": null,
            "min_height": null,
            "min_width": null,
            "object_fit": null,
            "object_position": null,
            "order": null,
            "overflow": null,
            "overflow_x": null,
            "overflow_y": null,
            "padding": null,
            "right": null,
            "top": null,
            "visibility": null,
            "width": null
          }
        },
        "a6c8d34ec1e34a118a524f267dc823a5": {
          "model_module": "@jupyter-widgets/base",
          "model_name": "LayoutModel",
          "model_module_version": "1.2.0",
          "state": {
            "_model_module": "@jupyter-widgets/base",
            "_model_module_version": "1.2.0",
            "_model_name": "LayoutModel",
            "_view_count": null,
            "_view_module": "@jupyter-widgets/base",
            "_view_module_version": "1.2.0",
            "_view_name": "LayoutView",
            "align_content": null,
            "align_items": null,
            "align_self": null,
            "border": null,
            "bottom": null,
            "display": null,
            "flex": null,
            "flex_flow": null,
            "grid_area": null,
            "grid_auto_columns": null,
            "grid_auto_flow": null,
            "grid_auto_rows": null,
            "grid_column": null,
            "grid_gap": null,
            "grid_row": null,
            "grid_template_areas": null,
            "grid_template_columns": null,
            "grid_template_rows": null,
            "height": null,
            "justify_content": null,
            "justify_items": null,
            "left": null,
            "margin": null,
            "max_height": null,
            "max_width": null,
            "min_height": null,
            "min_width": null,
            "object_fit": null,
            "object_position": null,
            "order": null,
            "overflow": null,
            "overflow_x": null,
            "overflow_y": null,
            "padding": null,
            "right": null,
            "top": null,
            "visibility": null,
            "width": null
          }
        },
        "7b00df1216c84d6591604834888860c3": {
          "model_module": "@jupyter-widgets/controls",
          "model_name": "DescriptionStyleModel",
          "model_module_version": "1.5.0",
          "state": {
            "_model_module": "@jupyter-widgets/controls",
            "_model_module_version": "1.5.0",
            "_model_name": "DescriptionStyleModel",
            "_view_count": null,
            "_view_module": "@jupyter-widgets/base",
            "_view_module_version": "1.2.0",
            "_view_name": "StyleView",
            "description_width": ""
          }
        },
        "45e1da8629724c95b013358f61b4a8c1": {
          "model_module": "@jupyter-widgets/base",
          "model_name": "LayoutModel",
          "model_module_version": "1.2.0",
          "state": {
            "_model_module": "@jupyter-widgets/base",
            "_model_module_version": "1.2.0",
            "_model_name": "LayoutModel",
            "_view_count": null,
            "_view_module": "@jupyter-widgets/base",
            "_view_module_version": "1.2.0",
            "_view_name": "LayoutView",
            "align_content": null,
            "align_items": null,
            "align_self": null,
            "border": null,
            "bottom": null,
            "display": null,
            "flex": null,
            "flex_flow": null,
            "grid_area": null,
            "grid_auto_columns": null,
            "grid_auto_flow": null,
            "grid_auto_rows": null,
            "grid_column": null,
            "grid_gap": null,
            "grid_row": null,
            "grid_template_areas": null,
            "grid_template_columns": null,
            "grid_template_rows": null,
            "height": null,
            "justify_content": null,
            "justify_items": null,
            "left": null,
            "margin": null,
            "max_height": null,
            "max_width": null,
            "min_height": null,
            "min_width": null,
            "object_fit": null,
            "object_position": null,
            "order": null,
            "overflow": null,
            "overflow_x": null,
            "overflow_y": null,
            "padding": null,
            "right": null,
            "top": null,
            "visibility": null,
            "width": null
          }
        },
        "f7351757e95d46b992fdc171f3faa08e": {
          "model_module": "@jupyter-widgets/controls",
          "model_name": "ProgressStyleModel",
          "model_module_version": "1.5.0",
          "state": {
            "_model_module": "@jupyter-widgets/controls",
            "_model_module_version": "1.5.0",
            "_model_name": "ProgressStyleModel",
            "_view_count": null,
            "_view_module": "@jupyter-widgets/base",
            "_view_module_version": "1.2.0",
            "_view_name": "StyleView",
            "bar_color": null,
            "description_width": ""
          }
        },
        "5196156a25f24e53ab4513d06206f38d": {
          "model_module": "@jupyter-widgets/controls",
          "model_name": "HBoxModel",
          "model_module_version": "1.5.0",
          "state": {
            "_dom_classes": [],
            "_model_module": "@jupyter-widgets/controls",
            "_model_module_version": "1.5.0",
            "_model_name": "HBoxModel",
            "_view_count": null,
            "_view_module": "@jupyter-widgets/controls",
            "_view_module_version": "1.5.0",
            "_view_name": "HBoxView",
            "box_style": "",
            "children": [
              "IPY_MODEL_62d32a58d7e54978811a7baa551bdb11",
              "IPY_MODEL_846a409686604869b544e591f0426ce8",
              "IPY_MODEL_46547d9cf32e4a21be195875d5ce7cd3"
            ],
            "layout": "IPY_MODEL_42190e2e834045d8b3acb1857a43eaaa"
          }
        },
        "62d32a58d7e54978811a7baa551bdb11": {
          "model_module": "@jupyter-widgets/controls",
          "model_name": "HTMLModel",
          "model_module_version": "1.5.0",
          "state": {
            "_dom_classes": [],
            "_model_module": "@jupyter-widgets/controls",
            "_model_module_version": "1.5.0",
            "_model_name": "HTMLModel",
            "_view_count": null,
            "_view_module": "@jupyter-widgets/controls",
            "_view_module_version": "1.5.0",
            "_view_name": "HTMLView",
            "description": "",
            "description_tooltip": null,
            "layout": "IPY_MODEL_928e92bd3ae64252853d328167181517",
            "placeholder": "​",
            "style": "IPY_MODEL_78da1907d701414dbce7e2215b7a343a",
            "value": "100%"
          }
        },
        "846a409686604869b544e591f0426ce8": {
          "model_module": "@jupyter-widgets/controls",
          "model_name": "FloatProgressModel",
          "model_module_version": "1.5.0",
          "state": {
            "_dom_classes": [],
            "_model_module": "@jupyter-widgets/controls",
            "_model_module_version": "1.5.0",
            "_model_name": "FloatProgressModel",
            "_view_count": null,
            "_view_module": "@jupyter-widgets/controls",
            "_view_module_version": "1.5.0",
            "_view_name": "ProgressView",
            "bar_style": "success",
            "description": "",
            "description_tooltip": null,
            "layout": "IPY_MODEL_3c0db6e982a04968a1554b098c92d2f6",
            "max": 50000,
            "min": 0,
            "orientation": "horizontal",
            "style": "IPY_MODEL_9eacefa9bb834d6f840174d9d237f3b5",
            "value": 50000
          }
        },
        "46547d9cf32e4a21be195875d5ce7cd3": {
          "model_module": "@jupyter-widgets/controls",
          "model_name": "HTMLModel",
          "model_module_version": "1.5.0",
          "state": {
            "_dom_classes": [],
            "_model_module": "@jupyter-widgets/controls",
            "_model_module_version": "1.5.0",
            "_model_name": "HTMLModel",
            "_view_count": null,
            "_view_module": "@jupyter-widgets/controls",
            "_view_module_version": "1.5.0",
            "_view_name": "HTMLView",
            "description": "",
            "description_tooltip": null,
            "layout": "IPY_MODEL_d167ff1ef172498da8b7856ad0b9f873",
            "placeholder": "​",
            "style": "IPY_MODEL_d3773f8f3da446c0b1e1115f2302402d",
            "value": " 50000/50000 [24:36&lt;00:00, 35.28it/s]"
          }
        },
        "42190e2e834045d8b3acb1857a43eaaa": {
          "model_module": "@jupyter-widgets/base",
          "model_name": "LayoutModel",
          "model_module_version": "1.2.0",
          "state": {
            "_model_module": "@jupyter-widgets/base",
            "_model_module_version": "1.2.0",
            "_model_name": "LayoutModel",
            "_view_count": null,
            "_view_module": "@jupyter-widgets/base",
            "_view_module_version": "1.2.0",
            "_view_name": "LayoutView",
            "align_content": null,
            "align_items": null,
            "align_self": null,
            "border": null,
            "bottom": null,
            "display": null,
            "flex": null,
            "flex_flow": null,
            "grid_area": null,
            "grid_auto_columns": null,
            "grid_auto_flow": null,
            "grid_auto_rows": null,
            "grid_column": null,
            "grid_gap": null,
            "grid_row": null,
            "grid_template_areas": null,
            "grid_template_columns": null,
            "grid_template_rows": null,
            "height": null,
            "justify_content": null,
            "justify_items": null,
            "left": null,
            "margin": null,
            "max_height": null,
            "max_width": null,
            "min_height": null,
            "min_width": null,
            "object_fit": null,
            "object_position": null,
            "order": null,
            "overflow": null,
            "overflow_x": null,
            "overflow_y": null,
            "padding": null,
            "right": null,
            "top": null,
            "visibility": null,
            "width": null
          }
        },
        "928e92bd3ae64252853d328167181517": {
          "model_module": "@jupyter-widgets/base",
          "model_name": "LayoutModel",
          "model_module_version": "1.2.0",
          "state": {
            "_model_module": "@jupyter-widgets/base",
            "_model_module_version": "1.2.0",
            "_model_name": "LayoutModel",
            "_view_count": null,
            "_view_module": "@jupyter-widgets/base",
            "_view_module_version": "1.2.0",
            "_view_name": "LayoutView",
            "align_content": null,
            "align_items": null,
            "align_self": null,
            "border": null,
            "bottom": null,
            "display": null,
            "flex": null,
            "flex_flow": null,
            "grid_area": null,
            "grid_auto_columns": null,
            "grid_auto_flow": null,
            "grid_auto_rows": null,
            "grid_column": null,
            "grid_gap": null,
            "grid_row": null,
            "grid_template_areas": null,
            "grid_template_columns": null,
            "grid_template_rows": null,
            "height": null,
            "justify_content": null,
            "justify_items": null,
            "left": null,
            "margin": null,
            "max_height": null,
            "max_width": null,
            "min_height": null,
            "min_width": null,
            "object_fit": null,
            "object_position": null,
            "order": null,
            "overflow": null,
            "overflow_x": null,
            "overflow_y": null,
            "padding": null,
            "right": null,
            "top": null,
            "visibility": null,
            "width": null
          }
        },
        "78da1907d701414dbce7e2215b7a343a": {
          "model_module": "@jupyter-widgets/controls",
          "model_name": "DescriptionStyleModel",
          "model_module_version": "1.5.0",
          "state": {
            "_model_module": "@jupyter-widgets/controls",
            "_model_module_version": "1.5.0",
            "_model_name": "DescriptionStyleModel",
            "_view_count": null,
            "_view_module": "@jupyter-widgets/base",
            "_view_module_version": "1.2.0",
            "_view_name": "StyleView",
            "description_width": ""
          }
        },
        "3c0db6e982a04968a1554b098c92d2f6": {
          "model_module": "@jupyter-widgets/base",
          "model_name": "LayoutModel",
          "model_module_version": "1.2.0",
          "state": {
            "_model_module": "@jupyter-widgets/base",
            "_model_module_version": "1.2.0",
            "_model_name": "LayoutModel",
            "_view_count": null,
            "_view_module": "@jupyter-widgets/base",
            "_view_module_version": "1.2.0",
            "_view_name": "LayoutView",
            "align_content": null,
            "align_items": null,
            "align_self": null,
            "border": null,
            "bottom": null,
            "display": null,
            "flex": null,
            "flex_flow": null,
            "grid_area": null,
            "grid_auto_columns": null,
            "grid_auto_flow": null,
            "grid_auto_rows": null,
            "grid_column": null,
            "grid_gap": null,
            "grid_row": null,
            "grid_template_areas": null,
            "grid_template_columns": null,
            "grid_template_rows": null,
            "height": null,
            "justify_content": null,
            "justify_items": null,
            "left": null,
            "margin": null,
            "max_height": null,
            "max_width": null,
            "min_height": null,
            "min_width": null,
            "object_fit": null,
            "object_position": null,
            "order": null,
            "overflow": null,
            "overflow_x": null,
            "overflow_y": null,
            "padding": null,
            "right": null,
            "top": null,
            "visibility": null,
            "width": null
          }
        },
        "9eacefa9bb834d6f840174d9d237f3b5": {
          "model_module": "@jupyter-widgets/controls",
          "model_name": "ProgressStyleModel",
          "model_module_version": "1.5.0",
          "state": {
            "_model_module": "@jupyter-widgets/controls",
            "_model_module_version": "1.5.0",
            "_model_name": "ProgressStyleModel",
            "_view_count": null,
            "_view_module": "@jupyter-widgets/base",
            "_view_module_version": "1.2.0",
            "_view_name": "StyleView",
            "bar_color": null,
            "description_width": ""
          }
        },
        "d167ff1ef172498da8b7856ad0b9f873": {
          "model_module": "@jupyter-widgets/base",
          "model_name": "LayoutModel",
          "model_module_version": "1.2.0",
          "state": {
            "_model_module": "@jupyter-widgets/base",
            "_model_module_version": "1.2.0",
            "_model_name": "LayoutModel",
            "_view_count": null,
            "_view_module": "@jupyter-widgets/base",
            "_view_module_version": "1.2.0",
            "_view_name": "LayoutView",
            "align_content": null,
            "align_items": null,
            "align_self": null,
            "border": null,
            "bottom": null,
            "display": null,
            "flex": null,
            "flex_flow": null,
            "grid_area": null,
            "grid_auto_columns": null,
            "grid_auto_flow": null,
            "grid_auto_rows": null,
            "grid_column": null,
            "grid_gap": null,
            "grid_row": null,
            "grid_template_areas": null,
            "grid_template_columns": null,
            "grid_template_rows": null,
            "height": null,
            "justify_content": null,
            "justify_items": null,
            "left": null,
            "margin": null,
            "max_height": null,
            "max_width": null,
            "min_height": null,
            "min_width": null,
            "object_fit": null,
            "object_position": null,
            "order": null,
            "overflow": null,
            "overflow_x": null,
            "overflow_y": null,
            "padding": null,
            "right": null,
            "top": null,
            "visibility": null,
            "width": null
          }
        },
        "d3773f8f3da446c0b1e1115f2302402d": {
          "model_module": "@jupyter-widgets/controls",
          "model_name": "DescriptionStyleModel",
          "model_module_version": "1.5.0",
          "state": {
            "_model_module": "@jupyter-widgets/controls",
            "_model_module_version": "1.5.0",
            "_model_name": "DescriptionStyleModel",
            "_view_count": null,
            "_view_module": "@jupyter-widgets/base",
            "_view_module_version": "1.2.0",
            "_view_name": "StyleView",
            "description_width": ""
          }
        },
        "f4cde96836b743e7b25d3727c30d2f94": {
          "model_module": "@jupyter-widgets/controls",
          "model_name": "VBoxModel",
          "model_module_version": "1.5.0",
          "state": {
            "_dom_classes": [],
            "_model_module": "@jupyter-widgets/controls",
            "_model_module_version": "1.5.0",
            "_model_name": "VBoxModel",
            "_view_count": null,
            "_view_module": "@jupyter-widgets/controls",
            "_view_module_version": "1.5.0",
            "_view_name": "VBoxView",
            "box_style": "",
            "children": [
              "IPY_MODEL_bf8a84318d9d4e08a6dd019cd3c7d1ef",
              "IPY_MODEL_36b2426475c44b59af7741caa441b136"
            ],
            "layout": "IPY_MODEL_1953537589b9432bbe6bc27d5851cd76"
          }
        },
        "bf8a84318d9d4e08a6dd019cd3c7d1ef": {
          "model_module": "@jupyter-widgets/controls",
          "model_name": "LabelModel",
          "model_module_version": "1.5.0",
          "state": {
            "_dom_classes": [],
            "_model_module": "@jupyter-widgets/controls",
            "_model_module_version": "1.5.0",
            "_model_name": "LabelModel",
            "_view_count": null,
            "_view_module": "@jupyter-widgets/controls",
            "_view_module_version": "1.5.0",
            "_view_name": "LabelView",
            "description": "",
            "description_tooltip": null,
            "layout": "IPY_MODEL_5bd4281b5d544b2e88d7ec52fae08239",
            "placeholder": "​",
            "style": "IPY_MODEL_35ecaa40645745c3aa32d22225157799",
            "value": "0.017 MB of 0.017 MB uploaded\r"
          }
        },
        "36b2426475c44b59af7741caa441b136": {
          "model_module": "@jupyter-widgets/controls",
          "model_name": "FloatProgressModel",
          "model_module_version": "1.5.0",
          "state": {
            "_dom_classes": [],
            "_model_module": "@jupyter-widgets/controls",
            "_model_module_version": "1.5.0",
            "_model_name": "FloatProgressModel",
            "_view_count": null,
            "_view_module": "@jupyter-widgets/controls",
            "_view_module_version": "1.5.0",
            "_view_name": "ProgressView",
            "bar_style": "",
            "description": "",
            "description_tooltip": null,
            "layout": "IPY_MODEL_7eaf3a1f1d494fadb52654d999973ce9",
            "max": 1,
            "min": 0,
            "orientation": "horizontal",
            "style": "IPY_MODEL_6222e7b638284b0ebfe1a435567df71d",
            "value": 1
          }
        },
        "1953537589b9432bbe6bc27d5851cd76": {
          "model_module": "@jupyter-widgets/base",
          "model_name": "LayoutModel",
          "model_module_version": "1.2.0",
          "state": {
            "_model_module": "@jupyter-widgets/base",
            "_model_module_version": "1.2.0",
            "_model_name": "LayoutModel",
            "_view_count": null,
            "_view_module": "@jupyter-widgets/base",
            "_view_module_version": "1.2.0",
            "_view_name": "LayoutView",
            "align_content": null,
            "align_items": null,
            "align_self": null,
            "border": null,
            "bottom": null,
            "display": null,
            "flex": null,
            "flex_flow": null,
            "grid_area": null,
            "grid_auto_columns": null,
            "grid_auto_flow": null,
            "grid_auto_rows": null,
            "grid_column": null,
            "grid_gap": null,
            "grid_row": null,
            "grid_template_areas": null,
            "grid_template_columns": null,
            "grid_template_rows": null,
            "height": null,
            "justify_content": null,
            "justify_items": null,
            "left": null,
            "margin": null,
            "max_height": null,
            "max_width": null,
            "min_height": null,
            "min_width": null,
            "object_fit": null,
            "object_position": null,
            "order": null,
            "overflow": null,
            "overflow_x": null,
            "overflow_y": null,
            "padding": null,
            "right": null,
            "top": null,
            "visibility": null,
            "width": null
          }
        },
        "5bd4281b5d544b2e88d7ec52fae08239": {
          "model_module": "@jupyter-widgets/base",
          "model_name": "LayoutModel",
          "model_module_version": "1.2.0",
          "state": {
            "_model_module": "@jupyter-widgets/base",
            "_model_module_version": "1.2.0",
            "_model_name": "LayoutModel",
            "_view_count": null,
            "_view_module": "@jupyter-widgets/base",
            "_view_module_version": "1.2.0",
            "_view_name": "LayoutView",
            "align_content": null,
            "align_items": null,
            "align_self": null,
            "border": null,
            "bottom": null,
            "display": null,
            "flex": null,
            "flex_flow": null,
            "grid_area": null,
            "grid_auto_columns": null,
            "grid_auto_flow": null,
            "grid_auto_rows": null,
            "grid_column": null,
            "grid_gap": null,
            "grid_row": null,
            "grid_template_areas": null,
            "grid_template_columns": null,
            "grid_template_rows": null,
            "height": null,
            "justify_content": null,
            "justify_items": null,
            "left": null,
            "margin": null,
            "max_height": null,
            "max_width": null,
            "min_height": null,
            "min_width": null,
            "object_fit": null,
            "object_position": null,
            "order": null,
            "overflow": null,
            "overflow_x": null,
            "overflow_y": null,
            "padding": null,
            "right": null,
            "top": null,
            "visibility": null,
            "width": null
          }
        },
        "35ecaa40645745c3aa32d22225157799": {
          "model_module": "@jupyter-widgets/controls",
          "model_name": "DescriptionStyleModel",
          "model_module_version": "1.5.0",
          "state": {
            "_model_module": "@jupyter-widgets/controls",
            "_model_module_version": "1.5.0",
            "_model_name": "DescriptionStyleModel",
            "_view_count": null,
            "_view_module": "@jupyter-widgets/base",
            "_view_module_version": "1.2.0",
            "_view_name": "StyleView",
            "description_width": ""
          }
        },
        "7eaf3a1f1d494fadb52654d999973ce9": {
          "model_module": "@jupyter-widgets/base",
          "model_name": "LayoutModel",
          "model_module_version": "1.2.0",
          "state": {
            "_model_module": "@jupyter-widgets/base",
            "_model_module_version": "1.2.0",
            "_model_name": "LayoutModel",
            "_view_count": null,
            "_view_module": "@jupyter-widgets/base",
            "_view_module_version": "1.2.0",
            "_view_name": "LayoutView",
            "align_content": null,
            "align_items": null,
            "align_self": null,
            "border": null,
            "bottom": null,
            "display": null,
            "flex": null,
            "flex_flow": null,
            "grid_area": null,
            "grid_auto_columns": null,
            "grid_auto_flow": null,
            "grid_auto_rows": null,
            "grid_column": null,
            "grid_gap": null,
            "grid_row": null,
            "grid_template_areas": null,
            "grid_template_columns": null,
            "grid_template_rows": null,
            "height": null,
            "justify_content": null,
            "justify_items": null,
            "left": null,
            "margin": null,
            "max_height": null,
            "max_width": null,
            "min_height": null,
            "min_width": null,
            "object_fit": null,
            "object_position": null,
            "order": null,
            "overflow": null,
            "overflow_x": null,
            "overflow_y": null,
            "padding": null,
            "right": null,
            "top": null,
            "visibility": null,
            "width": null
          }
        },
        "6222e7b638284b0ebfe1a435567df71d": {
          "model_module": "@jupyter-widgets/controls",
          "model_name": "ProgressStyleModel",
          "model_module_version": "1.5.0",
          "state": {
            "_model_module": "@jupyter-widgets/controls",
            "_model_module_version": "1.5.0",
            "_model_name": "ProgressStyleModel",
            "_view_count": null,
            "_view_module": "@jupyter-widgets/base",
            "_view_module_version": "1.2.0",
            "_view_name": "StyleView",
            "bar_color": null,
            "description_width": ""
          }
        }
      }
    },
    "accelerator": "GPU"
  },
  "nbformat": 4,
  "nbformat_minor": 0
}